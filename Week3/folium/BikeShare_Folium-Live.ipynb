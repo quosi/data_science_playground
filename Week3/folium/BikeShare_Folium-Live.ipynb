{
 "cells": [
  {
   "cell_type": "code",
   "execution_count": 1,
   "metadata": {},
   "outputs": [],
   "source": [
    "import pandas as pd\n",
    "import numpy as np\n",
    "import os\n",
    "import requests\n",
    "%matplotlib inline"
   ]
  },
  {
   "cell_type": "markdown",
   "metadata": {},
   "source": [
    "### Get data for all quarters of 2017 into a single dataframe."
   ]
  },
  {
   "cell_type": "code",
   "execution_count": 2,
   "metadata": {},
   "outputs": [],
   "source": [
    "PATH = '2017-capitalbikeshare-tripdata'\n",
    "\n",
    "data_2017=pd.DataFrame()\n",
    "for csv in os.listdir(path=PATH):\n",
    "    df=pd.read_csv(f'{PATH}/{csv}')\n",
    "    data_2017 = pd.concat([data_2017, df], sort=True)"
   ]
  },
  {
   "cell_type": "markdown",
   "metadata": {},
   "source": [
    "### Do our normal datetime feature engineering to get columns for month, day, hour, weekday, etc."
   ]
  },
  {
   "cell_type": "code",
   "execution_count": 3,
   "metadata": {},
   "outputs": [],
   "source": [
    "data_2017['Start date'] = pd.to_datetime(data_2017['Start date'])\n",
    "data_2017['End date'] = pd.to_datetime(data_2017['End date'])\n",
    "data_2017['Duration'] = data_2017['End date'] - data_2017['Start date']\n",
    "\n",
    "data_2017['Month'] = data_2017['Start date'].dt.month\n",
    "data_2017['Day'] = data_2017['Start date'].dt.day\n",
    "data_2017['Hour'] = data_2017['Start date'].dt.hour\n",
    "data_2017['Weekday'] = data_2017['Start date'].dt.weekday"
   ]
  },
  {
   "cell_type": "markdown",
   "metadata": {},
   "source": [
    "### Let's also grab some extra data that contains latitude / longitude for each station, and merge it onto our main dataframe."
   ]
  },
  {
   "cell_type": "code",
   "execution_count": 4,
   "metadata": {},
   "outputs": [],
   "source": [
    "response = requests.get('https://gbfs.capitalbikeshare.com/gbfs/en/station_information.json')\n",
    "stations = pd.DataFrame(response.json()['data']['stations'])"
   ]
  },
  {
   "cell_type": "code",
   "execution_count": 5,
   "metadata": {},
   "outputs": [],
   "source": [
    "#only take the columns I'm really interested in\n",
    "stations_short = stations.copy()[['lat', 'lon', 'name', 'capacity', 'short_name', 'station_id']]"
   ]
  },
  {
   "cell_type": "code",
   "execution_count": 6,
   "metadata": {},
   "outputs": [],
   "source": [
    "#was originally a string, so just need to convert it to integer\n",
    "stations_short['short_name'] = stations_short['short_name'].astype(np.int64)\n",
    "df_merged = pd.merge(data_2017, stations_short, how='inner', left_on='Start station number', right_on='short_name')"
   ]
  },
  {
   "cell_type": "code",
   "execution_count": 11,
   "metadata": {},
   "outputs": [],
   "source": [
    "import json\n",
    "\n",
    "with open('washington.geojson', mode='r') as f:\n",
    "    geojson = f.read()"
   ]
  },
  {
   "cell_type": "code",
   "execution_count": 12,
   "metadata": {},
   "outputs": [],
   "source": [
    "geojson = json.loads(geojson)"
   ]
  },
  {
   "cell_type": "code",
   "execution_count": null,
   "metadata": {},
   "outputs": [],
   "source": []
  },
  {
   "cell_type": "code",
   "execution_count": 18,
   "metadata": {},
   "outputs": [],
   "source": [
    "def get_multipolygon_coordinates(gj):\n",
    "    \n",
    "    \"\"\"From a given GeoJSON file (after it has been loaded into Python as a dictionary),\n",
    "        build a dictionary where the keys are the name of the geographic region\n",
    "        and the values are the coordinates outlining the multipolygon shape.\"\"\"\n",
    "        \n",
    "    multipolygon_dict = {}\n",
    "    \n",
    "    for f in gj['features']:\n",
    "        \n",
    "        geo_name = f['properties']['name']\n",
    "        \n",
    "        if f['geometry']['type'] == 'MultiPolygon':\n",
    "            multipolygon_dict[f\"{geo_name}\"] = f['geometry']['coordinates']\n",
    "                          \n",
    "        else:\n",
    "            multipolygon_dict[f\"{geo_name}\"] = 'ERROR'\n",
    "            print(f'{geo_name} not a valid GeoJSON MultiPolygon!')\n",
    "    \n",
    "    \n",
    "    return multipolygon_dict"
   ]
  },
  {
   "cell_type": "code",
   "execution_count": 20,
   "metadata": {},
   "outputs": [],
   "source": [
    "multipolygon_dict = get_multipolygon_coordinates(geojson)"
   ]
  },
  {
   "cell_type": "code",
   "execution_count": 21,
   "metadata": {},
   "outputs": [],
   "source": [
    "from shapely.geometry import MultiPolygon, Point"
   ]
  },
  {
   "cell_type": "code",
   "execution_count": 22,
   "metadata": {},
   "outputs": [],
   "source": [
    "def convert_to_multipolygon_objects(multipolygon_dict):\n",
    "    \n",
    "    \"\"\"\n",
    "       NOTE: This function builds off the previous one. \n",
    "       The output of the get_multipolygon_dict() function is the input to this one.\n",
    "    \n",
    "       For any given dictionary of multipolygon coordinates (e.g. created from the previous\n",
    "       get_multipolygon_coordinates() function), this function converts\n",
    "       the values of this dictionary into a valid MultiPolygon objects needed\n",
    "       by the Shapely library.\n",
    "       \n",
    "       This eventually allows us to determine whether or not a given coordinate\n",
    "       falls within a multipolygon shape.\n",
    "    \"\"\"\n",
    "    \n",
    "    for name, coordinate_list in multipolygon_dict.items():\n",
    "        \n",
    "        multipolygon = []\n",
    "        \n",
    "        #start reshaping the list of lists into the correct format\n",
    "        for pg in coordinate_list: \n",
    "            shell_parameter = []\n",
    "            holes_parameter = []\n",
    "\n",
    "            shell_layer= pg[0]\n",
    "            holes_layer = pg[1:]\n",
    "\n",
    "            for pair in shell_layer:\n",
    "                shell_parameter.append(tuple(pair))\n",
    "            for pair in holes_parameter:\n",
    "                holes_parameter.append(tuple(pair))\n",
    "\n",
    "            polygon = (shell_parameter, holes_parameter)\n",
    "            multipolygon.append(polygon)\n",
    "            \n",
    "        #overwrite the original value in the dictionary with the Shapely multipolygon object\n",
    "        multipolygon_dict[name] = MultiPolygon(multipolygon) \n",
    "  \n",
    "    return multipolygon_dict"
   ]
  },
  {
   "cell_type": "code",
   "execution_count": 24,
   "metadata": {},
   "outputs": [],
   "source": [
    "multipolygon_dict = convert_to_multipolygon_objects(multipolygon_dict)"
   ]
  },
  {
   "cell_type": "code",
   "execution_count": 39,
   "metadata": {},
   "outputs": [],
   "source": [
    "def get_neighborhood(coordinate_string):\n",
    "    \n",
    "    \"\"\"For any given string of longitude and latitude values separated by blank space\n",
    "       (see example format below), this function extracts the coordinates,\n",
    "       converts them to Shapely Point objects, and tests to see in which geographical region\n",
    "       (i.e. neighborhood) this point is located. More technically, it returns the name\n",
    "       of the MultiPolygon that contains the Point.\n",
    "       \n",
    "       Example format: '-77.0024 38.87501'\n",
    "       \n",
    "       \"\"\"\n",
    "    \n",
    "    #initialization\n",
    "    neighborhood = 'Unknown' \n",
    "    \n",
    "    lon = float(coordinate_string.split()[0])\n",
    "    lat = float(coordinate_string.split()[1])\n",
    "    \n",
    "    point = Point(lon, lat) \n",
    "    mp_dict = get_multipolygon_coordinates(geojson)\n",
    "\n",
    "    #overwrite coordinates with MultiPolygon objects\n",
    "    mp_dict = convert_to_multipolygon_objects(mp_dict) \n",
    "    \n",
    "    for name, multipolygon in mp_dict.items():\n",
    "     \n",
    "        if multipolygon.contains(point):\n",
    "            \n",
    "            neighborhood = name\n",
    " \n",
    "            break #as soon as it finds a match, break out of the loop.\n",
    "    \n",
    "    return neighborhood"
   ]
  },
  {
   "cell_type": "code",
   "execution_count": 34,
   "metadata": {},
   "outputs": [],
   "source": [
    "df_merged['lon_lat_coordinates'] = df_merged['lon'].astype(str) + ' ' + df_merged['lat'].astype(str)"
   ]
  },
  {
   "cell_type": "code",
   "execution_count": 40,
   "metadata": {},
   "outputs": [
    {
     "data": {
      "text/plain": [
       "'Capitol Hill'"
      ]
     },
     "execution_count": 40,
     "metadata": {},
     "output_type": "execute_result"
    }
   ],
   "source": [
    "get_neighborhood('-77.0024 38.87501')"
   ]
  },
  {
   "cell_type": "code",
   "execution_count": 43,
   "metadata": {},
   "outputs": [],
   "source": [
    "# df['neighborhood'] = df_merged['lon_lat_coordinates'].apply(get_neighborhood)"
   ]
  },
  {
   "cell_type": "code",
   "execution_count": 50,
   "metadata": {},
   "outputs": [],
   "source": [
    "bike_counts = df_merged.groupby(['lon_lat_coordinates'])[['Bike number']].count().reset_index().rename(columns={'Bike number': 'Count'})"
   ]
  },
  {
   "cell_type": "code",
   "execution_count": 52,
   "metadata": {},
   "outputs": [],
   "source": [
    "bike_counts['neighborhood'] = bike_counts['lon_lat_coordinates'].apply(get_neighborhood)"
   ]
  },
  {
   "cell_type": "code",
   "execution_count": 56,
   "metadata": {},
   "outputs": [],
   "source": [
    "bike_counts_final = bike_counts.groupby('neighborhood')[['Count']].sum().reset_index()"
   ]
  },
  {
   "cell_type": "code",
   "execution_count": 62,
   "metadata": {},
   "outputs": [
    {
     "data": {
      "text/html": [
       "<div>\n",
       "<style scoped>\n",
       "    .dataframe tbody tr th:only-of-type {\n",
       "        vertical-align: middle;\n",
       "    }\n",
       "\n",
       "    .dataframe tbody tr th {\n",
       "        vertical-align: top;\n",
       "    }\n",
       "\n",
       "    .dataframe thead th {\n",
       "        text-align: right;\n",
       "    }\n",
       "</style>\n",
       "<table border=\"1\" class=\"dataframe\">\n",
       "  <thead>\n",
       "    <tr style=\"text-align: right;\">\n",
       "      <th></th>\n",
       "      <th>neighborhood</th>\n",
       "      <th>Count</th>\n",
       "    </tr>\n",
       "  </thead>\n",
       "  <tbody>\n",
       "    <tr>\n",
       "      <th>0</th>\n",
       "      <td>Adams Morgan</td>\n",
       "      <td>125515</td>\n",
       "    </tr>\n",
       "    <tr>\n",
       "      <th>1</th>\n",
       "      <td>Anacostia</td>\n",
       "      <td>11615</td>\n",
       "    </tr>\n",
       "    <tr>\n",
       "      <th>2</th>\n",
       "      <td>Au-Tenleytown</td>\n",
       "      <td>7032</td>\n",
       "    </tr>\n",
       "    <tr>\n",
       "      <th>3</th>\n",
       "      <td>Brentwood</td>\n",
       "      <td>49630</td>\n",
       "    </tr>\n",
       "    <tr>\n",
       "      <th>4</th>\n",
       "      <td>Brightwood</td>\n",
       "      <td>6168</td>\n",
       "    </tr>\n",
       "  </tbody>\n",
       "</table>\n",
       "</div>"
      ],
      "text/plain": [
       "    neighborhood   Count\n",
       "0   Adams Morgan  125515\n",
       "1      Anacostia   11615\n",
       "2  Au-Tenleytown    7032\n",
       "3      Brentwood   49630\n",
       "4     Brightwood    6168"
      ]
     },
     "execution_count": 62,
     "metadata": {},
     "output_type": "execute_result"
    }
   ],
   "source": [
    "bike_counts_final.head()"
   ]
  },
  {
   "cell_type": "markdown",
   "metadata": {},
   "source": [
    "---"
   ]
  },
  {
   "cell_type": "code",
   "execution_count": 74,
   "metadata": {},
   "outputs": [],
   "source": [
    "import folium \n",
    "#pip install folium\n",
    "\n",
    "\n",
    "bike_map = folium.Map(location=[38.8867099, -77.0075084],\n",
    "                    zoom_start=12,\n",
    "                    tiles='CartoDB positron')"
   ]
  },
  {
   "cell_type": "code",
   "execution_count": 75,
   "metadata": {},
   "outputs": [
    {
     "data": {
      "text/plain": [
       "<folium.features.Choropleth at 0x1340edfd0>"
      ]
     },
     "execution_count": 75,
     "metadata": {},
     "output_type": "execute_result"
    }
   ],
   "source": [
    "#color map\n",
    "folium.Choropleth(\n",
    "    geo_data = geojson,\n",
    "    name = 'Count of Bikes',\n",
    "    data = bike_counts_final,\n",
    "    columns = ('neighborhood', 'Count'), # first col is the key, second col is the value\n",
    "    key_on = 'properties.name', \n",
    "    #tell folium which values in the geojson file itself should be mapped to the the first column above\n",
    "    fill_color = 'YlOrRd',\n",
    "    nan_fill_color = '#ededed',\n",
    "    fill_opacity = 0.5,\n",
    "    line_opacity = 0.3,\n",
    "    legend_name = 'Bike Counts 2017',\n",
    "    highlight = True\n",
    ").add_to(bike_map)"
   ]
  },
  {
   "cell_type": "code",
   "execution_count": 72,
   "metadata": {},
   "outputs": [
    {
     "data": {
      "text/plain": [
       "'Takoma Park'"
      ]
     },
     "execution_count": 72,
     "metadata": {},
     "output_type": "execute_result"
    }
   ],
   "source": [
    "geojson['features'][0]['properties']['name']"
   ]
  },
  {
   "cell_type": "code",
   "execution_count": 76,
   "metadata": {},
   "outputs": [
    {
     "data": {
      "text/html": [
       "<div style=\"width:100%;\"><div style=\"position:relative;width:100%;height:0;padding-bottom:60%;\"><iframe src=\"data:text/html;charset=utf-8;base64,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\" style=\"position:absolute;width:100%;height:100%;left:0;top:0;border:none !important;\" allowfullscreen webkitallowfullscreen mozallowfullscreen></iframe></div></div>"
      ],
      "text/plain": [
       "<folium.folium.Map at 0x1340ed9e8>"
      ]
     },
     "execution_count": 76,
     "metadata": {},
     "output_type": "execute_result"
    }
   ],
   "source": [
    "bike_map"
   ]
  },
  {
   "cell_type": "code",
   "execution_count": 77,
   "metadata": {},
   "outputs": [],
   "source": [
    "bike_map.save('bike_map_dc.html')"
   ]
  },
  {
   "cell_type": "code",
   "execution_count": null,
   "metadata": {},
   "outputs": [],
   "source": []
  }
 ],
 "metadata": {
  "kernelspec": {
   "display_name": "Python 3",
   "language": "python",
   "name": "python3"
  },
  "language_info": {
   "codemirror_mode": {
    "name": "ipython",
    "version": 3
   },
   "file_extension": ".py",
   "mimetype": "text/x-python",
   "name": "python",
   "nbconvert_exporter": "python",
   "pygments_lexer": "ipython3",
   "version": "3.6.7"
  }
 },
 "nbformat": 4,
 "nbformat_minor": 2
}
