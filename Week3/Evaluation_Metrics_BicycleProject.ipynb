{
 "cells": [
  {
   "cell_type": "markdown",
   "metadata": {},
   "source": [
    "### Difference in Error Metrics:\n",
    "- *Mean Squared Error* (**MSE**) vs. *Root Mean Squared Error* (**RMSE**) vs. *Root Mean Squared Log Error* (**RMSLE**)"
   ]
  },
  {
   "cell_type": "code",
   "execution_count": 25,
   "metadata": {},
   "outputs": [
    {
     "name": "stdout",
     "output_type": "stream",
     "text": [
      "ACTUAL: 100, PREDICTED: 80\n",
      "MSE: 400.0\n",
      "RMSE: 20.0\n",
      "RMSLE: 0.22067136216882055\n",
      "\n",
      "ACTUAL: 100, PREDICTED: 800\n",
      "MSE: 490000.0\n",
      "RMSE: 700.0\n",
      "RMSLE: 2.0707404302271\n",
      "\n",
      "ACTUAL: 10000, PREDICTED: 8000\n",
      "MSE: 4000000.0\n",
      "RMSE: 2000.0\n",
      "RMSLE: 0.22311855412639225\n",
      "\n",
      "ACTUAL: 1000, PREDICTED: 600\n",
      "MSE: 160000.0\n",
      "RMSE: 400.0\n",
      "RMSLE: 0.5101598447800129\n",
      "\n",
      "ACTUAL: 1000, PREDICTED: 1400\n",
      "MSE: 160000.0\n",
      "RMSE: 400.0\n",
      "RMSLE: 0.3361867670217862\n",
      "\n"
     ]
    }
   ],
   "source": [
    "\n",
    "import numpy as np\n",
    "from sklearn.metrics import mean_squared_log_error\n",
    "\n",
    "def mse(p,a): \n",
    "    return (p-a)**2/1\n",
    "\n",
    "def rmse(p,a):  \n",
    "    return np.sqrt((p-a)**2/1)\n",
    "\n",
    "def rmsle(p,a):\n",
    "    return np.sqrt(mean_squared_log_error(p,a))\n",
    "\n",
    "\n",
    "pred_actual_values = [(80, 100), (800, 100), (8000, 10000), (600, 1000), (1400, 1000)]\n",
    "\n",
    "for pred, actual in pred_actual_values:\n",
    "    print(f'ACTUAL: {actual}, PREDICTED: {pred}')\n",
    "    print(f'MSE: {mse(pred,actual)}')\n",
    "    print(f'RMSE: {rmse(pred,actual)}')\n",
    "    print(f'RMSLE: {rmsle([pred],[actual])}')\n",
    "    print()"
   ]
  },
  {
   "cell_type": "markdown",
   "metadata": {},
   "source": [
    "### Observations:\n",
    "- The error calculated in MSE increases exponentially with larger numbers (i.e. the difference between 800 and 1000 is a lot \"worse\" than the difference between 80 and 100, *even though the proportion is the same*).\n",
    "- The error calculated in RMSE doesn't explode as much with larger numbers (i.e. it doesn't penalize residuals on different scales)\n",
    "- As seen by comparing the last 2 outputs, the RMSLE does not penalize over-estimates as much as under-estimates! (i.e. the difference between 600 <--> 1000 and 1400 <--> 1000 is still 400, but while the other 2 metrics treat this difference in the same way, the RMSLE favors the underestimate!)"
   ]
  },
  {
   "cell_type": "code",
   "execution_count": null,
   "metadata": {},
   "outputs": [],
   "source": []
  }
 ],
 "metadata": {
  "kernelspec": {
   "display_name": "Python 3",
   "language": "python",
   "name": "python3"
  },
  "language_info": {
   "codemirror_mode": {
    "name": "ipython",
    "version": 3
   },
   "file_extension": ".py",
   "mimetype": "text/x-python",
   "name": "python",
   "nbconvert_exporter": "python",
   "pygments_lexer": "ipython3",
   "version": "3.6.7"
  }
 },
 "nbformat": 4,
 "nbformat_minor": 2
}
