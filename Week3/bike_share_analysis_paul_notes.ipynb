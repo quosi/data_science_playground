{
 "cells": [
  {
   "cell_type": "code",
   "execution_count": 1,
   "metadata": {},
   "outputs": [],
   "source": [
    "import pandas as pd\n",
    "import numpy as np\n",
    "import os\n",
    "import requests\n",
    "%matplotlib inline"
   ]
  },
  {
   "cell_type": "code",
   "execution_count": 5,
   "metadata": {},
   "outputs": [
    {
     "data": {
      "text/plain": [
       "Timestamp('2016-12-31 19:00:00-0500', tz='US/Eastern')"
      ]
     },
     "execution_count": 5,
     "metadata": {},
     "output_type": "execute_result"
    }
   ],
   "source": [
    "pd.to_datetime('1 jan 2017').tz_localize('UTC').tz_convert('US/Eastern')"
   ]
  },
  {
   "cell_type": "code",
   "execution_count": 2,
   "metadata": {},
   "outputs": [
    {
     "name": "stdout",
     "output_type": "stream",
     "text": [
      "0.25.0\n"
     ]
    }
   ],
   "source": [
    "print(pd.__version__)"
   ]
  },
  {
   "cell_type": "markdown",
   "metadata": {},
   "source": [
    "2 ways to concat: Either append all dataframes into an empty list and then concat all in one step, or create an empty dataframe initially, then concat each consecutive df to the previous one."
   ]
  },
  {
   "cell_type": "code",
   "execution_count": 3,
   "metadata": {},
   "outputs": [],
   "source": [
    "PATH = '2017-capitalbikeshare-tripdata'\n",
    "# df_list = []\n",
    "data_2017=pd.DataFrame()\n",
    "for csv in os.listdir(path=PATH):\n",
    "    df=pd.read_csv(f'{PATH}/{csv}')\n",
    "#     df_list.append(df)\n",
    "    data_2017 = pd.concat([data_2017, df], sort=True)\n",
    "    \n",
    "# data_2017 = pd.concat(df_list)"
   ]
  },
  {
   "cell_type": "code",
   "execution_count": 4,
   "metadata": {},
   "outputs": [
    {
     "data": {
      "text/plain": [
       "Bike number             0\n",
       "Duration                0\n",
       "End date                0\n",
       "End station             0\n",
       "End station number      0\n",
       "Member type             0\n",
       "Start date              0\n",
       "Start station           0\n",
       "Start station number    0\n",
       "dtype: int64"
      ]
     },
     "execution_count": 4,
     "metadata": {},
     "output_type": "execute_result"
    }
   ],
   "source": [
    "data_2017.isna().sum() #no missing data!"
   ]
  },
  {
   "cell_type": "code",
   "execution_count": 5,
   "metadata": {},
   "outputs": [],
   "source": [
    "data_2017['Start date'] = pd.to_datetime(data_2017['Start date'])\n",
    "data_2017['End date'] = pd.to_datetime(data_2017['End date'])\n",
    "data_2017['Duration'] = data_2017['End date'] - data_2017['Start date']\n",
    "\n",
    "data_2017['Month'] = data_2017['Start date'].dt.month\n",
    "data_2017['Day'] = data_2017['Start date'].dt.day\n",
    "data_2017['Hour'] = data_2017['Start date'].dt.hour\n",
    "data_2017['Weekday'] = data_2017['Start date'].dt.weekday"
   ]
  },
  {
   "cell_type": "markdown",
   "metadata": {},
   "source": [
    "---"
   ]
  },
  {
   "cell_type": "markdown",
   "metadata": {},
   "source": [
    "### DarkSky API Temperature Stuff "
   ]
  },
  {
   "cell_type": "code",
   "execution_count": null,
   "metadata": {},
   "outputs": [],
   "source": [
    "timecodes = []\n",
    "# 86400 -> seconds in a day\n",
    "for i in range(366):\n",
    "    #for whole year\n",
    "    \n",
    "    val = 1483246800 + 86400*i\n",
    "    timecodes.append(val)"
   ]
  },
  {
   "cell_type": "markdown",
   "metadata": {},
   "source": [
    "couldn't get all cause internet dropped mid-way..."
   ]
  },
  {
   "cell_type": "markdown",
   "metadata": {},
   "source": [
    "### Careful running the code below, since you only have 1000 free requests per day!!\n",
    "- **Commenting it out for safety**\n",
    "- **(Just read from the CSV saved to the disk, if you're reaching the limit for the day)**"
   ]
  },
  {
   "cell_type": "markdown",
   "metadata": {},
   "source": [
    "---"
   ]
  },
  {
   "cell_type": "code",
   "execution_count": null,
   "metadata": {},
   "outputs": [],
   "source": [
    "# temp_dfs = []\n",
    "# for i,t in enumerate(timecodes):\n",
    "    \n",
    "#     result = requests.get(f'https://api.darksky.net/forecast/a2b30bd526c3b5962010ec6b3f0dd7bc/38.904722,-77.016389,{t}')\n",
    "#     result_json = result.json()\n",
    "#     temps = pd.DataFrame(result_json['hourly']['data'])\n",
    "#     temps['time'] = pd.to_datetime(temps['time'], unit='s')\n",
    "    \n",
    "#     temp_dfs.append(temps)\n",
    "    \n",
    "#     if i % 50 == 0:\n",
    "#         percentage = i/len(timecodes) * 100\n",
    "#         print(f'{round(percentage)}% complete...')\n",
    "        \n",
    "#     elif t == timecodes[-1]:\n",
    "#         print('Done!!')\n"
   ]
  },
  {
   "cell_type": "code",
   "execution_count": null,
   "metadata": {},
   "outputs": [],
   "source": [
    "# all_temps = pd.concat(temp_dfs, sort=True)\n",
    "# all_temps.to_csv('2017_temps_almost_all.csv')"
   ]
  },
  {
   "cell_type": "markdown",
   "metadata": {},
   "source": [
    "### Careful running the code above, since you only have 1000 free requests per day!!\n",
    "**(Just pick it up from here with the CSV saved to the disk, if you're reaching the limit for the day)**"
   ]
  },
  {
   "cell_type": "code",
   "execution_count": 6,
   "metadata": {},
   "outputs": [],
   "source": [
    "all_temps = pd.read_csv('2017_temps_almost_all.csv', index_col=0)\n",
    "# all_temps['time'] = all_temps['time'].str[:-6] #just a quick fix to remove the TZ formatting from before\n",
    "all_temps['time'] = pd.to_datetime(all_temps['time'])"
   ]
  },
  {
   "cell_type": "code",
   "execution_count": 7,
   "metadata": {},
   "outputs": [],
   "source": [
    "all_temps['time'] = all_temps['time'].dt.tz_localize('UTC',nonexistent='shift_forward').dt.tz_convert(tz='US/Eastern')\n",
    "#the tz_localize makes the time aware of the fact that it has a timezone (i.e. gives it geographical awarness)\n",
    "#and then once the time is \"localized\", it can be converted to US/Eastern\n",
    "\n",
    "temps_final = all_temps[['time', 'humidity', 'temperature', 'precipIntensity', 'windSpeed', 'icon']]"
   ]
  },
  {
   "cell_type": "markdown",
   "metadata": {},
   "source": [
    "just testing..."
   ]
  },
  {
   "cell_type": "code",
   "execution_count": null,
   "metadata": {},
   "outputs": [],
   "source": [
    "# daterange_test = pd.date_range(start='jan 1 2018', end='jan 31 2018', freq='h')"
   ]
  },
  {
   "cell_type": "code",
   "execution_count": null,
   "metadata": {},
   "outputs": [],
   "source": [
    "# daterange_test.tz_localize('UTC').tz_convert('US/Eastern')"
   ]
  },
  {
   "cell_type": "code",
   "execution_count": 8,
   "metadata": {},
   "outputs": [
    {
     "data": {
      "text/html": [
       "<div>\n",
       "<style scoped>\n",
       "    .dataframe tbody tr th:only-of-type {\n",
       "        vertical-align: middle;\n",
       "    }\n",
       "\n",
       "    .dataframe tbody tr th {\n",
       "        vertical-align: top;\n",
       "    }\n",
       "\n",
       "    .dataframe thead th {\n",
       "        text-align: right;\n",
       "    }\n",
       "</style>\n",
       "<table border=\"1\" class=\"dataframe\">\n",
       "  <thead>\n",
       "    <tr style=\"text-align: right;\">\n",
       "      <th></th>\n",
       "      <th>time</th>\n",
       "      <th>humidity</th>\n",
       "      <th>temperature</th>\n",
       "      <th>precipIntensity</th>\n",
       "      <th>windSpeed</th>\n",
       "      <th>icon</th>\n",
       "    </tr>\n",
       "  </thead>\n",
       "  <tbody>\n",
       "    <tr>\n",
       "      <th>0</th>\n",
       "      <td>2017-01-01 00:00:00-05:00</td>\n",
       "      <td>0.42</td>\n",
       "      <td>44.85</td>\n",
       "      <td>0.0</td>\n",
       "      <td>3.92</td>\n",
       "      <td>partly-cloudy-night</td>\n",
       "    </tr>\n",
       "    <tr>\n",
       "      <th>1</th>\n",
       "      <td>2017-01-01 01:00:00-05:00</td>\n",
       "      <td>0.43</td>\n",
       "      <td>44.52</td>\n",
       "      <td>0.0</td>\n",
       "      <td>3.28</td>\n",
       "      <td>partly-cloudy-night</td>\n",
       "    </tr>\n",
       "    <tr>\n",
       "      <th>2</th>\n",
       "      <td>2017-01-01 02:00:00-05:00</td>\n",
       "      <td>0.46</td>\n",
       "      <td>43.37</td>\n",
       "      <td>0.0</td>\n",
       "      <td>1.53</td>\n",
       "      <td>partly-cloudy-night</td>\n",
       "    </tr>\n",
       "    <tr>\n",
       "      <th>3</th>\n",
       "      <td>2017-01-01 03:00:00-05:00</td>\n",
       "      <td>0.48</td>\n",
       "      <td>42.00</td>\n",
       "      <td>0.0</td>\n",
       "      <td>0.97</td>\n",
       "      <td>partly-cloudy-night</td>\n",
       "    </tr>\n",
       "    <tr>\n",
       "      <th>4</th>\n",
       "      <td>2017-01-01 04:00:00-05:00</td>\n",
       "      <td>0.52</td>\n",
       "      <td>40.37</td>\n",
       "      <td>0.0</td>\n",
       "      <td>0.68</td>\n",
       "      <td>clear-night</td>\n",
       "    </tr>\n",
       "  </tbody>\n",
       "</table>\n",
       "</div>"
      ],
      "text/plain": [
       "                       time  humidity  temperature  precipIntensity  \\\n",
       "0 2017-01-01 00:00:00-05:00      0.42        44.85              0.0   \n",
       "1 2017-01-01 01:00:00-05:00      0.43        44.52              0.0   \n",
       "2 2017-01-01 02:00:00-05:00      0.46        43.37              0.0   \n",
       "3 2017-01-01 03:00:00-05:00      0.48        42.00              0.0   \n",
       "4 2017-01-01 04:00:00-05:00      0.52        40.37              0.0   \n",
       "\n",
       "   windSpeed                 icon  \n",
       "0       3.92  partly-cloudy-night  \n",
       "1       3.28  partly-cloudy-night  \n",
       "2       1.53  partly-cloudy-night  \n",
       "3       0.97  partly-cloudy-night  \n",
       "4       0.68          clear-night  "
      ]
     },
     "execution_count": 8,
     "metadata": {},
     "output_type": "execute_result"
    }
   ],
   "source": [
    "temps_final.head()"
   ]
  },
  {
   "cell_type": "markdown",
   "metadata": {},
   "source": [
    "---"
   ]
  },
  {
   "cell_type": "markdown",
   "metadata": {},
   "source": [
    "### Now back to the 2017 rental data"
   ]
  },
  {
   "cell_type": "code",
   "execution_count": 10,
   "metadata": {},
   "outputs": [],
   "source": [
    "data_2017['Duration (s)'] = data_2017['Duration'] / np.timedelta64(1, 's')"
   ]
  },
  {
   "cell_type": "code",
   "execution_count": 11,
   "metadata": {},
   "outputs": [
    {
     "data": {
      "text/plain": [
       "<matplotlib.axes._subplots.AxesSubplot at 0x11017f9e8>"
      ]
     },
     "execution_count": 11,
     "metadata": {},
     "output_type": "execute_result"
    },
    {
     "data": {
      "image/png": "[encoded data removed]",
      "text/plain": [
       "<Figure size 432x288 with 1 Axes>"
      ]
     },
     "metadata": {
      "needs_background": "light"
     },
     "output_type": "display_data"
    }
   ],
   "source": [
    "data_2017.groupby('Hour')[['Duration (s)']].mean().plot.bar()"
   ]
  },
  {
   "cell_type": "code",
   "execution_count": 12,
   "metadata": {},
   "outputs": [
    {
     "data": {
      "text/plain": [
       "<matplotlib.axes._subplots.AxesSubplot at 0x127ca9748>"
      ]
     },
     "execution_count": 12,
     "metadata": {},
     "output_type": "execute_result"
    },
    {
     "data": {
      "image/png": "[encoded data removed]",
      "text/plain": [
       "<Figure size 432x288 with 1 Axes>"
      ]
     },
     "metadata": {
      "needs_background": "light"
     },
     "output_type": "display_data"
    }
   ],
   "source": [
    "import seaborn as sns\n",
    "sns.distplot(data_2017['Duration (s)'])"
   ]
  },
  {
   "cell_type": "code",
   "execution_count": 13,
   "metadata": {},
   "outputs": [],
   "source": [
    "#for getting additional information about the stations, like lat/long\n",
    "response = requests.get('https://gbfs.capitalbikeshare.com/gbfs/en/station_information.json')\n",
    "stations = pd.DataFrame(response.json()['data']['stations'])"
   ]
  },
  {
   "cell_type": "code",
   "execution_count": 14,
   "metadata": {},
   "outputs": [
    {
     "data": {
      "text/plain": [
       "array([ 41.,  42.,  40.,  44.,  43., 104., 133., 152.,  nan])"
      ]
     },
     "execution_count": 14,
     "metadata": {},
     "output_type": "execute_result"
    }
   ],
   "source": [
    "stations['region_id'].unique()"
   ]
  },
  {
   "cell_type": "code",
   "execution_count": 15,
   "metadata": {},
   "outputs": [
    {
     "data": {
      "text/html": [
       "<div>\n",
       "<style scoped>\n",
       "    .dataframe tbody tr th:only-of-type {\n",
       "        vertical-align: middle;\n",
       "    }\n",
       "\n",
       "    .dataframe tbody tr th {\n",
       "        vertical-align: top;\n",
       "    }\n",
       "\n",
       "    .dataframe thead th {\n",
       "        text-align: right;\n",
       "    }\n",
       "</style>\n",
       "<table border=\"1\" class=\"dataframe\">\n",
       "  <thead>\n",
       "    <tr style=\"text-align: right;\">\n",
       "      <th></th>\n",
       "      <th>station_id</th>\n",
       "      <th>external_id</th>\n",
       "      <th>name</th>\n",
       "      <th>short_name</th>\n",
       "      <th>lat</th>\n",
       "      <th>lon</th>\n",
       "      <th>region_id</th>\n",
       "      <th>rental_methods</th>\n",
       "      <th>capacity</th>\n",
       "      <th>rental_url</th>\n",
       "      <th>electric_bike_surcharge_waiver</th>\n",
       "      <th>eightd_has_key_dispenser</th>\n",
       "      <th>eightd_station_services</th>\n",
       "      <th>has_kiosk</th>\n",
       "    </tr>\n",
       "  </thead>\n",
       "  <tbody>\n",
       "    <tr>\n",
       "      <th>0</th>\n",
       "      <td>8</td>\n",
       "      <td>08246f1f-1f3f-11e7-bf6b-3863bb334450</td>\n",
       "      <td>Crystal City Metro / 18th St &amp; S Bell St</td>\n",
       "      <td>31007</td>\n",
       "      <td>38.857405</td>\n",
       "      <td>-77.051132</td>\n",
       "      <td>41.0</td>\n",
       "      <td>[CREDITCARD, KEY]</td>\n",
       "      <td>19</td>\n",
       "      <td>http://app.capitalbikeshare.com/vIiR/zVsfTIsOT...</td>\n",
       "      <td>False</td>\n",
       "      <td>True</td>\n",
       "      <td>[{'id': '6b85866a-618f-4b75-9a20-c34edb150fb8'...</td>\n",
       "      <td>True</td>\n",
       "    </tr>\n",
       "    <tr>\n",
       "      <th>1</th>\n",
       "      <td>53</td>\n",
       "      <td>082492e1-1f3f-11e7-bf6b-3863bb334450</td>\n",
       "      <td>21st &amp; M St NW</td>\n",
       "      <td>31212</td>\n",
       "      <td>38.905340</td>\n",
       "      <td>-77.046774</td>\n",
       "      <td>42.0</td>\n",
       "      <td>[CREDITCARD, KEY]</td>\n",
       "      <td>19</td>\n",
       "      <td>http://app.capitalbikeshare.com/vIiR/zVsfTIsOT...</td>\n",
       "      <td>False</td>\n",
       "      <td>False</td>\n",
       "      <td>[{'id': '5de25767-74ce-4d4b-b4b2-d8a51bb73295'...</td>\n",
       "      <td>True</td>\n",
       "    </tr>\n",
       "  </tbody>\n",
       "</table>\n",
       "</div>"
      ],
      "text/plain": [
       "  station_id                           external_id  \\\n",
       "0          8  08246f1f-1f3f-11e7-bf6b-3863bb334450   \n",
       "1         53  082492e1-1f3f-11e7-bf6b-3863bb334450   \n",
       "\n",
       "                                       name short_name        lat        lon  \\\n",
       "0  Crystal City Metro / 18th St & S Bell St      31007  38.857405 -77.051132   \n",
       "1                            21st & M St NW      31212  38.905340 -77.046774   \n",
       "\n",
       "   region_id     rental_methods  capacity  \\\n",
       "0       41.0  [CREDITCARD, KEY]        19   \n",
       "1       42.0  [CREDITCARD, KEY]        19   \n",
       "\n",
       "                                          rental_url  \\\n",
       "0  http://app.capitalbikeshare.com/vIiR/zVsfTIsOT...   \n",
       "1  http://app.capitalbikeshare.com/vIiR/zVsfTIsOT...   \n",
       "\n",
       "   electric_bike_surcharge_waiver  eightd_has_key_dispenser  \\\n",
       "0                           False                      True   \n",
       "1                           False                     False   \n",
       "\n",
       "                             eightd_station_services  has_kiosk  \n",
       "0  [{'id': '6b85866a-618f-4b75-9a20-c34edb150fb8'...       True  \n",
       "1  [{'id': '5de25767-74ce-4d4b-b4b2-d8a51bb73295'...       True  "
      ]
     },
     "execution_count": 15,
     "metadata": {},
     "output_type": "execute_result"
    }
   ],
   "source": [
    "stations.head(2)"
   ]
  },
  {
   "cell_type": "code",
   "execution_count": 16,
   "metadata": {},
   "outputs": [],
   "source": [
    "stations_short = stations[['lat', 'lon', 'name', 'capacity', 'short_name', 'station_id']]\n",
    "#562 unique stations total"
   ]
  },
  {
   "cell_type": "code",
   "execution_count": 17,
   "metadata": {},
   "outputs": [
    {
     "name": "stderr",
     "output_type": "stream",
     "text": [
      "/anaconda3/envs/dl/lib/python3.6/site-packages/ipykernel_launcher.py:1: SettingWithCopyWarning: \n",
      "A value is trying to be set on a copy of a slice from a DataFrame.\n",
      "Try using .loc[row_indexer,col_indexer] = value instead\n",
      "\n",
      "See the caveats in the documentation: http://pandas.pydata.org/pandas-docs/stable/user_guide/indexing.html#returning-a-view-versus-a-copy\n",
      "  \"\"\"Entry point for launching an IPython kernel.\n"
     ]
    }
   ],
   "source": [
    "stations_short['short_name'] = stations_short['short_name'].astype(np.int64)"
   ]
  },
  {
   "cell_type": "code",
   "execution_count": 18,
   "metadata": {},
   "outputs": [
    {
     "data": {
      "text/html": [
       "<div>\n",
       "<style scoped>\n",
       "    .dataframe tbody tr th:only-of-type {\n",
       "        vertical-align: middle;\n",
       "    }\n",
       "\n",
       "    .dataframe tbody tr th {\n",
       "        vertical-align: top;\n",
       "    }\n",
       "\n",
       "    .dataframe thead th {\n",
       "        text-align: right;\n",
       "    }\n",
       "</style>\n",
       "<table border=\"1\" class=\"dataframe\">\n",
       "  <thead>\n",
       "    <tr style=\"text-align: right;\">\n",
       "      <th></th>\n",
       "      <th>lat</th>\n",
       "      <th>lon</th>\n",
       "      <th>name</th>\n",
       "      <th>capacity</th>\n",
       "      <th>short_name</th>\n",
       "      <th>station_id</th>\n",
       "    </tr>\n",
       "  </thead>\n",
       "  <tbody>\n",
       "    <tr>\n",
       "      <th>0</th>\n",
       "      <td>38.857405</td>\n",
       "      <td>-77.051132</td>\n",
       "      <td>Crystal City Metro / 18th St &amp; S Bell St</td>\n",
       "      <td>19</td>\n",
       "      <td>31007</td>\n",
       "      <td>8</td>\n",
       "    </tr>\n",
       "    <tr>\n",
       "      <th>1</th>\n",
       "      <td>38.905340</td>\n",
       "      <td>-77.046774</td>\n",
       "      <td>21st &amp; M St NW</td>\n",
       "      <td>19</td>\n",
       "      <td>31212</td>\n",
       "      <td>53</td>\n",
       "    </tr>\n",
       "    <tr>\n",
       "      <th>2</th>\n",
       "      <td>38.902221</td>\n",
       "      <td>-77.059219</td>\n",
       "      <td>Georgetown Harbor / 30th St NW</td>\n",
       "      <td>19</td>\n",
       "      <td>31215</td>\n",
       "      <td>72</td>\n",
       "    </tr>\n",
       "    <tr>\n",
       "      <th>3</th>\n",
       "      <td>38.900283</td>\n",
       "      <td>-77.029822</td>\n",
       "      <td>13th St &amp; New York Ave NW</td>\n",
       "      <td>23</td>\n",
       "      <td>31227</td>\n",
       "      <td>91</td>\n",
       "    </tr>\n",
       "    <tr>\n",
       "      <th>4</th>\n",
       "      <td>38.902061</td>\n",
       "      <td>-77.038322</td>\n",
       "      <td>17th &amp; K St NW / Farragut Square</td>\n",
       "      <td>35</td>\n",
       "      <td>31233</td>\n",
       "      <td>106</td>\n",
       "    </tr>\n",
       "  </tbody>\n",
       "</table>\n",
       "</div>"
      ],
      "text/plain": [
       "         lat        lon                                      name  capacity  \\\n",
       "0  38.857405 -77.051132  Crystal City Metro / 18th St & S Bell St        19   \n",
       "1  38.905340 -77.046774                            21st & M St NW        19   \n",
       "2  38.902221 -77.059219            Georgetown Harbor / 30th St NW        19   \n",
       "3  38.900283 -77.029822                 13th St & New York Ave NW        23   \n",
       "4  38.902061 -77.038322          17th & K St NW / Farragut Square        35   \n",
       "\n",
       "   short_name station_id  \n",
       "0       31007          8  \n",
       "1       31212         53  \n",
       "2       31215         72  \n",
       "3       31227         91  \n",
       "4       31233        106  "
      ]
     },
     "execution_count": 18,
     "metadata": {},
     "output_type": "execute_result"
    }
   ],
   "source": [
    "stations_short.head()"
   ]
  },
  {
   "cell_type": "code",
   "execution_count": 19,
   "metadata": {},
   "outputs": [],
   "source": [
    "df_merged = pd.merge(data_2017, stations_short, how='inner', left_on='Start station number', right_on='short_name')\n",
    "# few stations in the main dataset didn't exist in the stations df, so doing inner merge to drop the NAs\n",
    "# alternatively, do a left join and then drop NAs"
   ]
  },
  {
   "cell_type": "code",
   "execution_count": 20,
   "metadata": {},
   "outputs": [
    {
     "data": {
      "text/plain": [
       "(3757777, 14)"
      ]
     },
     "execution_count": 20,
     "metadata": {},
     "output_type": "execute_result"
    }
   ],
   "source": [
    "data_2017.shape"
   ]
  },
  {
   "cell_type": "code",
   "execution_count": 21,
   "metadata": {},
   "outputs": [
    {
     "data": {
      "text/plain": [
       "(3751252, 20)"
      ]
     },
     "execution_count": 21,
     "metadata": {},
     "output_type": "execute_result"
    }
   ],
   "source": [
    "df_merged.shape"
   ]
  },
  {
   "cell_type": "code",
   "execution_count": null,
   "metadata": {},
   "outputs": [],
   "source": [
    "# rentals_day_location = df_merged.groupby(['Day','Start station number'])[['Bike number']].count()"
   ]
  },
  {
   "cell_type": "markdown",
   "metadata": {},
   "source": [
    "--- \n",
    "Also merging weather data onto the 2017 rental data... \n",
    "\n",
    "---"
   ]
  },
  {
   "cell_type": "code",
   "execution_count": 22,
   "metadata": {},
   "outputs": [],
   "source": [
    "### BUT FIRST WE NEED TO LOCALIZE THE TIME TO US/EASTERN, SO THAT WE CAN MERGE DATA\n",
    "df_merged['Start date TZ'] = df_merged['Start date'].dt.tz_localize('US/Eastern', ambiguous='NaT')"
   ]
  },
  {
   "cell_type": "code",
   "execution_count": 23,
   "metadata": {},
   "outputs": [],
   "source": [
    "df_merged.dropna(inplace=True) #due to some weird daylight savings time shit, lost 100 rows or so. Whatevs."
   ]
  },
  {
   "cell_type": "code",
   "execution_count": 24,
   "metadata": {},
   "outputs": [
    {
     "data": {
      "text/html": [
       "<div>\n",
       "<style scoped>\n",
       "    .dataframe tbody tr th:only-of-type {\n",
       "        vertical-align: middle;\n",
       "    }\n",
       "\n",
       "    .dataframe tbody tr th {\n",
       "        vertical-align: top;\n",
       "    }\n",
       "\n",
       "    .dataframe thead th {\n",
       "        text-align: right;\n",
       "    }\n",
       "</style>\n",
       "<table border=\"1\" class=\"dataframe\">\n",
       "  <thead>\n",
       "    <tr style=\"text-align: right;\">\n",
       "      <th></th>\n",
       "      <th>Bike number</th>\n",
       "      <th>Duration</th>\n",
       "      <th>End date</th>\n",
       "      <th>End station</th>\n",
       "      <th>End station number</th>\n",
       "      <th>Member type</th>\n",
       "      <th>Start date</th>\n",
       "      <th>Start station</th>\n",
       "      <th>Start station number</th>\n",
       "      <th>Month</th>\n",
       "      <th>...</th>\n",
       "      <th>Hour</th>\n",
       "      <th>Weekday</th>\n",
       "      <th>Duration (s)</th>\n",
       "      <th>lat</th>\n",
       "      <th>lon</th>\n",
       "      <th>name</th>\n",
       "      <th>capacity</th>\n",
       "      <th>short_name</th>\n",
       "      <th>station_id</th>\n",
       "      <th>Start date TZ</th>\n",
       "    </tr>\n",
       "  </thead>\n",
       "  <tbody>\n",
       "    <tr>\n",
       "      <th>0</th>\n",
       "      <td>W00869</td>\n",
       "      <td>00:03:42</td>\n",
       "      <td>2017-01-01 00:04:23</td>\n",
       "      <td>M St &amp; New Jersey Ave SE</td>\n",
       "      <td>31208</td>\n",
       "      <td>Member</td>\n",
       "      <td>2017-01-01 00:00:41</td>\n",
       "      <td>3rd &amp; Tingey St SE</td>\n",
       "      <td>31634</td>\n",
       "      <td>1</td>\n",
       "      <td>...</td>\n",
       "      <td>0</td>\n",
       "      <td>6</td>\n",
       "      <td>222.0</td>\n",
       "      <td>38.87501</td>\n",
       "      <td>-77.0024</td>\n",
       "      <td>3rd &amp; Tingey St SE</td>\n",
       "      <td>19</td>\n",
       "      <td>31634</td>\n",
       "      <td>273</td>\n",
       "      <td>2017-01-01 00:00:41-05:00</td>\n",
       "    </tr>\n",
       "    <tr>\n",
       "      <th>1</th>\n",
       "      <td>W21871</td>\n",
       "      <td>00:13:19</td>\n",
       "      <td>2017-01-01 12:07:37</td>\n",
       "      <td>D St &amp; Maryland Ave NE</td>\n",
       "      <td>31612</td>\n",
       "      <td>Member</td>\n",
       "      <td>2017-01-01 11:54:18</td>\n",
       "      <td>3rd &amp; Tingey St SE</td>\n",
       "      <td>31634</td>\n",
       "      <td>1</td>\n",
       "      <td>...</td>\n",
       "      <td>11</td>\n",
       "      <td>6</td>\n",
       "      <td>799.0</td>\n",
       "      <td>38.87501</td>\n",
       "      <td>-77.0024</td>\n",
       "      <td>3rd &amp; Tingey St SE</td>\n",
       "      <td>19</td>\n",
       "      <td>31634</td>\n",
       "      <td>273</td>\n",
       "      <td>2017-01-01 11:54:18-05:00</td>\n",
       "    </tr>\n",
       "  </tbody>\n",
       "</table>\n",
       "<p>2 rows × 21 columns</p>\n",
       "</div>"
      ],
      "text/plain": [
       "  Bike number Duration            End date               End station  \\\n",
       "0      W00869 00:03:42 2017-01-01 00:04:23  M St & New Jersey Ave SE   \n",
       "1      W21871 00:13:19 2017-01-01 12:07:37    D St & Maryland Ave NE   \n",
       "\n",
       "   End station number Member type          Start date       Start station  \\\n",
       "0               31208      Member 2017-01-01 00:00:41  3rd & Tingey St SE   \n",
       "1               31612      Member 2017-01-01 11:54:18  3rd & Tingey St SE   \n",
       "\n",
       "   Start station number  Month  ...  Hour  Weekday  Duration (s)       lat  \\\n",
       "0                 31634      1  ...     0        6         222.0  38.87501   \n",
       "1                 31634      1  ...    11        6         799.0  38.87501   \n",
       "\n",
       "       lon                name capacity  short_name  station_id  \\\n",
       "0 -77.0024  3rd & Tingey St SE       19       31634         273   \n",
       "1 -77.0024  3rd & Tingey St SE       19       31634         273   \n",
       "\n",
       "              Start date TZ  \n",
       "0 2017-01-01 00:00:41-05:00  \n",
       "1 2017-01-01 11:54:18-05:00  \n",
       "\n",
       "[2 rows x 21 columns]"
      ]
     },
     "execution_count": 24,
     "metadata": {},
     "output_type": "execute_result"
    }
   ],
   "source": [
    "df_merged.head(2)"
   ]
  },
  {
   "cell_type": "code",
   "execution_count": 25,
   "metadata": {},
   "outputs": [
    {
     "data": {
      "text/plain": [
       "(3751149, 21)"
      ]
     },
     "execution_count": 25,
     "metadata": {},
     "output_type": "execute_result"
    }
   ],
   "source": [
    "df_merged.shape"
   ]
  },
  {
   "cell_type": "code",
   "execution_count": 29,
   "metadata": {},
   "outputs": [
    {
     "name": "stdout",
     "output_type": "stream",
     "text": [
      "After preparing the 2017 data and merging with supplemental data, number of rows remaining:\n",
      "3751149\n"
     ]
    }
   ],
   "source": [
    "print(f'After preparing the 2017 data and merging with supplemental data, number of rows remaining:\\n\\\n",
    "{df_merged.shape[0]}')"
   ]
  },
  {
   "cell_type": "markdown",
   "metadata": {},
   "source": [
    "### Method 1: Use merge_asof to try to join them to the closest times"
   ]
  },
  {
   "cell_type": "code",
   "execution_count": 30,
   "metadata": {},
   "outputs": [],
   "source": [
    "df_merged_final_v1 = pd.merge_asof(df_merged.sort_values(by='Start date TZ'), temps_final.sort_values(by='time'), left_on='Start date TZ', right_on='time')"
   ]
  },
  {
   "cell_type": "code",
   "execution_count": 31,
   "metadata": {},
   "outputs": [
    {
     "data": {
      "text/plain": [
       "(3751149, 27)"
      ]
     },
     "execution_count": 31,
     "metadata": {},
     "output_type": "execute_result"
    }
   ],
   "source": [
    "df_merged_final_v1.shape"
   ]
  },
  {
   "cell_type": "code",
   "execution_count": 32,
   "metadata": {},
   "outputs": [
    {
     "data": {
      "text/plain": [
       "Bike number             0\n",
       "Duration                0\n",
       "End date                0\n",
       "End station             0\n",
       "End station number      0\n",
       "Member type             0\n",
       "Start date              0\n",
       "Start station           0\n",
       "Start station number    0\n",
       "Month                   0\n",
       "Day                     0\n",
       "Hour                    0\n",
       "Weekday                 0\n",
       "Duration (s)            0\n",
       "lat                     0\n",
       "lon                     0\n",
       "name                    0\n",
       "capacity                0\n",
       "short_name              0\n",
       "station_id              0\n",
       "Start date TZ           0\n",
       "time                    0\n",
       "humidity                0\n",
       "temperature             0\n",
       "precipIntensity         0\n",
       "windSpeed               0\n",
       "icon                    0\n",
       "dtype: int64"
      ]
     },
     "execution_count": 32,
     "metadata": {},
     "output_type": "execute_result"
    }
   ],
   "source": [
    "df_merged_final_v1.isna().sum() #No missing values, so it worked well!"
   ]
  },
  {
   "cell_type": "markdown",
   "metadata": {},
   "source": [
    "### Method 2: Round the 2017 data start times to the nearest hour, then merge the weather data on that (since it, too, is also on an hourly level)"
   ]
  },
  {
   "cell_type": "code",
   "execution_count": 231,
   "metadata": {},
   "outputs": [],
   "source": [
    "df_merged['Start date TZ rounded'] = df_merged['Start date TZ'].dt.floor('h')"
   ]
  },
  {
   "cell_type": "code",
   "execution_count": 232,
   "metadata": {},
   "outputs": [
    {
     "data": {
      "text/html": [
       "<div>\n",
       "<style scoped>\n",
       "    .dataframe tbody tr th:only-of-type {\n",
       "        vertical-align: middle;\n",
       "    }\n",
       "\n",
       "    .dataframe tbody tr th {\n",
       "        vertical-align: top;\n",
       "    }\n",
       "\n",
       "    .dataframe thead th {\n",
       "        text-align: right;\n",
       "    }\n",
       "</style>\n",
       "<table border=\"1\" class=\"dataframe\">\n",
       "  <thead>\n",
       "    <tr style=\"text-align: right;\">\n",
       "      <th></th>\n",
       "      <th>Bike number</th>\n",
       "      <th>Duration</th>\n",
       "      <th>End date</th>\n",
       "      <th>End station</th>\n",
       "      <th>End station number</th>\n",
       "      <th>Member type</th>\n",
       "      <th>Start date</th>\n",
       "      <th>Start station</th>\n",
       "      <th>Start station number</th>\n",
       "      <th>Month</th>\n",
       "      <th>...</th>\n",
       "      <th>Weekday</th>\n",
       "      <th>Duration (s)</th>\n",
       "      <th>lat</th>\n",
       "      <th>lon</th>\n",
       "      <th>name</th>\n",
       "      <th>capacity</th>\n",
       "      <th>short_name</th>\n",
       "      <th>station_id</th>\n",
       "      <th>Start date TZ</th>\n",
       "      <th>Start date TZ rounded</th>\n",
       "    </tr>\n",
       "  </thead>\n",
       "  <tbody>\n",
       "    <tr>\n",
       "      <th>0</th>\n",
       "      <td>W00869</td>\n",
       "      <td>00:03:42</td>\n",
       "      <td>2017-01-01 00:04:23</td>\n",
       "      <td>M St &amp; New Jersey Ave SE</td>\n",
       "      <td>31208</td>\n",
       "      <td>Member</td>\n",
       "      <td>2017-01-01 00:00:41</td>\n",
       "      <td>3rd &amp; Tingey St SE</td>\n",
       "      <td>31634</td>\n",
       "      <td>1</td>\n",
       "      <td>...</td>\n",
       "      <td>6</td>\n",
       "      <td>222.0</td>\n",
       "      <td>38.87501</td>\n",
       "      <td>-77.0024</td>\n",
       "      <td>3rd &amp; Tingey St SE</td>\n",
       "      <td>19</td>\n",
       "      <td>31634</td>\n",
       "      <td>273</td>\n",
       "      <td>2017-01-01 00:00:41-05:00</td>\n",
       "      <td>2017-01-01 00:00:00-05:00</td>\n",
       "    </tr>\n",
       "    <tr>\n",
       "      <th>1</th>\n",
       "      <td>W21871</td>\n",
       "      <td>00:13:19</td>\n",
       "      <td>2017-01-01 12:07:37</td>\n",
       "      <td>D St &amp; Maryland Ave NE</td>\n",
       "      <td>31612</td>\n",
       "      <td>Member</td>\n",
       "      <td>2017-01-01 11:54:18</td>\n",
       "      <td>3rd &amp; Tingey St SE</td>\n",
       "      <td>31634</td>\n",
       "      <td>1</td>\n",
       "      <td>...</td>\n",
       "      <td>6</td>\n",
       "      <td>799.0</td>\n",
       "      <td>38.87501</td>\n",
       "      <td>-77.0024</td>\n",
       "      <td>3rd &amp; Tingey St SE</td>\n",
       "      <td>19</td>\n",
       "      <td>31634</td>\n",
       "      <td>273</td>\n",
       "      <td>2017-01-01 11:54:18-05:00</td>\n",
       "      <td>2017-01-01 11:00:00-05:00</td>\n",
       "    </tr>\n",
       "  </tbody>\n",
       "</table>\n",
       "<p>2 rows × 22 columns</p>\n",
       "</div>"
      ],
      "text/plain": [
       "  Bike number Duration            End date               End station  \\\n",
       "0      W00869 00:03:42 2017-01-01 00:04:23  M St & New Jersey Ave SE   \n",
       "1      W21871 00:13:19 2017-01-01 12:07:37    D St & Maryland Ave NE   \n",
       "\n",
       "   End station number Member type          Start date       Start station  \\\n",
       "0               31208      Member 2017-01-01 00:00:41  3rd & Tingey St SE   \n",
       "1               31612      Member 2017-01-01 11:54:18  3rd & Tingey St SE   \n",
       "\n",
       "   Start station number  Month  ...  Weekday  Duration (s)       lat      lon  \\\n",
       "0                 31634      1  ...        6         222.0  38.87501 -77.0024   \n",
       "1                 31634      1  ...        6         799.0  38.87501 -77.0024   \n",
       "\n",
       "                 name  capacity short_name  station_id  \\\n",
       "0  3rd & Tingey St SE        19      31634         273   \n",
       "1  3rd & Tingey St SE        19      31634         273   \n",
       "\n",
       "              Start date TZ     Start date TZ rounded  \n",
       "0 2017-01-01 00:00:41-05:00 2017-01-01 00:00:00-05:00  \n",
       "1 2017-01-01 11:54:18-05:00 2017-01-01 11:00:00-05:00  \n",
       "\n",
       "[2 rows x 22 columns]"
      ]
     },
     "execution_count": 232,
     "metadata": {},
     "output_type": "execute_result"
    }
   ],
   "source": [
    "df_merged.head(2)"
   ]
  },
  {
   "cell_type": "code",
   "execution_count": 233,
   "metadata": {},
   "outputs": [],
   "source": [
    "df_merged_final_v2 = pd.merge(df_merged, temps_final, how='inner', left_on='Start date TZ rounded', right_on='time')"
   ]
  },
  {
   "cell_type": "code",
   "execution_count": 234,
   "metadata": {},
   "outputs": [
    {
     "data": {
      "text/plain": [
       "(2249378, 28)"
      ]
     },
     "execution_count": 234,
     "metadata": {},
     "output_type": "execute_result"
    }
   ],
   "source": [
    "df_merged_final_v2.shape"
   ]
  },
  {
   "cell_type": "markdown",
   "metadata": {},
   "source": [
    "**lose a lot of data this way, somehow, though!**\n",
    "- **I suspect, however, is because I wasn't able to get all the weather data from the API without being rate-limited, whereas the merge_asof method seemed to work perfectly since it merged the closest things!** "
   ]
  },
  {
   "cell_type": "markdown",
   "metadata": {},
   "source": [
    "Let's use the one with less data, since we can only train a model on what we have left after NA values, anyways!"
   ]
  },
  {
   "cell_type": "markdown",
   "metadata": {},
   "source": [
    "### Stations with highest demand"
   ]
  },
  {
   "cell_type": "code",
   "execution_count": 235,
   "metadata": {},
   "outputs": [
    {
     "data": {
      "text/plain": [
       "Start station\n",
       "Columbus Circle / Union Station         40974\n",
       "Lincoln Memorial                        40737\n",
       "Jefferson Dr & 14th St SW               39271\n",
       "Massachusetts Ave & Dupont Circle NW    29372\n",
       "Jefferson Memorial                      27399\n",
       "Name: Bike number, dtype: int64"
      ]
     },
     "execution_count": 235,
     "metadata": {},
     "output_type": "execute_result"
    }
   ],
   "source": [
    "df_merged_final_v2.groupby('Start station')['Bike number'].count().sort_values(ascending=False).head()"
   ]
  },
  {
   "cell_type": "code",
   "execution_count": 236,
   "metadata": {},
   "outputs": [
    {
     "data": {
      "text/plain": [
       "Start station number\n",
       "31623    40974\n",
       "31258    40737\n",
       "31247    39271\n",
       "31200    29372\n",
       "31249    27399\n",
       "Name: Bike number, dtype: int64"
      ]
     },
     "execution_count": 236,
     "metadata": {},
     "output_type": "execute_result"
    }
   ],
   "source": [
    "df_merged_final_v2.groupby('Start station number')['Bike number'].count().sort_values(ascending=False).head()"
   ]
  },
  {
   "cell_type": "code",
   "execution_count": 237,
   "metadata": {},
   "outputs": [],
   "source": [
    "lincoln = df_merged_final_v2[df_merged_final_v2['Start station number'] == 31258]"
   ]
  },
  {
   "cell_type": "code",
   "execution_count": 238,
   "metadata": {},
   "outputs": [
    {
     "data": {
      "text/html": [
       "<div>\n",
       "<style scoped>\n",
       "    .dataframe tbody tr th:only-of-type {\n",
       "        vertical-align: middle;\n",
       "    }\n",
       "\n",
       "    .dataframe tbody tr th {\n",
       "        vertical-align: top;\n",
       "    }\n",
       "\n",
       "    .dataframe thead th {\n",
       "        text-align: right;\n",
       "    }\n",
       "</style>\n",
       "<table border=\"1\" class=\"dataframe\">\n",
       "  <thead>\n",
       "    <tr style=\"text-align: right;\">\n",
       "      <th></th>\n",
       "      <th>Bike number</th>\n",
       "      <th>Duration</th>\n",
       "      <th>End date</th>\n",
       "      <th>End station</th>\n",
       "      <th>End station number</th>\n",
       "      <th>Member type</th>\n",
       "      <th>Start date</th>\n",
       "      <th>Start station</th>\n",
       "      <th>Start station number</th>\n",
       "      <th>Month</th>\n",
       "      <th>...</th>\n",
       "      <th>short_name</th>\n",
       "      <th>station_id</th>\n",
       "      <th>Start date TZ</th>\n",
       "      <th>Start date TZ rounded</th>\n",
       "      <th>time</th>\n",
       "      <th>humidity</th>\n",
       "      <th>temperature</th>\n",
       "      <th>precipIntensity</th>\n",
       "      <th>windSpeed</th>\n",
       "      <th>icon</th>\n",
       "    </tr>\n",
       "  </thead>\n",
       "  <tbody>\n",
       "    <tr>\n",
       "      <th>1</th>\n",
       "      <td>W00894</td>\n",
       "      <td>00:27:56</td>\n",
       "      <td>2017-01-01 00:34:49</td>\n",
       "      <td>8th &amp; D St NW</td>\n",
       "      <td>31270</td>\n",
       "      <td>Casual</td>\n",
       "      <td>2017-01-01 00:06:53</td>\n",
       "      <td>Lincoln Memorial</td>\n",
       "      <td>31258</td>\n",
       "      <td>1</td>\n",
       "      <td>...</td>\n",
       "      <td>31258</td>\n",
       "      <td>204</td>\n",
       "      <td>2017-01-01 00:06:53-05:00</td>\n",
       "      <td>2017-01-01 00:00:00-05:00</td>\n",
       "      <td>2017-01-01 00:00:00-05:00</td>\n",
       "      <td>0.42</td>\n",
       "      <td>44.85</td>\n",
       "      <td>0.0</td>\n",
       "      <td>3.92</td>\n",
       "      <td>partly-cloudy-night</td>\n",
       "    </tr>\n",
       "    <tr>\n",
       "      <th>2</th>\n",
       "      <td>W22786</td>\n",
       "      <td>00:27:16</td>\n",
       "      <td>2017-01-01 00:34:52</td>\n",
       "      <td>8th &amp; D St NW</td>\n",
       "      <td>31270</td>\n",
       "      <td>Casual</td>\n",
       "      <td>2017-01-01 00:07:36</td>\n",
       "      <td>Lincoln Memorial</td>\n",
       "      <td>31258</td>\n",
       "      <td>1</td>\n",
       "      <td>...</td>\n",
       "      <td>31258</td>\n",
       "      <td>204</td>\n",
       "      <td>2017-01-01 00:07:36-05:00</td>\n",
       "      <td>2017-01-01 00:00:00-05:00</td>\n",
       "      <td>2017-01-01 00:00:00-05:00</td>\n",
       "      <td>0.42</td>\n",
       "      <td>44.85</td>\n",
       "      <td>0.0</td>\n",
       "      <td>3.92</td>\n",
       "      <td>partly-cloudy-night</td>\n",
       "    </tr>\n",
       "  </tbody>\n",
       "</table>\n",
       "<p>2 rows × 28 columns</p>\n",
       "</div>"
      ],
      "text/plain": [
       "  Bike number Duration            End date    End station  End station number  \\\n",
       "1      W00894 00:27:56 2017-01-01 00:34:49  8th & D St NW               31270   \n",
       "2      W22786 00:27:16 2017-01-01 00:34:52  8th & D St NW               31270   \n",
       "\n",
       "  Member type          Start date     Start station  Start station number  \\\n",
       "1      Casual 2017-01-01 00:06:53  Lincoln Memorial                 31258   \n",
       "2      Casual 2017-01-01 00:07:36  Lincoln Memorial                 31258   \n",
       "\n",
       "   Month  ...  short_name  station_id             Start date TZ  \\\n",
       "1      1  ...       31258         204 2017-01-01 00:06:53-05:00   \n",
       "2      1  ...       31258         204 2017-01-01 00:07:36-05:00   \n",
       "\n",
       "      Start date TZ rounded                      time  humidity temperature  \\\n",
       "1 2017-01-01 00:00:00-05:00 2017-01-01 00:00:00-05:00      0.42       44.85   \n",
       "2 2017-01-01 00:00:00-05:00 2017-01-01 00:00:00-05:00      0.42       44.85   \n",
       "\n",
       "   precipIntensity  windSpeed                 icon  \n",
       "1              0.0       3.92  partly-cloudy-night  \n",
       "2              0.0       3.92  partly-cloudy-night  \n",
       "\n",
       "[2 rows x 28 columns]"
      ]
     },
     "execution_count": 238,
     "metadata": {},
     "output_type": "execute_result"
    }
   ],
   "source": [
    "lincoln.head(2)"
   ]
  },
  {
   "cell_type": "code",
   "execution_count": 283,
   "metadata": {},
   "outputs": [],
   "source": [
    "features = [\n",
    "            'Month', \n",
    "#             'Day', \n",
    "            'Hour', \n",
    "            'Weekday',\n",
    "            'humidity', \n",
    "            'temperature', \n",
    "#             'precipIntensity', \n",
    "#             'windSpeed', \n",
    "#             'icon'\n",
    "    \n",
    "]"
   ]
  },
  {
   "cell_type": "code",
   "execution_count": 284,
   "metadata": {},
   "outputs": [],
   "source": [
    "lincoln_data = lincoln.groupby(features)['Bike number'].count().reset_index().rename(columns={'Bike number': 'Rental Count'})"
   ]
  },
  {
   "cell_type": "code",
   "execution_count": 285,
   "metadata": {},
   "outputs": [],
   "source": [
    "# sns.heatmap(lincoln_data.corr())"
   ]
  },
  {
   "cell_type": "code",
   "execution_count": 286,
   "metadata": {},
   "outputs": [],
   "source": [
    "# lincoln_data.groupby('icon')['Rental Count'].mean().sort_values().plot.bar()"
   ]
  },
  {
   "cell_type": "code",
   "execution_count": 288,
   "metadata": {},
   "outputs": [],
   "source": [
    "### Based on the above hierarchy, maybe I can factorize the icons based on those numbers?\n",
    "d = {'sleet':1,\n",
    "     'snow': 2,\n",
    "     'fog': 3,\n",
    "     'rain': 4,\n",
    "     'partly-cloudy-night':5,\n",
    "     'clear-night':6,\n",
    "     'cloudy':7, \n",
    "     'clear-day':8, \n",
    "     'partly-cloudy-day':9}\n",
    "\n",
    "# lincoln_data['icon'] = lincoln_data['icon'].map(d)"
   ]
  },
  {
   "cell_type": "code",
   "execution_count": 309,
   "metadata": {},
   "outputs": [
    {
     "data": {
      "image/png": "[encoded data removed]",
      "text/plain": [
       "<Figure size 432x288 with 1 Axes>"
      ]
     },
     "metadata": {
      "needs_background": "light"
     },
     "output_type": "display_data"
    },
    {
     "data": {
      "image/png": "[encoded data removed]",
      "text/plain": [
       "<Figure size 432x288 with 1 Axes>"
      ]
     },
     "metadata": {
      "needs_background": "light"
     },
     "output_type": "display_data"
    },
    {
     "data": {
      "image/png": "[encoded data removed]",
      "text/plain": [
       "<Figure size 432x288 with 1 Axes>"
      ]
     },
     "metadata": {
      "needs_background": "light"
     },
     "output_type": "display_data"
    },
    {
     "data": {
      "image/png": "[encoded data removed]",
      "text/plain": [
       "<Figure size 432x288 with 1 Axes>"
      ]
     },
     "metadata": {
      "needs_background": "light"
     },
     "output_type": "display_data"
    },
    {
     "data": {
      "image/png": "[encoded data removed]",
      "text/plain": [
       "<Figure size 432x288 with 1 Axes>"
      ]
     },
     "metadata": {
      "needs_background": "light"
     },
     "output_type": "display_data"
    },
    {
     "data": {
      "image/png": "[encoded data removed]",
      "text/plain": [
       "<Figure size 432x288 with 1 Axes>"
      ]
     },
     "metadata": {
      "needs_background": "light"
     },
     "output_type": "display_data"
    }
   ],
   "source": [
    "import matplotlib.pyplot as plt\n",
    "for col in lincoln_data.columns:\n",
    "    plt.figure()\n",
    "    lincoln_data.groupby(col)['Rental Count'].mean().plot()\n",
    "    plt.title(f'Rental Count vs. {col}')\n",
    "    "
   ]
  },
  {
   "cell_type": "code",
   "execution_count": 290,
   "metadata": {},
   "outputs": [],
   "source": [
    "lincoln_X = lincoln_data.loc[:, lincoln_data.columns != 'Rental Count']\n",
    "lincoln_y = lincoln_data['Rental Count']"
   ]
  },
  {
   "cell_type": "code",
   "execution_count": 291,
   "metadata": {},
   "outputs": [],
   "source": [
    "# lincoln_X.head()"
   ]
  },
  {
   "cell_type": "code",
   "execution_count": 292,
   "metadata": {},
   "outputs": [],
   "source": [
    "# lincoln_data.groupby(['Weekday','Hour'])['Rental Count'].sum().plot()"
   ]
  },
  {
   "cell_type": "code",
   "execution_count": 293,
   "metadata": {},
   "outputs": [],
   "source": [
    "from sklearn.model_selection import train_test_split"
   ]
  },
  {
   "cell_type": "code",
   "execution_count": 294,
   "metadata": {},
   "outputs": [],
   "source": [
    "lincoln_X_train, lincoln_X_test, lincoln_y_train, lincoln_y_test = train_test_split(lincoln_X, lincoln_y)"
   ]
  },
  {
   "cell_type": "code",
   "execution_count": 295,
   "metadata": {},
   "outputs": [
    {
     "data": {
      "text/plain": [
       "((2641, 5), (881, 5), (2641,), (881,))"
      ]
     },
     "execution_count": 295,
     "metadata": {},
     "output_type": "execute_result"
    }
   ],
   "source": [
    "lincoln_X_train.shape, lincoln_X_test.shape, lincoln_y_train.shape, lincoln_y_test.shape"
   ]
  },
  {
   "cell_type": "code",
   "execution_count": 296,
   "metadata": {},
   "outputs": [],
   "source": [
    "from sklearn.ensemble import RandomForestRegressor, GradientBoostingRegressor, AdaBoostRegressor\n",
    "from sklearn.linear_model import LinearRegression\n",
    "\n",
    "models=[RandomForestRegressor(), \n",
    "        AdaBoostRegressor(), \n",
    "        GradientBoostingRegressor(),\n",
    "        LinearRegression()\n",
    "       ]\n",
    "model_names=['RandomForestRegressor',\n",
    "             'AdaBoostRegressor',\n",
    "             'GradientBoostingRegressor',\n",
    "             'LinearRegression'\n",
    "            ]"
   ]
  },
  {
   "cell_type": "code",
   "execution_count": 297,
   "metadata": {},
   "outputs": [
    {
     "name": "stderr",
     "output_type": "stream",
     "text": [
      "/anaconda3/envs/dl/lib/python3.6/site-packages/sklearn/ensemble/forest.py:248: FutureWarning: The default value of n_estimators will change from 10 in version 0.20 to 100 in 0.22.\n",
      "  \"10 in version 0.20 to 100 in 0.22.\", FutureWarning)\n"
     ]
    },
    {
     "data": {
      "text/html": [
       "<div>\n",
       "<style scoped>\n",
       "    .dataframe tbody tr th:only-of-type {\n",
       "        vertical-align: middle;\n",
       "    }\n",
       "\n",
       "    .dataframe tbody tr th {\n",
       "        vertical-align: top;\n",
       "    }\n",
       "\n",
       "    .dataframe thead th {\n",
       "        text-align: right;\n",
       "    }\n",
       "</style>\n",
       "<table border=\"1\" class=\"dataframe\">\n",
       "  <thead>\n",
       "    <tr style=\"text-align: right;\">\n",
       "      <th></th>\n",
       "      <th>Model</th>\n",
       "      <th>R-Squared Train</th>\n",
       "      <th>R-Squared Test</th>\n",
       "    </tr>\n",
       "  </thead>\n",
       "  <tbody>\n",
       "    <tr>\n",
       "      <th>0</th>\n",
       "      <td>RandomForestRegressor</td>\n",
       "      <td>0.932374</td>\n",
       "      <td>0.579305</td>\n",
       "    </tr>\n",
       "    <tr>\n",
       "      <th>1</th>\n",
       "      <td>AdaBoostRegressor</td>\n",
       "      <td>0.528633</td>\n",
       "      <td>0.454477</td>\n",
       "    </tr>\n",
       "    <tr>\n",
       "      <th>2</th>\n",
       "      <td>GradientBoostingRegressor</td>\n",
       "      <td>0.676595</td>\n",
       "      <td>0.594132</td>\n",
       "    </tr>\n",
       "    <tr>\n",
       "      <th>3</th>\n",
       "      <td>LinearRegression</td>\n",
       "      <td>0.373225</td>\n",
       "      <td>0.354957</td>\n",
       "    </tr>\n",
       "  </tbody>\n",
       "</table>\n",
       "</div>"
      ],
      "text/plain": [
       "                       Model  R-Squared Train  R-Squared Test\n",
       "0      RandomForestRegressor         0.932374        0.579305\n",
       "1          AdaBoostRegressor         0.528633        0.454477\n",
       "2  GradientBoostingRegressor         0.676595        0.594132\n",
       "3           LinearRegression         0.373225        0.354957"
      ]
     },
     "execution_count": 297,
     "metadata": {},
     "output_type": "execute_result"
    }
   ],
   "source": [
    "# RMSLE_vals = [] # ROOT MEAN SQUARED LOG ERROR\n",
    "r_squared_train_vals = []\n",
    "r_squared_test_vals = []\n",
    "results = {}\n",
    "\n",
    "for i, model in enumerate(models):\n",
    "    m=models[i]\n",
    "    m.fit(lincoln_X_train, lincoln_y_train)\n",
    "    rtrain = m.score(lincoln_X_train, lincoln_y_train)\n",
    "    r_squared_train_vals.append(rtrain)\n",
    "    \n",
    "    rtest = m.score(lincoln_X_test, lincoln_y_test)\n",
    "    r_squared_test_vals.append(rtest)\n",
    "#     ypred = m.predict(Xtest)\n",
    "    \n",
    "    \n",
    "    \n",
    "#     rmsle = np.sqrt(mean_squared_log_error(ypred, ytest))\n",
    "#     RMSLE_vals.append(rmsle)\n",
    "    \n",
    "results={'Model':model_names,'R-Squared Train':r_squared_train_vals, 'R-Squared Test':r_squared_test_vals} \n",
    "pd.DataFrame(results) ### FINAL RESULTS"
   ]
  },
  {
   "cell_type": "markdown",
   "metadata": {},
   "source": [
    "^Obviously pretty crap, but of course i've hardly done any feature eng. or model optimization. Some other ideas: try not to create a model for one particular station, but rather a model for each neighborhood / block / region. Also could try out doing a proper time-series analysis (e.g. exponential smoothing, ARIMA, fbprophet). But as a proof of concept this is a pretty fun & interesting data set with lots of potential."
   ]
  },
  {
   "cell_type": "code",
   "execution_count": 221,
   "metadata": {},
   "outputs": [],
   "source": [
    "# from sklearn.metrics import mean_squared_log_error\n",
    "\n",
    "# ypred = rf.predict(lincoln_X_test)\n",
    "\n",
    "# rmsle = np.sqrt(mean_squared_log_error(ypred, lincoln_y_test))\n",
    "\n",
    "# rmsle"
   ]
  },
  {
   "cell_type": "code",
   "execution_count": 304,
   "metadata": {},
   "outputs": [
    {
     "data": {
      "text/plain": [
       "Index(['Bike number', 'Duration', 'End date', 'End station',\n",
       "       'End station number', 'Member type', 'Start date', 'Start station',\n",
       "       'Start station number', 'Month', 'Day', 'Hour', 'Weekday',\n",
       "       'Duration (s)', 'lat', 'lon', 'name', 'capacity', 'short_name',\n",
       "       'station_id', 'Start date TZ', 'Start date TZ rounded'],\n",
       "      dtype='object')"
      ]
     },
     "execution_count": 304,
     "metadata": {},
     "output_type": "execute_result"
    }
   ],
   "source": [
    "df_merged.columns"
   ]
  },
  {
   "cell_type": "code",
   "execution_count": 307,
   "metadata": {},
   "outputs": [
    {
     "data": {
      "text/plain": [
       "<matplotlib.axes._subplots.AxesSubplot at 0x112e01a58>"
      ]
     },
     "execution_count": 307,
     "metadata": {},
     "output_type": "execute_result"
    },
    {
     "data": {
      "image/png": "[encoded data removed]",
      "text/plain": [
       "<Figure size 432x288 with 1 Axes>"
      ]
     },
     "metadata": {
      "needs_background": "light"
     },
     "output_type": "display_data"
    }
   ],
   "source": [
    "df_merged[df_merged['Member type'] == 'Casual'].groupby(['Month', 'Day'])['Bike number'].count().plot()"
   ]
  },
  {
   "cell_type": "code",
   "execution_count": 308,
   "metadata": {},
   "outputs": [
    {
     "data": {
      "text/plain": [
       "<matplotlib.axes._subplots.AxesSubplot at 0x112ca1198>"
      ]
     },
     "execution_count": 308,
     "metadata": {},
     "output_type": "execute_result"
    },
    {
     "data": {
      "image/png": "[encoded data removed]",
      "text/plain": [
       "<Figure size 432x288 with 1 Axes>"
      ]
     },
     "metadata": {
      "needs_background": "light"
     },
     "output_type": "display_data"
    }
   ],
   "source": [
    "df_merged[df_merged['Member type'] == 'Member'].groupby(['Month', 'Day'])['Bike number'].count().plot()"
   ]
  },
  {
   "cell_type": "code",
   "execution_count": 313,
   "metadata": {},
   "outputs": [
    {
     "data": {
      "text/plain": [
       "Index(['Bike number', 'Duration', 'End date', 'End station',\n",
       "       'End station number', 'Member type', 'Start date', 'Start station',\n",
       "       'Start station number', 'Month', 'Day', 'Hour', 'Weekday',\n",
       "       'Duration (s)', 'lat', 'lon', 'name', 'capacity', 'short_name',\n",
       "       'station_id', 'Start date TZ', 'Start date TZ rounded'],\n",
       "      dtype='object')"
      ]
     },
     "execution_count": 313,
     "metadata": {},
     "output_type": "execute_result"
    }
   ],
   "source": [
    "df_merged.columns"
   ]
  },
  {
   "cell_type": "code",
   "execution_count": null,
   "metadata": {},
   "outputs": [],
   "source": []
  }
 ],
 "metadata": {
  "kernelspec": {
   "display_name": "Python 3",
   "language": "python",
   "name": "python3"
  },
  "language_info": {
   "codemirror_mode": {
    "name": "ipython",
    "version": 3
   },
   "file_extension": ".py",
   "mimetype": "text/x-python",
   "name": "python",
   "nbconvert_exporter": "python",
   "pygments_lexer": "ipython3",
   "version": "3.6.7"
  }
 },
 "nbformat": 4,
 "nbformat_minor": 2
}
