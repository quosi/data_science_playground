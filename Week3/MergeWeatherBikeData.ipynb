{
 "cells": [
  {
   "cell_type": "markdown",
   "metadata": {},
   "source": [
    "### Ways to merge DarkSky API data onto Capital Bikeshare 2017 data set."
   ]
  },
  {
   "cell_type": "markdown",
   "metadata": {},
   "source": [
    "#### Step 1: Get BikeShare data"
   ]
  },
  {
   "cell_type": "code",
   "execution_count": 1,
   "metadata": {},
   "outputs": [],
   "source": [
    "import pandas as pd\n",
    "import numpy as np\n",
    "import os\n",
    "import requests\n",
    "%matplotlib inline\n",
    "\n",
    "PATH = '2017-capitalbikeshare-tripdata'\n",
    "\n",
    "data_2017=pd.DataFrame()\n",
    "for csv in os.listdir(path=PATH):\n",
    "    df=pd.read_csv(f'{PATH}/{csv}')\n",
    "    data_2017 = pd.concat([data_2017, df], sort=True)\n",
    "\n",
    "data_2017['Start date'] = pd.to_datetime(data_2017['Start date'])\n",
    "data_2017['End date'] = pd.to_datetime(data_2017['End date'])\n",
    "data_2017['Duration'] = data_2017['End date'] - data_2017['Start date']\n",
    "\n",
    "data_2017['Month'] = data_2017['Start date'].dt.month\n",
    "data_2017['Day'] = data_2017['Start date'].dt.day\n",
    "data_2017['Hour'] = data_2017['Start date'].dt.hour\n",
    "data_2017['Weekday'] = data_2017['Start date'].dt.weekday\n",
    "\n",
    "response = requests.get('https://gbfs.capitalbikeshare.com/gbfs/en/station_information.json')\n",
    "stations = pd.DataFrame(response.json()['data']['stations'])\n",
    "stations_short = stations.copy()[['lat', 'lon', 'name', 'capacity', 'short_name', 'station_id']]\n",
    "\n",
    "stations_short['short_name'] = stations_short['short_name'].astype(np.int64)\n",
    "df_merged = pd.merge(data_2017, stations_short, how='inner', left_on='Start station number', right_on='short_name')"
   ]
  },
  {
   "cell_type": "markdown",
   "metadata": {},
   "source": [
    "### Step 2: Get weather data from Carolina"
   ]
  },
  {
   "cell_type": "code",
   "execution_count": 4,
   "metadata": {},
   "outputs": [],
   "source": [
    "weather = pd.read_csv('/Users/PaulWlodkowski/Downloads/allweather.csv', index_col=0)\n",
    "weather['datetime'] = pd.to_datetime(weather['time'], unit='s')"
   ]
  },
  {
   "cell_type": "markdown",
   "metadata": {},
   "source": [
    "### Step 3: Convert weather datetime column to DC time"
   ]
  },
  {
   "cell_type": "code",
   "execution_count": 28,
   "metadata": {},
   "outputs": [],
   "source": [
    "weather['datetime DC'] = weather['datetime'].dt.tz_localize('UTC').dt.tz_convert('US/Eastern').dt.tz_localize(None)"
   ]
  },
  {
   "cell_type": "markdown",
   "metadata": {},
   "source": [
    "### Step 4: MERGE!"
   ]
  },
  {
   "cell_type": "markdown",
   "metadata": {},
   "source": [
    "**Option 1**: ``pd.merge_asof()``"
   ]
  },
  {
   "cell_type": "code",
   "execution_count": 42,
   "metadata": {},
   "outputs": [],
   "source": [
    "merge_v1 = pd.merge_asof(df_merged.sort_values(by='Start date'), weather, left_on='Start date', right_on='datetime DC')"
   ]
  },
  {
   "cell_type": "markdown",
   "metadata": {},
   "source": [
    "---"
   ]
  },
  {
   "cell_type": "markdown",
   "metadata": {},
   "source": [
    "**Option 2**: Round (or floor) datetimes in bikeshare data, then just use regular ``pd.merge``"
   ]
  },
  {
   "cell_type": "code",
   "execution_count": 55,
   "metadata": {},
   "outputs": [],
   "source": [
    "df_merged['Start date rounded'] = df_merged['Start date'].dt.round('h')\n",
    "\n",
    "df_merged['Start date floored'] = df_merged['Start date'].dt.floor('h')\n",
    "\n",
    "merge_v2 = pd.merge(df_merged, weather, left_on='Start date rounded', right_on='datetime DC')"
   ]
  },
  {
   "cell_type": "markdown",
   "metadata": {},
   "source": [
    "---"
   ]
  },
  {
   "cell_type": "markdown",
   "metadata": {},
   "source": [
    "### Conclusion:\n",
    "- **Both methods seem to work equally well :)**"
   ]
  },
  {
   "cell_type": "code",
   "execution_count": null,
   "metadata": {},
   "outputs": [],
   "source": []
  }
 ],
 "metadata": {
  "kernelspec": {
   "display_name": "Python 3",
   "language": "python",
   "name": "python3"
  },
  "language_info": {
   "codemirror_mode": {
    "name": "ipython",
    "version": 3
   },
   "file_extension": ".py",
   "mimetype": "text/x-python",
   "name": "python",
   "nbconvert_exporter": "python",
   "pygments_lexer": "ipython3",
   "version": "3.6.7"
  }
 },
 "nbformat": 4,
 "nbformat_minor": 2
}
