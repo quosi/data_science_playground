{
 "cells": [
  {
   "cell_type": "markdown",
   "metadata": {},
   "source": [
    "1. Code must run top-down\n",
    "2. Comment out / delete all code that only shows output / view \n",
    "3. Get our code out of Jupyter"
   ]
  },
  {
   "cell_type": "code",
   "execution_count": 1,
   "metadata": {},
   "outputs": [],
   "source": [
    "import requests\n",
    "import pandas as pd"
   ]
  },
  {
   "cell_type": "code",
   "execution_count": 2,
   "metadata": {},
   "outputs": [],
   "source": [
    "SECRET_KEY = 'a2b30bd526c3b5962010ec6b3f0dd7bc'\n",
    "LATITUDE = '38.8935124'\n",
    "LONGITUDE = '-77.1550059'\n",
    "TIMESTAMP = '1483246800' #seconds\n",
    "#if I want the next day, I need to add 86400 to the timestamp"
   ]
  },
  {
   "cell_type": "markdown",
   "metadata": {},
   "source": [
    "### We need to get a timestamp for Jan 1. 2017, 00:00:00"
   ]
  },
  {
   "cell_type": "code",
   "execution_count": 3,
   "metadata": {},
   "outputs": [],
   "source": [
    "# url = f'https://api.darksky.net/forecast/{SECRET_KEY}/{LATITUDE},{LONGITUDE},{TIMESTAMP}'\n",
    "# result = requests.get(url)\n",
    "# result_json = result.json()\n",
    "# final_result = pd.DataFrame(result_json['hourly']['data'])"
   ]
  },
  {
   "cell_type": "code",
   "execution_count": 4,
   "metadata": {},
   "outputs": [],
   "source": [
    "# pd.DataFrame(final_result).head()"
   ]
  },
  {
   "cell_type": "code",
   "execution_count": 5,
   "metadata": {},
   "outputs": [],
   "source": [
    "timestamps = []\n",
    "\n",
    "for i in range(5): #arbitrary range\n",
    "    \n",
    "    t = 1483246800 + i*86400\n",
    "    timestamps.append(str(t))"
   ]
  },
  {
   "cell_type": "code",
   "execution_count": 6,
   "metadata": {},
   "outputs": [],
   "source": [
    "dfs = []\n",
    "\n",
    "for t in timestamps:\n",
    "\n",
    "    url = f'https://api.darksky.net/forecast/{SECRET_KEY}/{LATITUDE},{LONGITUDE},{t}'\n",
    "    result = requests.get(url)\n",
    "    result_json = result.json()\n",
    "    final_result = pd.DataFrame(result_json['hourly']['data'])\n",
    "    dfs.append(final_result)"
   ]
  },
  {
   "cell_type": "code",
   "execution_count": 7,
   "metadata": {},
   "outputs": [],
   "source": [
    "all_weather = pd.concat(dfs, sort=True)"
   ]
  },
  {
   "cell_type": "code",
   "execution_count": 8,
   "metadata": {},
   "outputs": [],
   "source": [
    "all_weather.set_index('time', inplace=True)"
   ]
  },
  {
   "cell_type": "code",
   "execution_count": null,
   "metadata": {},
   "outputs": [],
   "source": []
  }
 ],
 "metadata": {
  "kernelspec": {
   "display_name": "Python 3",
   "language": "python",
   "name": "python3"
  },
  "language_info": {
   "codemirror_mode": {
    "name": "ipython",
    "version": 3
   },
   "file_extension": ".py",
   "mimetype": "text/x-python",
   "name": "python",
   "nbconvert_exporter": "python",
   "pygments_lexer": "ipython3",
   "version": "3.6.7"
  }
 },
 "nbformat": 4,
 "nbformat_minor": 2
}
