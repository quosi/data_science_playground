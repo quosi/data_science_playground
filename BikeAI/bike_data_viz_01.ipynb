{
 "cells": [
  {
   "cell_type": "code",
   "execution_count": 1,
   "metadata": {},
   "outputs": [],
   "source": [
    "import pandas as pd"
   ]
  },
  {
   "cell_type": "code",
   "execution_count": 2,
   "metadata": {},
   "outputs": [
    {
     "data": {
      "text/plain": [
       "(646510, 9)"
      ]
     },
     "execution_count": 2,
     "metadata": {},
     "output_type": "execute_result"
    }
   ],
   "source": [
    "df_q2 = pd.read_csv('capital_bike_data/2017_capitalbike_data/2017Q2-capitalbikeshare-tripdata.csv')\n",
    "df_q1 = pd.read_csv('capital_bike_data/2017_capitalbike_data/2017Q1-capitalbikeshare-tripdata.csv')\n",
    "df_q1.shape"
   ]
  },
  {
   "cell_type": "code",
   "execution_count": 3,
   "metadata": {},
   "outputs": [],
   "source": [
    "df_q4 = pd.read_csv('capital_bike_data/2017_capitalbike_data/2017Q4-capitalbikeshare-tripdata.csv')\n",
    "df_q3 = pd.read_csv('capital_bike_data/2017_capitalbike_data/2017Q3-capitalbikeshare-tripdata.csv')"
   ]
  },
  {
   "cell_type": "code",
   "execution_count": 4,
   "metadata": {},
   "outputs": [
    {
     "data": {
      "text/html": [
       "<div>\n",
       "<style scoped>\n",
       "    .dataframe tbody tr th:only-of-type {\n",
       "        vertical-align: middle;\n",
       "    }\n",
       "\n",
       "    .dataframe tbody tr th {\n",
       "        vertical-align: top;\n",
       "    }\n",
       "\n",
       "    .dataframe thead th {\n",
       "        text-align: right;\n",
       "    }\n",
       "</style>\n",
       "<table border=\"1\" class=\"dataframe\">\n",
       "  <thead>\n",
       "    <tr style=\"text-align: right;\">\n",
       "      <th></th>\n",
       "      <th>Duration</th>\n",
       "      <th>Start date</th>\n",
       "      <th>End date</th>\n",
       "      <th>Start station number</th>\n",
       "      <th>Start station</th>\n",
       "      <th>End station number</th>\n",
       "      <th>End station</th>\n",
       "      <th>Bike number</th>\n",
       "      <th>Member type</th>\n",
       "    </tr>\n",
       "  </thead>\n",
       "  <tbody>\n",
       "    <tr>\n",
       "      <th>0</th>\n",
       "      <td>2762</td>\n",
       "      <td>2017-07-01 00:01:09</td>\n",
       "      <td>2017-07-01 00:47:11</td>\n",
       "      <td>31289</td>\n",
       "      <td>Henry Bacon Dr &amp; Lincoln Memorial Circle NW</td>\n",
       "      <td>31289</td>\n",
       "      <td>Henry Bacon Dr &amp; Lincoln Memorial Circle NW</td>\n",
       "      <td>W21474</td>\n",
       "      <td>Casual</td>\n",
       "    </tr>\n",
       "    <tr>\n",
       "      <th>1</th>\n",
       "      <td>2763</td>\n",
       "      <td>2017-07-01 00:01:24</td>\n",
       "      <td>2017-07-01 00:47:27</td>\n",
       "      <td>31289</td>\n",
       "      <td>Henry Bacon Dr &amp; Lincoln Memorial Circle NW</td>\n",
       "      <td>31289</td>\n",
       "      <td>Henry Bacon Dr &amp; Lincoln Memorial Circle NW</td>\n",
       "      <td>W22042</td>\n",
       "      <td>Casual</td>\n",
       "    </tr>\n",
       "    <tr>\n",
       "      <th>2</th>\n",
       "      <td>690</td>\n",
       "      <td>2017-07-01 00:01:45</td>\n",
       "      <td>2017-07-01 00:13:16</td>\n",
       "      <td>31122</td>\n",
       "      <td>16th &amp; Irving St NW</td>\n",
       "      <td>31299</td>\n",
       "      <td>Connecticut Ave &amp; R St NW</td>\n",
       "      <td>W01182</td>\n",
       "      <td>Member</td>\n",
       "    </tr>\n",
       "    <tr>\n",
       "      <th>3</th>\n",
       "      <td>134</td>\n",
       "      <td>2017-07-01 00:01:46</td>\n",
       "      <td>2017-07-01 00:04:00</td>\n",
       "      <td>31201</td>\n",
       "      <td>15th &amp; P St NW</td>\n",
       "      <td>31267</td>\n",
       "      <td>17th St &amp; Massachusetts Ave NW</td>\n",
       "      <td>W22829</td>\n",
       "      <td>Member</td>\n",
       "    </tr>\n",
       "    <tr>\n",
       "      <th>4</th>\n",
       "      <td>587</td>\n",
       "      <td>2017-07-01 00:02:05</td>\n",
       "      <td>2017-07-01 00:11:52</td>\n",
       "      <td>31099</td>\n",
       "      <td>Madison &amp; N Henry St</td>\n",
       "      <td>31907</td>\n",
       "      <td>Franklin &amp; S Washington St</td>\n",
       "      <td>W22223</td>\n",
       "      <td>Casual</td>\n",
       "    </tr>\n",
       "  </tbody>\n",
       "</table>\n",
       "</div>"
      ],
      "text/plain": [
       "   Duration           Start date             End date  Start station number  \\\n",
       "0      2762  2017-07-01 00:01:09  2017-07-01 00:47:11                 31289   \n",
       "1      2763  2017-07-01 00:01:24  2017-07-01 00:47:27                 31289   \n",
       "2       690  2017-07-01 00:01:45  2017-07-01 00:13:16                 31122   \n",
       "3       134  2017-07-01 00:01:46  2017-07-01 00:04:00                 31201   \n",
       "4       587  2017-07-01 00:02:05  2017-07-01 00:11:52                 31099   \n",
       "\n",
       "                                 Start station  End station number  \\\n",
       "0  Henry Bacon Dr & Lincoln Memorial Circle NW               31289   \n",
       "1  Henry Bacon Dr & Lincoln Memorial Circle NW               31289   \n",
       "2                          16th & Irving St NW               31299   \n",
       "3                               15th & P St NW               31267   \n",
       "4                         Madison & N Henry St               31907   \n",
       "\n",
       "                                   End station Bike number Member type  \n",
       "0  Henry Bacon Dr & Lincoln Memorial Circle NW      W21474      Casual  \n",
       "1  Henry Bacon Dr & Lincoln Memorial Circle NW      W22042      Casual  \n",
       "2                    Connecticut Ave & R St NW      W01182      Member  \n",
       "3               17th St & Massachusetts Ave NW      W22829      Member  \n",
       "4                   Franklin & S Washington St      W22223      Casual  "
      ]
     },
     "execution_count": 4,
     "metadata": {},
     "output_type": "execute_result"
    }
   ],
   "source": [
    "df_q3.head()"
   ]
  },
  {
   "cell_type": "code",
   "execution_count": 40,
   "metadata": {},
   "outputs": [
    {
     "data": {
      "text/plain": [
       "(3757777, 9)"
      ]
     },
     "execution_count": 40,
     "metadata": {},
     "output_type": "execute_result"
    }
   ],
   "source": [
    "df_con = [df_q1, df_q2, df_q3, df_q4]\n",
    "df_2017 = pd.concat(df_con)\n",
    "df_2017.shape"
   ]
  },
  {
   "cell_type": "code",
   "execution_count": 41,
   "metadata": {},
   "outputs": [
    {
     "data": {
      "text/html": [
       "<div>\n",
       "<style scoped>\n",
       "    .dataframe tbody tr th:only-of-type {\n",
       "        vertical-align: middle;\n",
       "    }\n",
       "\n",
       "    .dataframe tbody tr th {\n",
       "        vertical-align: top;\n",
       "    }\n",
       "\n",
       "    .dataframe thead th {\n",
       "        text-align: right;\n",
       "    }\n",
       "</style>\n",
       "<table border=\"1\" class=\"dataframe\">\n",
       "  <thead>\n",
       "    <tr style=\"text-align: right;\">\n",
       "      <th></th>\n",
       "      <th>capacity</th>\n",
       "      <th>eightd_has_key_dispenser</th>\n",
       "      <th>electric_bike_surcharge_waiver</th>\n",
       "      <th>has_kiosk</th>\n",
       "      <th>lat</th>\n",
       "      <th>lon</th>\n",
       "      <th>name</th>\n",
       "      <th>region_id</th>\n",
       "      <th>rental_methods</th>\n",
       "      <th>short_name</th>\n",
       "      <th>station_id</th>\n",
       "    </tr>\n",
       "  </thead>\n",
       "  <tbody>\n",
       "    <tr>\n",
       "      <th>0</th>\n",
       "      <td>19</td>\n",
       "      <td>True</td>\n",
       "      <td>False</td>\n",
       "      <td>True</td>\n",
       "      <td>38.857405</td>\n",
       "      <td>-77.051132</td>\n",
       "      <td>Crystal City Metro / 18th St &amp; S Bell St</td>\n",
       "      <td>41</td>\n",
       "      <td>[CREDITCARD, KEY]</td>\n",
       "      <td>31007</td>\n",
       "      <td>8</td>\n",
       "    </tr>\n",
       "    <tr>\n",
       "      <th>1</th>\n",
       "      <td>19</td>\n",
       "      <td>False</td>\n",
       "      <td>False</td>\n",
       "      <td>True</td>\n",
       "      <td>38.905340</td>\n",
       "      <td>-77.046774</td>\n",
       "      <td>21st &amp; M St NW</td>\n",
       "      <td>42</td>\n",
       "      <td>[CREDITCARD, KEY]</td>\n",
       "      <td>31212</td>\n",
       "      <td>53</td>\n",
       "    </tr>\n",
       "    <tr>\n",
       "      <th>2</th>\n",
       "      <td>19</td>\n",
       "      <td>False</td>\n",
       "      <td>False</td>\n",
       "      <td>True</td>\n",
       "      <td>38.902221</td>\n",
       "      <td>-77.059219</td>\n",
       "      <td>Georgetown Harbor / 30th St NW</td>\n",
       "      <td>42</td>\n",
       "      <td>[CREDITCARD, KEY]</td>\n",
       "      <td>31215</td>\n",
       "      <td>72</td>\n",
       "    </tr>\n",
       "    <tr>\n",
       "      <th>3</th>\n",
       "      <td>23</td>\n",
       "      <td>False</td>\n",
       "      <td>False</td>\n",
       "      <td>True</td>\n",
       "      <td>38.900283</td>\n",
       "      <td>-77.029822</td>\n",
       "      <td>13th St &amp; New York Ave NW</td>\n",
       "      <td>42</td>\n",
       "      <td>[CREDITCARD, KEY]</td>\n",
       "      <td>31227</td>\n",
       "      <td>91</td>\n",
       "    </tr>\n",
       "    <tr>\n",
       "      <th>4</th>\n",
       "      <td>35</td>\n",
       "      <td>False</td>\n",
       "      <td>False</td>\n",
       "      <td>True</td>\n",
       "      <td>38.902061</td>\n",
       "      <td>-77.038322</td>\n",
       "      <td>17th &amp; K St NW / Farragut Square</td>\n",
       "      <td>42</td>\n",
       "      <td>[CREDITCARD, KEY]</td>\n",
       "      <td>31233</td>\n",
       "      <td>106</td>\n",
       "    </tr>\n",
       "  </tbody>\n",
       "</table>\n",
       "</div>"
      ],
      "text/plain": [
       "   capacity  eightd_has_key_dispenser  electric_bike_surcharge_waiver  \\\n",
       "0        19                      True                           False   \n",
       "1        19                     False                           False   \n",
       "2        19                     False                           False   \n",
       "3        23                     False                           False   \n",
       "4        35                     False                           False   \n",
       "\n",
       "   has_kiosk        lat        lon                                      name  \\\n",
       "0       True  38.857405 -77.051132  Crystal City Metro / 18th St & S Bell St   \n",
       "1       True  38.905340 -77.046774                            21st & M St NW   \n",
       "2       True  38.902221 -77.059219            Georgetown Harbor / 30th St NW   \n",
       "3       True  38.900283 -77.029822                 13th St & New York Ave NW   \n",
       "4       True  38.902061 -77.038322          17th & K St NW / Farragut Square   \n",
       "\n",
       "   region_id     rental_methods short_name station_id  \n",
       "0         41  [CREDITCARD, KEY]      31007          8  \n",
       "1         42  [CREDITCARD, KEY]      31212         53  \n",
       "2         42  [CREDITCARD, KEY]      31215         72  \n",
       "3         42  [CREDITCARD, KEY]      31227         91  \n",
       "4         42  [CREDITCARD, KEY]      31233        106  "
      ]
     },
     "execution_count": 41,
     "metadata": {},
     "output_type": "execute_result"
    }
   ],
   "source": [
    "import requests\n",
    "response = requests.get('https://gbfs.capitalbikeshare.com/gbfs/en/station_information.json')\n",
    "stations = pd.DataFrame(response.json()['data']['stations'])\n",
    "stations.drop(['eightd_station_services', 'external_id', 'rental_url'], axis=1, inplace=True)\n",
    "stations.head()"
   ]
  },
  {
   "cell_type": "code",
   "execution_count": 42,
   "metadata": {},
   "outputs": [],
   "source": [
    "# merge_asof\n",
    "# Perform an asof merge. This is similar to a left-join except that we match on nearest key rather than equal keys."
   ]
  },
  {
   "cell_type": "code",
   "execution_count": 43,
   "metadata": {},
   "outputs": [
    {
     "data": {
      "text/plain": [
       "1"
      ]
     },
     "execution_count": 43,
     "metadata": {},
     "output_type": "execute_result"
    }
   ],
   "source": [
    "# check if random station name of merged-quarterly-df is in station df \n",
    "stations['short_name'].where(stations['short_name'] == str('31099')).count()"
   ]
  },
  {
   "cell_type": "code",
   "execution_count": 44,
   "metadata": {},
   "outputs": [],
   "source": [
    "# Ok, cool! Eine Übereinstimmung.\n",
    "# ACHTUNG: station short_name is float in station df / string in merged df\n",
    "# make it all int"
   ]
  },
  {
   "cell_type": "code",
   "execution_count": 45,
   "metadata": {},
   "outputs": [
    {
     "data": {
      "text/plain": [
       "1927"
      ]
     },
     "execution_count": 45,
     "metadata": {},
     "output_type": "execute_result"
    }
   ],
   "source": [
    "stations['short_name'] = stations['short_name'].astype(int)\n",
    "df_2017['Start station number'] = df_2017['Start station number'].astype(int)\n",
    "df_2017['End station number'] = df_2017['End station number'].astype(int)\n",
    "df_2017['Start station number'].where(df_2017['Start station number'] == 31099).count()"
   ]
  },
  {
   "cell_type": "code",
   "execution_count": 46,
   "metadata": {},
   "outputs": [],
   "source": [
    "df_grouped=df_2017.groupby(['Start station number', 'End station number'])[['Bike number']].count().reset_index()"
   ]
  },
  {
   "cell_type": "code",
   "execution_count": 47,
   "metadata": {},
   "outputs": [
    {
     "data": {
      "text/html": [
       "<div>\n",
       "<style scoped>\n",
       "    .dataframe tbody tr th:only-of-type {\n",
       "        vertical-align: middle;\n",
       "    }\n",
       "\n",
       "    .dataframe tbody tr th {\n",
       "        vertical-align: top;\n",
       "    }\n",
       "\n",
       "    .dataframe thead th {\n",
       "        text-align: right;\n",
       "    }\n",
       "</style>\n",
       "<table border=\"1\" class=\"dataframe\">\n",
       "  <thead>\n",
       "    <tr style=\"text-align: right;\">\n",
       "      <th></th>\n",
       "      <th>Start station number</th>\n",
       "      <th>End station number</th>\n",
       "      <th>Bike number</th>\n",
       "    </tr>\n",
       "  </thead>\n",
       "  <tbody>\n",
       "    <tr>\n",
       "      <th>0</th>\n",
       "      <td>31000</td>\n",
       "      <td>31000</td>\n",
       "      <td>268</td>\n",
       "    </tr>\n",
       "    <tr>\n",
       "      <th>1</th>\n",
       "      <td>31000</td>\n",
       "      <td>31001</td>\n",
       "      <td>17</td>\n",
       "    </tr>\n",
       "    <tr>\n",
       "      <th>2</th>\n",
       "      <td>31000</td>\n",
       "      <td>31002</td>\n",
       "      <td>68</td>\n",
       "    </tr>\n",
       "    <tr>\n",
       "      <th>3</th>\n",
       "      <td>31000</td>\n",
       "      <td>31003</td>\n",
       "      <td>82</td>\n",
       "    </tr>\n",
       "    <tr>\n",
       "      <th>4</th>\n",
       "      <td>31000</td>\n",
       "      <td>31004</td>\n",
       "      <td>22</td>\n",
       "    </tr>\n",
       "  </tbody>\n",
       "</table>\n",
       "</div>"
      ],
      "text/plain": [
       "   Start station number  End station number  Bike number\n",
       "0                 31000               31000          268\n",
       "1                 31000               31001           17\n",
       "2                 31000               31002           68\n",
       "3                 31000               31003           82\n",
       "4                 31000               31004           22"
      ]
     },
     "execution_count": 47,
     "metadata": {},
     "output_type": "execute_result"
    }
   ],
   "source": [
    "df_grouped.head()"
   ]
  },
  {
   "cell_type": "code",
   "execution_count": 48,
   "metadata": {},
   "outputs": [],
   "source": [
    "stat_location = stations[['lat', 'lon', 'short_name']]"
   ]
  },
  {
   "cell_type": "code",
   "execution_count": 49,
   "metadata": {},
   "outputs": [
    {
     "data": {
      "text/html": [
       "<div>\n",
       "<style scoped>\n",
       "    .dataframe tbody tr th:only-of-type {\n",
       "        vertical-align: middle;\n",
       "    }\n",
       "\n",
       "    .dataframe tbody tr th {\n",
       "        vertical-align: top;\n",
       "    }\n",
       "\n",
       "    .dataframe thead th {\n",
       "        text-align: right;\n",
       "    }\n",
       "</style>\n",
       "<table border=\"1\" class=\"dataframe\">\n",
       "  <thead>\n",
       "    <tr style=\"text-align: right;\">\n",
       "      <th></th>\n",
       "      <th>Start station number</th>\n",
       "      <th>End station number</th>\n",
       "      <th>Bike number</th>\n",
       "      <th>short_name</th>\n",
       "      <th>lat_start</th>\n",
       "      <th>lon_start</th>\n",
       "    </tr>\n",
       "  </thead>\n",
       "  <tbody>\n",
       "    <tr>\n",
       "      <th>0</th>\n",
       "      <td>31000</td>\n",
       "      <td>31000</td>\n",
       "      <td>268</td>\n",
       "      <td>31000</td>\n",
       "      <td>38.858971</td>\n",
       "      <td>-77.05323</td>\n",
       "    </tr>\n",
       "    <tr>\n",
       "      <th>1</th>\n",
       "      <td>31000</td>\n",
       "      <td>31271</td>\n",
       "      <td>3</td>\n",
       "      <td>31000</td>\n",
       "      <td>38.858971</td>\n",
       "      <td>-77.05323</td>\n",
       "    </tr>\n",
       "    <tr>\n",
       "      <th>2</th>\n",
       "      <td>31000</td>\n",
       "      <td>31269</td>\n",
       "      <td>1</td>\n",
       "      <td>31000</td>\n",
       "      <td>38.858971</td>\n",
       "      <td>-77.05323</td>\n",
       "    </tr>\n",
       "    <tr>\n",
       "      <th>3</th>\n",
       "      <td>31000</td>\n",
       "      <td>31265</td>\n",
       "      <td>1</td>\n",
       "      <td>31000</td>\n",
       "      <td>38.858971</td>\n",
       "      <td>-77.05323</td>\n",
       "    </tr>\n",
       "    <tr>\n",
       "      <th>4</th>\n",
       "      <td>31000</td>\n",
       "      <td>31264</td>\n",
       "      <td>2</td>\n",
       "      <td>31000</td>\n",
       "      <td>38.858971</td>\n",
       "      <td>-77.05323</td>\n",
       "    </tr>\n",
       "  </tbody>\n",
       "</table>\n",
       "</div>"
      ],
      "text/plain": [
       "   Start station number  End station number  Bike number  short_name  \\\n",
       "0                 31000               31000          268       31000   \n",
       "1                 31000               31271            3       31000   \n",
       "2                 31000               31269            1       31000   \n",
       "3                 31000               31265            1       31000   \n",
       "4                 31000               31264            2       31000   \n",
       "\n",
       "   lat_start  lon_start  \n",
       "0  38.858971  -77.05323  \n",
       "1  38.858971  -77.05323  \n",
       "2  38.858971  -77.05323  \n",
       "3  38.858971  -77.05323  \n",
       "4  38.858971  -77.05323  "
      ]
     },
     "execution_count": 49,
     "metadata": {},
     "output_type": "execute_result"
    }
   ],
   "source": [
    "df_grouped = pd.merge_asof(left=df_grouped.sort_values(by=['Start station number']), right=stat_location.sort_values(by=['short_name']), left_on='Start station number', right_on='short_name')\n",
    "df_grouped['lat_start'] = df_grouped['lat']\n",
    "df_grouped['lon_start'] = df_grouped['lon']\n",
    "df_grouped.drop(['lon', 'lat'], axis=1, inplace=True)\n",
    "#df_2017_viz = df_2017_stations['Start station number', 'End station number', 'lat_start', 'lon_start']\n",
    "df_grouped.head()"
   ]
  },
  {
   "cell_type": "code",
   "execution_count": 50,
   "metadata": {},
   "outputs": [
    {
     "data": {
      "text/html": [
       "<div>\n",
       "<style scoped>\n",
       "    .dataframe tbody tr th:only-of-type {\n",
       "        vertical-align: middle;\n",
       "    }\n",
       "\n",
       "    .dataframe tbody tr th {\n",
       "        vertical-align: top;\n",
       "    }\n",
       "\n",
       "    .dataframe thead th {\n",
       "        text-align: right;\n",
       "    }\n",
       "</style>\n",
       "<table border=\"1\" class=\"dataframe\">\n",
       "  <thead>\n",
       "    <tr style=\"text-align: right;\">\n",
       "      <th></th>\n",
       "      <th>Start station number</th>\n",
       "      <th>End station number</th>\n",
       "      <th>lat_start</th>\n",
       "      <th>lon_start</th>\n",
       "      <th>lat_end</th>\n",
       "      <th>lon_end</th>\n",
       "      <th>bike_count</th>\n",
       "    </tr>\n",
       "  </thead>\n",
       "  <tbody>\n",
       "    <tr>\n",
       "      <th>0</th>\n",
       "      <td>31000</td>\n",
       "      <td>31000</td>\n",
       "      <td>38.858971</td>\n",
       "      <td>-77.053230</td>\n",
       "      <td>38.858971</td>\n",
       "      <td>-77.05323</td>\n",
       "      <td>268</td>\n",
       "    </tr>\n",
       "    <tr>\n",
       "      <th>1</th>\n",
       "      <td>31066</td>\n",
       "      <td>31000</td>\n",
       "      <td>38.867262</td>\n",
       "      <td>-77.072315</td>\n",
       "      <td>38.858971</td>\n",
       "      <td>-77.05323</td>\n",
       "      <td>8</td>\n",
       "    </tr>\n",
       "    <tr>\n",
       "      <th>2</th>\n",
       "      <td>31219</td>\n",
       "      <td>31000</td>\n",
       "      <td>38.893028</td>\n",
       "      <td>-77.026013</td>\n",
       "      <td>38.858971</td>\n",
       "      <td>-77.05323</td>\n",
       "      <td>4</td>\n",
       "    </tr>\n",
       "    <tr>\n",
       "      <th>3</th>\n",
       "      <td>31913</td>\n",
       "      <td>31000</td>\n",
       "      <td>38.820058</td>\n",
       "      <td>-77.062821</td>\n",
       "      <td>38.858971</td>\n",
       "      <td>-77.05323</td>\n",
       "      <td>13</td>\n",
       "    </tr>\n",
       "    <tr>\n",
       "      <th>4</th>\n",
       "      <td>31067</td>\n",
       "      <td>31000</td>\n",
       "      <td>38.862478</td>\n",
       "      <td>-77.086599</td>\n",
       "      <td>38.858971</td>\n",
       "      <td>-77.05323</td>\n",
       "      <td>1</td>\n",
       "    </tr>\n",
       "  </tbody>\n",
       "</table>\n",
       "</div>"
      ],
      "text/plain": [
       "   Start station number  End station number  lat_start  lon_start    lat_end  \\\n",
       "0                 31000               31000  38.858971 -77.053230  38.858971   \n",
       "1                 31066               31000  38.867262 -77.072315  38.858971   \n",
       "2                 31219               31000  38.893028 -77.026013  38.858971   \n",
       "3                 31913               31000  38.820058 -77.062821  38.858971   \n",
       "4                 31067               31000  38.862478 -77.086599  38.858971   \n",
       "\n",
       "    lon_end  bike_count  \n",
       "0 -77.05323         268  \n",
       "1 -77.05323           8  \n",
       "2 -77.05323           4  \n",
       "3 -77.05323          13  \n",
       "4 -77.05323           1  "
      ]
     },
     "execution_count": 50,
     "metadata": {},
     "output_type": "execute_result"
    }
   ],
   "source": [
    "df_grouped = pd.merge_asof(left=df_grouped.sort_values(by=['End station number']), right=stat_location.sort_values(by=['short_name']), left_on='End station number', right_on='short_name')\n",
    "df_grouped['lat_end'] = df_grouped['lat']\n",
    "df_grouped['lon_end'] = df_grouped['lon']\n",
    "df_grouped['bike_count'] =df_grouped['Bike number']\n",
    "df_grouped.drop(['lon', 'lat', 'short_name_x', 'short_name_y', 'Bike number'], axis=1, inplace=True)\n",
    "#df_grouped.to_csv('bike_stations_location_dc.csv')\n",
    "df_grouped.head()"
   ]
  },
  {
   "cell_type": "markdown",
   "metadata": {},
   "source": [
    "### Step 2: Input weather data from Weather API we collected"
   ]
  },
  {
   "cell_type": "code",
   "execution_count": 51,
   "metadata": {},
   "outputs": [],
   "source": [
    "#weather = pd.read_csv('washington_dc_weather/allweather_2017.csv')\n",
    "#weather['datetime'] = pd.to_datetime(weather['time'], unit='s')\n",
    "# JupiterLab died, RAM overflow (?) --> Step 2 unimplemented"
   ]
  },
  {
   "cell_type": "markdown",
   "metadata": {},
   "source": [
    "### Step 3: Visualisation"
   ]
  },
  {
   "cell_type": "code",
   "execution_count": 52,
   "metadata": {},
   "outputs": [],
   "source": [
    "from gcmap import GCMapper, Gradient\n",
    "from sklearn.preprocessing import MinMaxScaler"
   ]
  },
  {
   "cell_type": "code",
   "execution_count": 53,
   "metadata": {},
   "outputs": [],
   "source": [
    "#df_grouped['lat_end'][0].reshape(1,-1)"
   ]
  },
  {
   "cell_type": "markdown",
   "metadata": {},
   "source": [
    "tried scaling:\n",
    "\n",
    "mms_los = MinMaxScaler()\n",
    "mms_las = MinMaxScaler()\n",
    "mms_loe = MinMaxScaler()\n",
    "mms_lae = MinMaxScaler()\n",
    "\n",
    "df_grouped['lon_start'] = mms_los.fit((df_grouped['lon_start']).reshape(1, -1))\n",
    "df_grouped['lat_start'] = mms_las.fit((df_grouped['lat_start']).reshape(1, -1))\n",
    "df_grouped['lon_end'] = mms_loe.fit((df_grouped['lon_end']).reshape(1, -1))\n",
    "df_grouped['lat_end'] = mms_lae.fit((df_grouped['lat_end']).reshape(1, -1))\n",
    "\n",
    "df_grouped.head()"
   ]
  },
  {
   "cell_type": "code",
   "execution_count": 56,
   "metadata": {},
   "outputs": [],
   "source": [
    "# create gradient to color the routes according to the number of bikes\n",
    "grad = Gradient(((0, 0, 0, 0), (0.5, 204, 0, 153), (1, 255, 204, 230)))\n",
    "# initialize GCMapper and set data\n",
    "x = 0\n",
    "gcm = GCMapper(cols=grad, height=1080, width=1920, gc_resolution=100, proj='eqc')\n",
    "gcm.set_data(df_grouped['lon_start']+x, df_grouped['lat_start']+x, df_grouped['lon_end']+x,\n",
    "             df_grouped['lat_end']+x, df_grouped['bike_count'])\n",
    "# run & save\n",
    "img = gcm.draw()\n",
    "img.save('bike_map_gcmap.png')"
   ]
  },
  {
   "cell_type": "markdown",
   "metadata": {},
   "source": [
    "projection technics:\n",
    "\n",
    "- 'lcc +lat_1=48 +lat_2=33 +lon_0=-100 +ellps=WGS84'\n",
    "- 'rcc'\n",
    "- 'eqc'\n",
    "- 'mill\n",
    "- Another option is the Miller projection [+proj=mill] or the Equidistant Cylindrical (Plate Carrée) [+proj=eqc] if you're wanting to keep the rectangular shape. (I have not experimented with rotating the perspective - lambda, phi, gamma - on these projections though)"
   ]
  },
  {
   "cell_type": "code",
   "execution_count": 57,
   "metadata": {},
   "outputs": [],
   "source": [
    "import plotly"
   ]
  },
  {
   "cell_type": "code",
   "execution_count": null,
   "metadata": {},
   "outputs": [],
   "source": [
    "plot.geo()"
   ]
  },
  {
   "cell_type": "code",
   "execution_count": null,
   "metadata": {},
   "outputs": [],
   "source": []
  }
 ],
 "metadata": {
  "kernelspec": {
   "display_name": "Python 3",
   "language": "python",
   "name": "python3"
  },
  "language_info": {
   "codemirror_mode": {
    "name": "ipython",
    "version": 3
   },
   "file_extension": ".py",
   "mimetype": "text/x-python",
   "name": "python",
   "nbconvert_exporter": "python",
   "pygments_lexer": "ipython3",
   "version": "3.7.3"
  }
 },
 "nbformat": 4,
 "nbformat_minor": 2
}
