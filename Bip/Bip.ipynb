{
 "cells": [
  {
   "cell_type": "code",
   "execution_count": 1,
   "metadata": {},
   "outputs": [],
   "source": [
    "import pandas as pd"
   ]
  },
  {
   "cell_type": "markdown",
   "metadata": {},
   "source": [
    "## ToDo\n",
    "- Load the countries.csv directly via URL import into your panda data frame!\n",
    "- Display some basic information as rows, columns and some basic statistical info.\n",
    "- Show the last 4 rows of the data frame.\n",
    "- Show all the row of countries who have the EURO\n",
    "- Show only name and Currency in a new data frame\n",
    "- Show only the rows/countries that have more than 2000 BIP (it is in Milliarden USD Bruttoinlandsprodukt)\n",
    "- Select all countries where with inhabitants between 50 and 150 Mio\n",
    "- Change BIP to Bip\n",
    "- Calculate the Bip sum\n",
    "- Calculate the average people of all countries\n",
    "- Sort by name alphabetically\n",
    "- Create a new data frame from the original where the area is changed as follows: all countries with > 1000000 get BIG and <= 1000000 get SMALL in the cell replaced!"
   ]
  },
  {
   "cell_type": "code",
   "execution_count": null,
   "metadata": {},
   "outputs": [],
   "source": []
  }
 ],
 "metadata": {
  "kernelspec": {
   "display_name": "Python 3",
   "language": "python",
   "name": "python3"
  },
  "language_info": {
   "codemirror_mode": {
    "name": "ipython",
    "version": 3
   },
   "file_extension": ".py",
   "mimetype": "text/x-python",
   "name": "python",
   "nbconvert_exporter": "python",
   "pygments_lexer": "ipython3",
   "version": "3.7.6"
  }
 },
 "nbformat": 4,
 "nbformat_minor": 4
}
