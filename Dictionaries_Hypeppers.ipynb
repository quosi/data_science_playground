{
 "cells": [
  {
   "cell_type": "markdown",
   "metadata": {},
   "source": [
    "## Data Structures Recap: Dictionaries"
   ]
  },
  {
   "cell_type": "markdown",
   "metadata": {},
   "source": [
    "- Dictionaries are really good for looking things up."
   ]
  },
  {
   "cell_type": "code",
   "execution_count": 27,
   "metadata": {},
   "outputs": [],
   "source": [
    "d = {'Dog':'Hund',\n",
    "     'Cat':'Katze',\n",
    "     'Mouse':'Maus',\n",
    "     'Elephant':'Elefant',\n",
    "     'Bird':'Vogel',\n",
    "     'Rabbit':'Kaninchen',\n",
    "     'Turtle':'Schildkröte',\n",
    "     'Chipmunk':'Erdhörnchen'\n",
    "}"
   ]
  },
  {
   "cell_type": "code",
   "execution_count": 28,
   "metadata": {},
   "outputs": [
    {
     "data": {
      "text/plain": [
       "{'Dog': 'Hund',\n",
       " 'Cat': 'Katze',\n",
       " 'Mouse': 'Maus',\n",
       " 'Elephant': 'Elefant',\n",
       " 'Bird': 'Vogel',\n",
       " 'Rabbit': 'Kaninchen',\n",
       " 'Turtle': 'Schildkröte',\n",
       " 'Chipmunk': 'Erdhörnchen'}"
      ]
     },
     "execution_count": 28,
     "metadata": {},
     "output_type": "execute_result"
    }
   ],
   "source": [
    "d"
   ]
  },
  {
   "cell_type": "code",
   "execution_count": 29,
   "metadata": {},
   "outputs": [
    {
     "data": {
      "text/plain": [
       "'Vogel'"
      ]
     },
     "execution_count": 29,
     "metadata": {},
     "output_type": "execute_result"
    }
   ],
   "source": [
    "d['Bird']"
   ]
  },
  {
   "cell_type": "code",
   "execution_count": 31,
   "metadata": {},
   "outputs": [],
   "source": [
    "d['Hound'] = 'Hund' #adding a new value "
   ]
  },
  {
   "cell_type": "code",
   "execution_count": 42,
   "metadata": {},
   "outputs": [
    {
     "ename": "KeyError",
     "evalue": "'Platypus'",
     "output_type": "error",
     "traceback": [
      "\u001b[0;31m---------------------------------------------------------------------------\u001b[0m",
      "\u001b[0;31mKeyError\u001b[0m                                  Traceback (most recent call last)",
      "\u001b[0;32m<ipython-input-42-2ab8063eed6e>\u001b[0m in \u001b[0;36m<module>\u001b[0;34m\u001b[0m\n\u001b[0;32m----> 1\u001b[0;31m \u001b[0md\u001b[0m\u001b[0;34m[\u001b[0m\u001b[0;34m'Platypus'\u001b[0m\u001b[0;34m]\u001b[0m\u001b[0;34m\u001b[0m\u001b[0;34m\u001b[0m\u001b[0m\n\u001b[0m",
      "\u001b[0;31mKeyError\u001b[0m: 'Platypus'"
     ]
    }
   ],
   "source": [
    "d['Platypus']"
   ]
  },
  {
   "cell_type": "code",
   "execution_count": 46,
   "metadata": {},
   "outputs": [],
   "source": [
    "d.get('Platypus') #.get() a fail-safe way of accessing keys"
   ]
  },
  {
   "cell_type": "code",
   "execution_count": 47,
   "metadata": {},
   "outputs": [
    {
     "data": {
      "text/plain": [
       "'Not found!'"
      ]
     },
     "execution_count": 47,
     "metadata": {},
     "output_type": "execute_result"
    }
   ],
   "source": [
    "d.get('Platypus', 'Not found!')"
   ]
  },
  {
   "cell_type": "code",
   "execution_count": 48,
   "metadata": {},
   "outputs": [
    {
     "data": {
      "text/plain": [
       "{'Dog': 'Hund',\n",
       " 'Cat': 'Katze',\n",
       " 'Mouse': 'Maus',\n",
       " 'Elephant': 'Elefant',\n",
       " 'Bird': 'Vogel',\n",
       " 'Rabbit': 'Kaninchen',\n",
       " 'Turtle': 'Schildkröte',\n",
       " 'Chipmunk': 'Erdhörnchen',\n",
       " 'Hound': 'Hund'}"
      ]
     },
     "execution_count": 48,
     "metadata": {},
     "output_type": "execute_result"
    }
   ],
   "source": [
    "d"
   ]
  },
  {
   "cell_type": "code",
   "execution_count": 49,
   "metadata": {},
   "outputs": [],
   "source": [
    "snake = {'German': 'Schlange',\n",
    "         'Spanish': 'Culebra'}"
   ]
  },
  {
   "cell_type": "code",
   "execution_count": 51,
   "metadata": {},
   "outputs": [],
   "source": [
    "d['Snake'] = {'German': 'Schlange',\n",
    "         'Spanish': 'Culebra'}"
   ]
  },
  {
   "cell_type": "code",
   "execution_count": 52,
   "metadata": {},
   "outputs": [
    {
     "data": {
      "text/plain": [
       "{'Dog': 'Hund',\n",
       " 'Cat': 'Katze',\n",
       " 'Mouse': 'Maus',\n",
       " 'Elephant': 'Elefant',\n",
       " 'Bird': 'Vogel',\n",
       " 'Rabbit': 'Kaninchen',\n",
       " 'Turtle': 'Schildkröte',\n",
       " 'Chipmunk': 'Erdhörnchen',\n",
       " 'Hound': 'Hund',\n",
       " 'Snake': {'German': 'Schlange', 'Spanish': 'Culebra'}}"
      ]
     },
     "execution_count": 52,
     "metadata": {},
     "output_type": "execute_result"
    }
   ],
   "source": [
    "d"
   ]
  },
  {
   "cell_type": "code",
   "execution_count": 65,
   "metadata": {},
   "outputs": [
    {
     "data": {
      "text/plain": [
       "'Culebra'"
      ]
     },
     "execution_count": 65,
     "metadata": {},
     "output_type": "execute_result"
    }
   ],
   "source": [
    "d['Snake']['Spanish']"
   ]
  },
  {
   "cell_type": "code",
   "execution_count": 66,
   "metadata": {},
   "outputs": [
    {
     "data": {
      "text/plain": [
       "dict_values(['Hund', 'Katze', 'Maus', 'Elefant', 'Vogel', 'Kaninchen', 'Schildkröte', 'Erdhörnchen', 'Hund', {'German': 'Schlange', 'Spanish': 'Culebra'}])"
      ]
     },
     "execution_count": 66,
     "metadata": {},
     "output_type": "execute_result"
    }
   ],
   "source": [
    "d.values()"
   ]
  },
  {
   "cell_type": "code",
   "execution_count": 67,
   "metadata": {},
   "outputs": [
    {
     "data": {
      "text/plain": [
       "dict_keys(['Dog', 'Cat', 'Mouse', 'Elephant', 'Bird', 'Rabbit', 'Turtle', 'Chipmunk', 'Hound', 'Snake'])"
      ]
     },
     "execution_count": 67,
     "metadata": {},
     "output_type": "execute_result"
    }
   ],
   "source": [
    "d.keys()"
   ]
  },
  {
   "cell_type": "code",
   "execution_count": 69,
   "metadata": {},
   "outputs": [
    {
     "data": {
      "text/plain": [
       "[('Dog', 'Hund'),\n",
       " ('Cat', 'Katze'),\n",
       " ('Mouse', 'Maus'),\n",
       " ('Elephant', 'Elefant'),\n",
       " ('Bird', 'Vogel'),\n",
       " ('Rabbit', 'Kaninchen'),\n",
       " ('Turtle', 'Schildkröte'),\n",
       " ('Chipmunk', 'Erdhörnchen'),\n",
       " ('Hound', 'Hund'),\n",
       " ('Snake', {'German': 'Schlange', 'Spanish': 'Culebra'})]"
      ]
     },
     "execution_count": 69,
     "metadata": {},
     "output_type": "execute_result"
    }
   ],
   "source": [
    "list(zip(d.keys(), d.values())) #hard way"
   ]
  },
  {
   "cell_type": "code",
   "execution_count": 74,
   "metadata": {},
   "outputs": [
    {
     "data": {
      "text/plain": [
       "[('Dog', 'Hund'),\n",
       " ('Cat', 'Katze'),\n",
       " ('Mouse', 'Maus'),\n",
       " ('Elephant', 'Elefant'),\n",
       " ('Bird', 'Vogel'),\n",
       " ('Rabbit', 'Kaninchen'),\n",
       " ('Turtle', 'Schildkröte'),\n",
       " ('Chipmunk', 'Erdhörnchen'),\n",
       " ('Hound', 'Hund'),\n",
       " ('Snake', {'German': 'Schlange', 'Spanish': 'Culebra'})]"
      ]
     },
     "execution_count": 74,
     "metadata": {},
     "output_type": "execute_result"
    }
   ],
   "source": [
    "list(d.items()) #.items()"
   ]
  },
  {
   "cell_type": "markdown",
   "metadata": {},
   "source": [
    "### What you need to know about dictionaries:"
   ]
  },
  {
   "cell_type": "markdown",
   "metadata": {},
   "source": [
    "- Keys are unique!\n",
    "    - You can only look up Key -> Value, not the other way around!!!\n",
    "- d.keys(), d.values(), d.items()\n",
    "- Adding new entries uses the following syntax: d['NEW KEY'] = 'New Value'\n",
    "- Dictionaries store unique keys, and unique keys only!! (That's the whole point)"
   ]
  },
  {
   "cell_type": "code",
   "execution_count": 76,
   "metadata": {},
   "outputs": [],
   "source": [
    "d['Cat'] = 'Kater'"
   ]
  },
  {
   "cell_type": "code",
   "execution_count": 77,
   "metadata": {},
   "outputs": [
    {
     "data": {
      "text/plain": [
       "{'Dog': 'Hund',\n",
       " 'Cat': 'Kater',\n",
       " 'Mouse': 'Maus',\n",
       " 'Elephant': 'Elefant',\n",
       " 'Bird': 'Vogel',\n",
       " 'Rabbit': 'Kaninchen',\n",
       " 'Turtle': 'Schildkröte',\n",
       " 'Chipmunk': 'Erdhörnchen',\n",
       " 'Hound': 'Hund',\n",
       " 'Snake': {'German': 'Schlange', 'Spanish': 'Culebra'}}"
      ]
     },
     "execution_count": 77,
     "metadata": {},
     "output_type": "execute_result"
    }
   ],
   "source": [
    "d"
   ]
  },
  {
   "cell_type": "code",
   "execution_count": 78,
   "metadata": {},
   "outputs": [],
   "source": [
    "d['Number'] = 2"
   ]
  },
  {
   "cell_type": "code",
   "execution_count": 80,
   "metadata": {},
   "outputs": [],
   "source": [
    "d['Bool'] = True"
   ]
  },
  {
   "cell_type": "code",
   "execution_count": 81,
   "metadata": {},
   "outputs": [
    {
     "data": {
      "text/plain": [
       "{'Dog': 'Hund',\n",
       " 'Cat': 'Kater',\n",
       " 'Mouse': 'Maus',\n",
       " 'Elephant': 'Elefant',\n",
       " 'Bird': 'Vogel',\n",
       " 'Rabbit': 'Kaninchen',\n",
       " 'Turtle': 'Schildkröte',\n",
       " 'Chipmunk': 'Erdhörnchen',\n",
       " 'Hound': 'Hund',\n",
       " 'Snake': {'German': 'Schlange', 'Spanish': 'Culebra'},\n",
       " 'Number': 2,\n",
       " 'Bool': True}"
      ]
     },
     "execution_count": 81,
     "metadata": {},
     "output_type": "execute_result"
    }
   ],
   "source": [
    "d"
   ]
  },
  {
   "cell_type": "code",
   "execution_count": 83,
   "metadata": {},
   "outputs": [
    {
     "data": {
      "text/plain": [
       "'Eichhörnchen'"
      ]
     },
     "execution_count": 83,
     "metadata": {},
     "output_type": "execute_result"
    }
   ],
   "source": [
    "d.setdefault('Squirrel', 'Eichhörnchen')"
   ]
  },
  {
   "cell_type": "code",
   "execution_count": 85,
   "metadata": {},
   "outputs": [
    {
     "data": {
      "text/plain": [
       "'Maus'"
      ]
     },
     "execution_count": 85,
     "metadata": {},
     "output_type": "execute_result"
    }
   ],
   "source": [
    "d.setdefault('Mouse', 'NEW MOUSE')"
   ]
  },
  {
   "cell_type": "markdown",
   "metadata": {},
   "source": [
    "---"
   ]
  },
  {
   "cell_type": "markdown",
   "metadata": {},
   "source": [
    "## How can we convert our English-German dictionary into a German-English dictionary?"
   ]
  },
  {
   "cell_type": "code",
   "execution_count": 88,
   "metadata": {},
   "outputs": [
    {
     "data": {
      "text/plain": [
       "True"
      ]
     },
     "execution_count": 88,
     "metadata": {},
     "output_type": "execute_result"
    }
   ],
   "source": [
    "d.pop('Snake')\n",
    "d.pop('Number')\n",
    "d.pop('Bool')"
   ]
  },
  {
   "cell_type": "code",
   "execution_count": 89,
   "metadata": {},
   "outputs": [
    {
     "data": {
      "text/plain": [
       "{'Dog': 'Hund',\n",
       " 'Cat': 'Kater',\n",
       " 'Mouse': 'Maus',\n",
       " 'Elephant': 'Elefant',\n",
       " 'Bird': 'Vogel',\n",
       " 'Rabbit': 'Kaninchen',\n",
       " 'Turtle': 'Schildkröte',\n",
       " 'Chipmunk': 'Erdhörnchen',\n",
       " 'Hound': 'Hund',\n",
       " 'Squirrel': 'Eichhörnchen'}"
      ]
     },
     "execution_count": 89,
     "metadata": {},
     "output_type": "execute_result"
    }
   ],
   "source": [
    "d"
   ]
  },
  {
   "cell_type": "code",
   "execution_count": 93,
   "metadata": {},
   "outputs": [
    {
     "data": {
      "text/plain": [
       "{'Hund': 'Hound',\n",
       " 'Kater': 'Cat',\n",
       " 'Maus': 'Mouse',\n",
       " 'Elefant': 'Elephant',\n",
       " 'Vogel': 'Bird',\n",
       " 'Kaninchen': 'Rabbit',\n",
       " 'Schildkröte': 'Turtle',\n",
       " 'Erdhörnchen': 'Chipmunk',\n",
       " 'Eichhörnchen': 'Squirrel'}"
      ]
     },
     "execution_count": 93,
     "metadata": {},
     "output_type": "execute_result"
    }
   ],
   "source": [
    "#Method 1\n",
    "dict(zip(d.values(), d.keys())) #zip!"
   ]
  },
  {
   "cell_type": "code",
   "execution_count": 100,
   "metadata": {},
   "outputs": [],
   "source": [
    "#Method 2\n",
    "d2 = {}\n",
    "for i in d.items():\n",
    "    d2[i[1]] = i[0]"
   ]
  },
  {
   "cell_type": "code",
   "execution_count": 101,
   "metadata": {},
   "outputs": [],
   "source": [
    "#Method 3\n",
    "d3 = {}\n",
    "\n",
    "for k, v in d.items(): #tuple unpacking\n",
    "    d3[v] = k"
   ]
  }
 ],
 "metadata": {
  "kernelspec": {
   "display_name": "Python 3",
   "language": "python",
   "name": "python3"
  },
  "language_info": {
   "codemirror_mode": {
    "name": "ipython",
    "version": 3
   },
   "file_extension": ".py",
   "mimetype": "text/x-python",
   "name": "python",
   "nbconvert_exporter": "python",
   "pygments_lexer": "ipython3",
   "version": "3.6.7"
  }
 },
 "nbformat": 4,
 "nbformat_minor": 2
}
