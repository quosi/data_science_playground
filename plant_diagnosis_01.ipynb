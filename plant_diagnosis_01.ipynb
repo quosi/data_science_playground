{
 "cells": [
  {
   "cell_type": "code",
   "execution_count": 3,
   "metadata": {},
   "outputs": [],
   "source": [
    "import warnings\n",
    "warnings.filterwarnings(\"ignore\")"
   ]
  },
  {
   "cell_type": "code",
   "execution_count": 4,
   "metadata": {},
   "outputs": [],
   "source": [
    "import matplotlib.pyplot as plt\n",
    "import matplotlib.image as mpimg\n",
    "from mpl_toolkits.axes_grid1 import ImageGrid\n",
    "%matplotlib inline"
   ]
  },
  {
   "cell_type": "code",
   "execution_count": 5,
   "metadata": {},
   "outputs": [],
   "source": [
    "import re, os, itertools, datetime\n",
    "import numpy as np\n",
    "import pandas as pd\n",
    "import seaborn as sns\n",
    "from shutil import copyfile\n",
    "from tqdm import tqdm"
   ]
  },
  {
   "cell_type": "code",
   "execution_count": 6,
   "metadata": {},
   "outputs": [
    {
     "name": "stderr",
     "output_type": "stream",
     "text": [
      "Using TensorFlow backend.\n"
     ]
    }
   ],
   "source": [
    "import keras\n",
    "import tensorflow as tf\n",
    "from keras.models import Sequential, load_model, Model\n",
    "from keras.layers import Dense, Dropout, Activation, ReLU, Flatten, Conv2D, MaxPooling2D, BatchNormalization, GlobalAveragePooling2D\n",
    "from keras.optimizers import Adam\n",
    "from keras.callbacks import Callback, EarlyStopping, ModelCheckpoint, ReduceLROnPlateau, CSVLogger, TensorBoard\n",
    "from keras.preprocessing import image\n",
    "from keras.preprocessing.image import ImageDataGenerator\n",
    "from keras.applications.inception_v3 import InceptionV3, preprocess_input\n",
    "from keras import regularizers\n",
    "from sklearn import metrics as m"
   ]
  },
  {
   "cell_type": "code",
   "execution_count": 7,
   "metadata": {},
   "outputs": [],
   "source": [
    "from PIL import Image\n",
    "from skimage import transform"
   ]
  },
  {
   "cell_type": "markdown",
   "metadata": {},
   "source": [
    "## 1. Data exploration"
   ]
  },
  {
   "cell_type": "code",
   "execution_count": 8,
   "metadata": {},
   "outputs": [],
   "source": [
    "data_dir = \"PlantVillage-Dataset/raw/color/\""
   ]
  },
  {
   "cell_type": "code",
   "execution_count": 9,
   "metadata": {},
   "outputs": [
    {
     "data": {
      "text/plain": [
       "38"
      ]
     },
     "execution_count": 9,
     "metadata": {},
     "output_type": "execute_result"
    }
   ],
   "source": [
    "classes = os.listdir(data_dir)\n",
    "len(classes)"
   ]
  },
  {
   "cell_type": "code",
   "execution_count": 10,
   "metadata": {},
   "outputs": [],
   "source": [
    "# check how balanced data set is (number of images in each class)"
   ]
  },
  {
   "cell_type": "code",
   "execution_count": 11,
   "metadata": {},
   "outputs": [],
   "source": [
    "image_count = []\n",
    "for c in classes:\n",
    "    try: \n",
    "        path = data_dir + c\n",
    "        count = len(os.listdir(path))\n",
    "        image_count.append(count)\n",
    "    except:\n",
    "        pass"
   ]
  },
  {
   "cell_type": "code",
   "execution_count": 12,
   "metadata": {},
   "outputs": [],
   "source": [
    "df_classes = pd.DataFrame.from_dict(dict(zip(classes, image_count)), orient=\"index\")"
   ]
  },
  {
   "cell_type": "code",
   "execution_count": 13,
   "metadata": {},
   "outputs": [
    {
     "data": {
      "text/plain": [
       "38"
      ]
     },
     "execution_count": 13,
     "metadata": {},
     "output_type": "execute_result"
    }
   ],
   "source": [
    "num_classes = df_classes.shape[0]\n",
    "num_classes"
   ]
  },
  {
   "cell_type": "code",
   "execution_count": 14,
   "metadata": {},
   "outputs": [],
   "source": [
    "new_image_names = []\n",
    "for label, class_name in enumerate(classes):\n",
    "    path = data_dir + class_name\n",
    "    for file in os.listdir(path):\n",
    "        new_image_names.append(['{}/{}'.format(class_name, file), label, class_name])"
   ]
  },
  {
   "cell_type": "code",
   "execution_count": 15,
   "metadata": {},
   "outputs": [],
   "source": [
    "df_images = pd.DataFrame(new_image_names, columns= ['file', 'label', 'class'])"
   ]
  },
  {
   "cell_type": "code",
   "execution_count": 16,
   "metadata": {},
   "outputs": [
    {
     "data": {
      "text/html": [
       "<div>\n",
       "<style scoped>\n",
       "    .dataframe tbody tr th:only-of-type {\n",
       "        vertical-align: middle;\n",
       "    }\n",
       "\n",
       "    .dataframe tbody tr th {\n",
       "        vertical-align: top;\n",
       "    }\n",
       "\n",
       "    .dataframe thead th {\n",
       "        text-align: right;\n",
       "    }\n",
       "</style>\n",
       "<table border=\"1\" class=\"dataframe\">\n",
       "  <thead>\n",
       "    <tr style=\"text-align: right;\">\n",
       "      <th></th>\n",
       "      <th>file</th>\n",
       "      <th>label</th>\n",
       "      <th>class</th>\n",
       "    </tr>\n",
       "  </thead>\n",
       "  <tbody>\n",
       "    <tr>\n",
       "      <td>0</td>\n",
       "      <td>Strawberry___healthy/8f558908-aa1b-4a86-855a-5...</td>\n",
       "      <td>0</td>\n",
       "      <td>Strawberry___healthy</td>\n",
       "    </tr>\n",
       "    <tr>\n",
       "      <td>1</td>\n",
       "      <td>Strawberry___healthy/b8e9ed27-8e37-4214-9206-f...</td>\n",
       "      <td>0</td>\n",
       "      <td>Strawberry___healthy</td>\n",
       "    </tr>\n",
       "    <tr>\n",
       "      <td>2</td>\n",
       "      <td>Strawberry___healthy/abdd34a0-ab02-41e0-95a3-a...</td>\n",
       "      <td>0</td>\n",
       "      <td>Strawberry___healthy</td>\n",
       "    </tr>\n",
       "    <tr>\n",
       "      <td>3</td>\n",
       "      <td>Strawberry___healthy/d1aee44a-b6bb-45b9-b7b6-5...</td>\n",
       "      <td>0</td>\n",
       "      <td>Strawberry___healthy</td>\n",
       "    </tr>\n",
       "    <tr>\n",
       "      <td>4</td>\n",
       "      <td>Strawberry___healthy/3d28c3ea-8419-4e09-addd-2...</td>\n",
       "      <td>0</td>\n",
       "      <td>Strawberry___healthy</td>\n",
       "    </tr>\n",
       "  </tbody>\n",
       "</table>\n",
       "</div>"
      ],
      "text/plain": [
       "                                                file  label  \\\n",
       "0  Strawberry___healthy/8f558908-aa1b-4a86-855a-5...      0   \n",
       "1  Strawberry___healthy/b8e9ed27-8e37-4214-9206-f...      0   \n",
       "2  Strawberry___healthy/abdd34a0-ab02-41e0-95a3-a...      0   \n",
       "3  Strawberry___healthy/d1aee44a-b6bb-45b9-b7b6-5...      0   \n",
       "4  Strawberry___healthy/3d28c3ea-8419-4e09-addd-2...      0   \n",
       "\n",
       "                  class  \n",
       "0  Strawberry___healthy  \n",
       "1  Strawberry___healthy  \n",
       "2  Strawberry___healthy  \n",
       "3  Strawberry___healthy  \n",
       "4  Strawberry___healthy  "
      ]
     },
     "execution_count": 16,
     "metadata": {},
     "output_type": "execute_result"
    }
   ],
   "source": [
    "df_images.head()"
   ]
  },
  {
   "cell_type": "markdown",
   "metadata": {},
   "source": [
    "## 1.2 Plotting images"
   ]
  },
  {
   "cell_type": "code",
   "execution_count": 17,
   "metadata": {},
   "outputs": [],
   "source": [
    "def read_img(filepath, size):\n",
    "    \"\"\"Read & resize image and convert it into numpy array\"\"\"\n",
    "    img = image.load_img(filepath, target_size = size)\n",
    "    img = image.img_to_array(img)\n",
    "    return img"
   ]
  },
  {
   "cell_type": "code",
   "execution_count": 18,
   "metadata": {},
   "outputs": [
    {
     "data": {
      "image/png": "[encoded data removed]",
      "text/plain": [
       "<PIL.Image.Image image mode=RGB size=256x256 at 0x14D3EF910>"
      ]
     },
     "execution_count": 18,
     "metadata": {},
     "output_type": "execute_result"
    }
   ],
   "source": [
    "Image.fromarray(np.uint8(read_img(data_dir+df_images.iloc[8900][0], (256, 256))))"
   ]
  },
  {
   "cell_type": "code",
   "execution_count": 19,
   "metadata": {},
   "outputs": [],
   "source": [
    "# plotting 10 images of each class"
   ]
  },
  {
   "cell_type": "code",
   "execution_count": 20,
   "metadata": {},
   "outputs": [],
   "source": [
    "def format_name(n):\n",
    "    return re.sub(\"_+\", \" \", n)"
   ]
  },
  {
   "cell_type": "code",
   "execution_count": 21,
   "metadata": {},
   "outputs": [],
   "source": [
    "sum_classes = len(classes)"
   ]
  },
  {
   "cell_type": "code",
   "execution_count": null,
   "metadata": {},
   "outputs": [],
   "source": [
    "fig = plt.figure(1, figsize=(10,40))\n",
    "grid = ImageGrid(fig, 111, nrows_ncols = (sum_classes, 10), axes_pad=0.05)\n",
    "\n",
    "i = 0\n",
    "for label, class_name in enumerate(classes):\n",
    "    for filepath in df_images[\"file\"][df_images[\"class\"] == class_name].values[:10]:\n",
    "        ax = grid[i]\n",
    "        img = read_img(data_dir+filepath, (256, 256))\n",
    "        ax.imshow(img/255.)\n",
    "        ax.axis('off')\n",
    "        if i % 10 == 10 -1:\n",
    "            name = format_name(filepath.split('/')[0])\n",
    "            ax.text(260, 112, name, verticalalignment=\"center\")\n",
    "        i += 1\n",
    "plt.show()\n",
    "#plt.savefig('10leaves_of_each_class.png') "
   ]
  },
  {
   "cell_type": "code",
   "execution_count": null,
   "metadata": {},
   "outputs": [],
   "source": [
    "# plotting one image of each class with numeric label"
   ]
  },
  {
   "cell_type": "code",
   "execution_count": null,
   "metadata": {},
   "outputs": [],
   "source": [
    "fig = plt.figure(1, figsize=(15, 10))\n",
    "grid = ImageGrid(fig, 111, nrows_ncols=(6, 7), axes_pad=0.05)\n",
    "\n",
    "for i in range(42):\n",
    "    ax = grid[i]\n",
    "    ax.axis('off')\n",
    "    if i < len(classes):\n",
    "        class_name = classes[i]\n",
    "        for filepath in df_images[\"file\"][df_images[\"class\"] == class_name].values[:1]:\n",
    "            img = read_img(data_dir+filepath, (256, 256))\n",
    "            ax.imshow(img/255.)\n",
    "            ax.annotate(i+1, xy=(10,25), color=\"black\", fontsize=12, fontweight=\"bold\")\n",
    "plt.tight_layout()\n",
    "plt.savefig('leaves_of_each_class_annotated.png')            "
   ]
  },
  {
   "cell_type": "markdown",
   "metadata": {},
   "source": [
    "## 2. Train-test-split"
   ]
  },
  {
   "cell_type": "code",
   "execution_count": null,
   "metadata": {},
   "outputs": [],
   "source": [
    "# create directory for train and test data and sub-directory for each class\n",
    "tts_dir = \"image_data_RGB_for_CNN/\"\n",
    "os.mkdir(tts_dir)\n",
    "os.mkdir(tts_dir+'train')\n",
    "os.mkdir(tts_dir+'test')\n",
    "for c in classes:\n",
    "    os.mkdir(tts_dir+\"train/\"+c)\n",
    "    os.mkdir(tts_dir+\"test/\"+c)"
   ]
  },
  {
   "cell_type": "code",
   "execution_count": 22,
   "metadata": {},
   "outputs": [],
   "source": [
    "num_images = len(df_images)"
   ]
  },
  {
   "cell_type": "code",
   "execution_count": 23,
   "metadata": {},
   "outputs": [
    {
     "name": "stdout",
     "output_type": "stream",
     "text": [
      "Number of images: 54305, Number of classes: 38\n"
     ]
    }
   ],
   "source": [
    "print(f'Number of images: {num_images}, Number of classes: {num_classes}')"
   ]
  },
  {
   "cell_type": "code",
   "execution_count": 24,
   "metadata": {},
   "outputs": [
    {
     "data": {
      "text/plain": [
       "54305"
      ]
     },
     "execution_count": 24,
     "metadata": {},
     "output_type": "execute_result"
    }
   ],
   "source": [
    "train_size = 0.8\n",
    "np.random.seed(50)\n",
    "num = np.random.binomial(1,train_size,num_images)\n",
    "len(num)"
   ]
  },
  {
   "cell_type": "code",
   "execution_count": null,
   "metadata": {},
   "outputs": [],
   "source": [
    "# copy images\n",
    "i = 0\n",
    "for file in tqdm(df_images['file'].values):\n",
    "    from_path = data_dir + file\n",
    "    if num[i] == 1:\n",
    "        to_path = tts_dir + \"train/\" + file\n",
    "    else:\n",
    "        to_path = tts_dir + \"test/\" + file\n",
    "    \n",
    "    copyfile(from_path, to_path)\n",
    "    i += 1"
   ]
  },
  {
   "cell_type": "code",
   "execution_count": 25,
   "metadata": {},
   "outputs": [],
   "source": [
    "tts_dir = \"image_data_RGB_for_CNN/\"\n",
    "train_dir = tts_dir + \"train/\"\n",
    "test_dir = tts_dir + \"test/\""
   ]
  },
  {
   "cell_type": "code",
   "execution_count": 26,
   "metadata": {},
   "outputs": [],
   "source": [
    "df_data = []\n",
    "for label, class_name in enumerate(classes):\n",
    "    # train\n",
    "    path = train_dir + class_name\n",
    "    for file in os.listdir(train_dir):\n",
    "        df_data.append(['{}/{}'.format(class_name, file), label, class_name, 1])\n",
    "    # test\n",
    "    path = test_dir + class_name\n",
    "    for file in os.listdir(test_dir):\n",
    "        df_data.append(['{}/{}'.format(class_name, file), label, class_name, 0])\n",
    "        \n",
    "df_data = pd.DataFrame(df_data, columns = ['file', 'label', 'class_name', 'train_id'])"
   ]
  },
  {
   "cell_type": "code",
   "execution_count": 27,
   "metadata": {},
   "outputs": [
    {
     "name": "stdout",
     "output_type": "stream",
     "text": [
      "Number of test images: 1444\n",
      "Number of train images: 1444\n"
     ]
    }
   ],
   "source": [
    "num_train_samples = df_data.train_id.sum()\n",
    "num_test_samples = len(df_data) - num_train_samples\n",
    "\n",
    "print(f'Number of test images: {num_test_samples}')\n",
    "print(f'Number of train images: {num_train_samples}')"
   ]
  },
  {
   "cell_type": "code",
   "execution_count": 28,
   "metadata": {},
   "outputs": [
    {
     "data": {
      "text/html": [
       "<div>\n",
       "<style scoped>\n",
       "    .dataframe tbody tr th:only-of-type {\n",
       "        vertical-align: middle;\n",
       "    }\n",
       "\n",
       "    .dataframe tbody tr th {\n",
       "        vertical-align: top;\n",
       "    }\n",
       "\n",
       "    .dataframe thead th {\n",
       "        text-align: right;\n",
       "    }\n",
       "</style>\n",
       "<table border=\"1\" class=\"dataframe\">\n",
       "  <thead>\n",
       "    <tr style=\"text-align: right;\">\n",
       "      <th></th>\n",
       "      <th>file</th>\n",
       "      <th>label</th>\n",
       "      <th>class_name</th>\n",
       "      <th>train_id</th>\n",
       "    </tr>\n",
       "  </thead>\n",
       "  <tbody>\n",
       "    <tr>\n",
       "      <td>2883</td>\n",
       "      <td>Soybean___healthy/Apple___Black_rot</td>\n",
       "      <td>37</td>\n",
       "      <td>Soybean___healthy</td>\n",
       "      <td>0</td>\n",
       "    </tr>\n",
       "    <tr>\n",
       "      <td>2884</td>\n",
       "      <td>Soybean___healthy/Apple___healthy</td>\n",
       "      <td>37</td>\n",
       "      <td>Soybean___healthy</td>\n",
       "      <td>0</td>\n",
       "    </tr>\n",
       "    <tr>\n",
       "      <td>2885</td>\n",
       "      <td>Soybean___healthy/Strawberry___Leaf_scorch</td>\n",
       "      <td>37</td>\n",
       "      <td>Soybean___healthy</td>\n",
       "      <td>0</td>\n",
       "    </tr>\n",
       "    <tr>\n",
       "      <td>2886</td>\n",
       "      <td>Soybean___healthy/Potato___healthy</td>\n",
       "      <td>37</td>\n",
       "      <td>Soybean___healthy</td>\n",
       "      <td>0</td>\n",
       "    </tr>\n",
       "    <tr>\n",
       "      <td>2887</td>\n",
       "      <td>Soybean___healthy/Soybean___healthy</td>\n",
       "      <td>37</td>\n",
       "      <td>Soybean___healthy</td>\n",
       "      <td>0</td>\n",
       "    </tr>\n",
       "  </tbody>\n",
       "</table>\n",
       "</div>"
      ],
      "text/plain": [
       "                                            file  label         class_name  \\\n",
       "2883         Soybean___healthy/Apple___Black_rot     37  Soybean___healthy   \n",
       "2884           Soybean___healthy/Apple___healthy     37  Soybean___healthy   \n",
       "2885  Soybean___healthy/Strawberry___Leaf_scorch     37  Soybean___healthy   \n",
       "2886          Soybean___healthy/Potato___healthy     37  Soybean___healthy   \n",
       "2887         Soybean___healthy/Soybean___healthy     37  Soybean___healthy   \n",
       "\n",
       "      train_id  \n",
       "2883         0  \n",
       "2884         0  \n",
       "2885         0  \n",
       "2886         0  \n",
       "2887         0  "
      ]
     },
     "execution_count": 28,
     "metadata": {},
     "output_type": "execute_result"
    }
   ],
   "source": [
    "df_data.tail()"
   ]
  },
  {
   "cell_type": "markdown",
   "metadata": {},
   "source": [
    "## 3. Modeling\n",
    " - transfer learning using Inception V3\n",
    " - apply image augmentation to artificially increase data set (using ImageDataGenerator)"
   ]
  },
  {
   "cell_type": "code",
   "execution_count": 29,
   "metadata": {},
   "outputs": [],
   "source": [
    "# specify data generator input\n",
    "\n",
    "train_datagen = ImageDataGenerator(\n",
    "    preprocessing_function=preprocess_input,\n",
    "    rotation_range=30,\n",
    "    width_shift_range=0.2,\n",
    "    height_shift_range=0.2,\n",
    "    shear_range=0.2,\n",
    "    zoom_range=0.2,\n",
    "    horizontal_flip=True)\n",
    "\n",
    "test_datagen = ImageDataGenerator(\n",
    "    preprocessing_function=preprocess_input)"
   ]
  },
  {
   "cell_type": "code",
   "execution_count": 30,
   "metadata": {},
   "outputs": [
    {
     "name": "stdout",
     "output_type": "stream",
     "text": [
      "Found 43616 images belonging to 38 classes.\n",
      "Found 10689 images belonging to 38 classes.\n"
     ]
    }
   ],
   "source": [
    "# create data generators\n",
    "\n",
    "width, height, depth = 299, 299, 3\n",
    "batch = 64\n",
    "\n",
    "train_generator = train_datagen.flow_from_directory(\n",
    "    train_dir,\n",
    "    target_size=(width, height),\n",
    "    batch_size=batch)\n",
    "\n",
    "test_generator = test_datagen.flow_from_directory(\n",
    "    test_dir,\n",
    "    target_size=(width, height),\n",
    "    batch_size=batch,\n",
    "    shuffle=False)"
   ]
  },
  {
   "cell_type": "code",
   "execution_count": 31,
   "metadata": {},
   "outputs": [],
   "source": [
    "# define model structure \n",
    "# - using transfer learning\n",
    "# - from Inception v3 (trained on imagenet)\n",
    "# - modifying last layer by adding new fully connected layer to base model"
   ]
  },
  {
   "cell_type": "code",
   "execution_count": 32,
   "metadata": {},
   "outputs": [],
   "source": [
    "base_model = InceptionV3(weights=\"imagenet\", include_top=False)\n",
    "x = base_model.output\n",
    "x = GlobalAveragePooling2D()(x)\n",
    "x = Dense(1024, activation=\"relu\")(x)\n",
    "x = Dropout(rate=0.5)(x)\n",
    "output = Dense(38, activation=\"softmax\")(x)\n",
    "model = Model(input=base_model.input, output=output)"
   ]
  },
  {
   "cell_type": "code",
   "execution_count": 33,
   "metadata": {},
   "outputs": [],
   "source": [
    "# compile model:\n",
    "# that defines the loss function, optimizer and metrics\n",
    "model.compile(optimizer=Adam(lr=0.001), loss=\"categorical_crossentropy\")\n",
    "#model.summary()"
   ]
  },
  {
   "cell_type": "code",
   "execution_count": 34,
   "metadata": {},
   "outputs": [],
   "source": [
    "# can not use Accuracy as metric for inbalanced data set\n",
    "# use F1_score, precision and recall\n",
    "# get it via callback methode of Keras \n",
    "# source: https://github.com/keras-team/keras/issues/10472"
   ]
  },
  {
   "cell_type": "code",
   "execution_count": 35,
   "metadata": {},
   "outputs": [],
   "source": [
    "class Metrics(Callback):\n",
    "    \n",
    "    def __init__(self, tr_data, val_data, batch_size = 50):\n",
    "        super().__init__()\n",
    "        self.train_data = tr_data\n",
    "        self.validation_data = val_data\n",
    "        self.batch_size = batch_size\n",
    "    \n",
    "    def on_train_begin(self, logs={}):\n",
    "        #print(self.validation_data)\n",
    "        self.tr_f1s = []\n",
    "        self.tr_recalls = []\n",
    "        self.tr_precisions = []\n",
    "        \n",
    "        self.val_f1s = []\n",
    "        self.val_recalls = []\n",
    "        self.val_precisions = []\n",
    "        \n",
    "    def on_epoch_end(self, epoch, logs={}):\n",
    "            \n",
    "            batch_tr = len(self.train_data)\n",
    "            total_tr = batch_tr * self.batch_size\n",
    "\n",
    "            tr_pred = []\n",
    "            tr_true = []\n",
    "            \n",
    "            for batch in range(batch_tr):\n",
    "                \n",
    "                xtr, ytr = next(self.train_data)\n",
    "                \n",
    "                tr_pred_batch = np.zeros((len(xtr)))\n",
    "                tr_true_batch = np.zeros((len(xtr)))\n",
    "\n",
    "                tr_pred_batch = np.argmax(np.asarray(self.model.predict(xtr)), axis=1) \n",
    "                # incase of a binary or multiclass classification using softmax activation in the output layer and categorical_crossentropy loss\n",
    "                tr_true_batch = np.argmax(ytr,axis=-1)\n",
    "                \n",
    "                tr_pred.append(tr_pred_batch)\n",
    "                tr_true.append(tr_true_batch)\n",
    "\n",
    "            tr_pred = np.asarray(list(itertools.chain.from_iterable(tr_pred)))\n",
    "            tr_true = np.asarray(list(itertools.chain.from_iterable(tr_true)))\n",
    "           \n",
    "            _tr_f1 = m.f1_score(tr_true, tr_pred, average=\"weighted\")\n",
    "            _tr_precision = m.precision_score(tr_true, tr_pred, average=\"weighted\")\n",
    "            _tr_recall = m.recall_score(tr_true, tr_pred, average=\"weighted\")\n",
    "\n",
    "            self.tr_f1s.append(_tr_f1)\n",
    "            self.tr_recalls.append(_tr_recall)\n",
    "            self.tr_precisions.append(_tr_precision)\n",
    "            \n",
    "            logs['tr_f1s']= _tr_f1\n",
    "            logs['tr_recall']= _tr_recall\n",
    "            logs['tr_precision']= _tr_precision\n",
    "            \n",
    "            print(\"- tr_f1: {} - tr_recall: {} - tr_precision {}\".format(\n",
    "                _tr_f1, _tr_recall, _tr_precision))\n",
    "            \n",
    "            batches = len(self.validation_data)\n",
    "            total = batches * self.batch_size\n",
    "            \n",
    "            val_pred = []\n",
    "            val_true = []\n",
    "\n",
    "            for batch in range(batches):\n",
    "                \n",
    "                xVal, yVal = next(self.validation_data)\n",
    "                \n",
    "                val_pred_batch = np.zeros((len(xVal)))\n",
    "                val_true_batch = np.zeros((len(xVal)))\n",
    "\n",
    "                val_pred_batch = np.argmax(np.asarray(self.model.predict(xVal)), axis=-1) \n",
    "                # incase of a binary or multiclass classification using softmax activation in the output layer and categorical_crossentropy loss\n",
    "                val_true_batch = np.argmax(yVal,axis=-1)\n",
    "                \n",
    "                val_pred.append(val_pred_batch)\n",
    "                val_true.append(val_true_batch)\n",
    "\n",
    "            val_pred = np.asarray(list(itertools.chain.from_iterable(val_pred)))\n",
    "            val_true = np.asarray(list(itertools.chain.from_iterable(val_true)))\n",
    "\n",
    "            _val_f1 = m.f1_score(val_true, val_pred, average = \"weighted\")\n",
    "            _val_precision = m.precision_score(val_true, val_pred, average = \"weighted\")\n",
    "            _val_recall = m.recall_score(val_true, val_pred, average = \"weighted\")\n",
    "\n",
    "            self.val_f1s.append(_val_f1)\n",
    "            self.val_recalls.append(_val_recall)\n",
    "            self.val_precisions.append(_val_precision)\n",
    "            \n",
    "            logs['val_f1s']= _val_f1\n",
    "            logs['val_recall']= _val_recall\n",
    "            logs['val_precision']= _val_precision\n",
    "            \n",
    "            print(\"- val_f1: {} - val_recall: {} - val_precision {}\".format(\n",
    "                _val_f1, _val_recall, _val_precision))\n",
    "            \n",
    "            return"
   ]
  },
  {
   "cell_type": "code",
   "execution_count": 36,
   "metadata": {},
   "outputs": [],
   "source": [
    "metric = Metrics(train_generator, test_generator, batch_size = 64)"
   ]
  },
  {
   "cell_type": "code",
   "execution_count": 37,
   "metadata": {},
   "outputs": [],
   "source": [
    "# Visualize graph and other tools with Tensorboard interface\n",
    "# - to understand, debug and optimize the model\n",
    "# source: https://github.com/tensorflow/tensorboard/blob/master/docs/r1/summaries.md"
   ]
  },
  {
   "cell_type": "code",
   "execution_count": 38,
   "metadata": {},
   "outputs": [],
   "source": [
    "log_dir = \"logs/fit\" + datetime.datetime.now().strftime(\"%Y%m%d-%H%M\")\n",
    "tensor = TensorBoard(log_dir = log_dir)"
   ]
  },
  {
   "cell_type": "code",
   "execution_count": 39,
   "metadata": {},
   "outputs": [],
   "source": [
    "# Define Checkpoints to save weights during training\n",
    "# - use ModelCheckpoint callback class\n",
    "# - define checkpoint circumstances and file name"
   ]
  },
  {
   "cell_type": "code",
   "execution_count": 40,
   "metadata": {},
   "outputs": [],
   "source": [
    "path =\"inception_v3\"+\".hdf5\"\n",
    "checkpoint = ModelCheckpoint(path,\n",
    "                            monitor=\"val_loss\",\n",
    "                            mode=\"min\",\n",
    "                            verbose=1,\n",
    "                            save_best_only=True)"
   ]
  },
  {
   "cell_type": "code",
   "execution_count": 41,
   "metadata": {},
   "outputs": [],
   "source": [
    "# monitor quality of improvment\n",
    "# - use ReduceLROnPlateau callback function\n",
    "# - reduces learning rate if no improvment is made for a \"patience\" num. of epochs"
   ]
  },
  {
   "cell_type": "code",
   "execution_count": 42,
   "metadata": {},
   "outputs": [],
   "source": [
    "reduce_lr = ReduceLROnPlateau(monitor=\"val_loss\",\n",
    "                             factor=0.2,\n",
    "                             patience=4,\n",
    "                             cooldown=5)"
   ]
  },
  {
   "cell_type": "code",
   "execution_count": 43,
   "metadata": {},
   "outputs": [],
   "source": [
    "filepath = \"inception_v3\"+\".csv\"\n",
    "csv_log = CSVLogger(filepath)"
   ]
  },
  {
   "cell_type": "code",
   "execution_count": null,
   "metadata": {},
   "outputs": [
    {
     "name": "stdout",
     "output_type": "stream",
     "text": [
      "Epoch 1/5\n",
      "50/50 [==============================] - 1762s 35s/step - loss: 1.8011 - val_loss: 3.3725\n",
      "\n",
      "Epoch 00001: val_loss improved from inf to 3.37246, saving model to inception_v3.hdf5\n",
      "- tr_f1: 0.03062362151405805 - tr_recall: 0.04512105649303008 - tr_precision 0.08116667638023858\n",
      "- val_f1: 0.05069315038061369 - val_recall: 0.060435962204135094 - val_precision 0.09228889637742275\n",
      "Epoch 2/5\n",
      "50/50 [==============================] - 1755s 35s/step - loss: 0.8789 - val_loss: 0.9204\n",
      "\n",
      "Epoch 00002: val_loss improved from 3.37246 to 0.92043, saving model to inception_v3.hdf5\n",
      "- tr_f1: 0.19419963434651638 - tr_recall: 0.2643066764490095 - tr_precision 0.3681285902496016\n",
      "- val_f1: 0.1931029524820842 - val_recall: 0.27383291233978857 - val_precision 0.2868068769668911\n",
      "Epoch 3/5\n",
      "50/50 [==============================] - 1751s 35s/step - loss: 0.7054 - val_loss: 0.0752\n",
      "\n",
      "Epoch 00003: val_loss improved from 0.92043 to 0.07519, saving model to inception_v3.hdf5\n",
      "- tr_f1: 0.1988295179699126 - tr_recall: 0.23750458547322084 - tr_precision 0.4799858012789505\n",
      "- val_f1: 0.22155183084181845 - val_recall: 0.260735335391524 - val_precision 0.46534382057751184\n",
      "Epoch 4/5\n",
      "50/50 [==============================] - 1752s 35s/step - loss: 0.5501 - val_loss: 0.0012\n",
      "\n",
      "Epoch 00004: val_loss improved from 0.07519 to 0.00123, saving model to inception_v3.hdf5\n",
      "- tr_f1: 0.25258782126479407 - tr_recall: 0.2859501100513573 - tr_precision 0.5258898222913243\n",
      "- val_f1: 0.2555815242631709 - val_recall: 0.27953971372438957 - val_precision 0.49717814426593204\n",
      "Epoch 5/5\n",
      "50/50 [==============================] - 1824s 36s/step - loss: 0.4788 - val_loss: 0.2897\n",
      "\n",
      "Epoch 00005: val_loss did not improve from 0.00123\n",
      "- tr_f1: 0.5436452425653818 - tr_recall: 0.5500733675715334 - tr_precision 0.7419633963914873\n"
     ]
    }
   ],
   "source": [
    "# fit transfer learning model\n",
    "history = model.fit_generator(\n",
    "    train_generator, \n",
    "    epochs=5,\n",
    "    steps_per_epoch=50,\n",
    "    validation_data=test_generator,\n",
    "    validation_steps=180,\n",
    "    callbacks=[checkpoint, reduce_lr, csv_log, metric])\n",
    "    #callbacks=[metric, checkpoint, reduce_lr, csv_log, tensor])"
   ]
  },
  {
   "cell_type": "code",
   "execution_count": 1,
   "metadata": {},
   "outputs": [
    {
     "ename": "NameError",
     "evalue": "name 'pd' is not defined",
     "output_type": "error",
     "traceback": [
      "\u001b[0;31m---------------------------------------------------------------------------\u001b[0m",
      "\u001b[0;31mNameError\u001b[0m                                 Traceback (most recent call last)",
      "\u001b[0;32m<ipython-input-1-255f2be14116>\u001b[0m in \u001b[0;36m<module>\u001b[0;34m\u001b[0m\n\u001b[1;32m      1\u001b[0m \u001b[0;31m# plotting train and test loss\u001b[0m\u001b[0;34m\u001b[0m\u001b[0;34m\u001b[0m\u001b[0;34m\u001b[0m\u001b[0m\n\u001b[0;32m----> 2\u001b[0;31m \u001b[0mdf_history\u001b[0m \u001b[0;34m=\u001b[0m \u001b[0mpd\u001b[0m\u001b[0;34m.\u001b[0m\u001b[0mDataFrame\u001b[0m\u001b[0;34m(\u001b[0m\u001b[0mhistory\u001b[0m\u001b[0;34m.\u001b[0m\u001b[0mhistory\u001b[0m\u001b[0;34m)\u001b[0m\u001b[0;34m\u001b[0m\u001b[0;34m\u001b[0m\u001b[0m\n\u001b[0m\u001b[1;32m      3\u001b[0m \u001b[0mdf_history\u001b[0m\u001b[0;34m[\u001b[0m\u001b[0;34m'val_f1'\u001b[0m\u001b[0;34m]\u001b[0m \u001b[0;34m=\u001b[0m \u001b[0mmetric\u001b[0m\u001b[0;34m.\u001b[0m\u001b[0mval_f1s\u001b[0m\u001b[0;34m\u001b[0m\u001b[0;34m\u001b[0m\u001b[0m\n\u001b[1;32m      4\u001b[0m \u001b[0mdf_history\u001b[0m\u001b[0;34m[\u001b[0m\u001b[0;34m'val_precision'\u001b[0m\u001b[0;34m]\u001b[0m \u001b[0;34m=\u001b[0m \u001b[0mmetric\u001b[0m\u001b[0;34m.\u001b[0m\u001b[0mval_precisions\u001b[0m\u001b[0;34m\u001b[0m\u001b[0;34m\u001b[0m\u001b[0m\n\u001b[1;32m      5\u001b[0m \u001b[0mdf_history\u001b[0m\u001b[0;34m[\u001b[0m\u001b[0;34m'val_recall'\u001b[0m\u001b[0;34m]\u001b[0m \u001b[0;34m=\u001b[0m \u001b[0mmetric\u001b[0m\u001b[0;34m.\u001b[0m\u001b[0mval_recalls\u001b[0m\u001b[0;34m\u001b[0m\u001b[0;34m\u001b[0m\u001b[0m\n",
      "\u001b[0;31mNameError\u001b[0m: name 'pd' is not defined"
     ]
    }
   ],
   "source": [
    "# plotting train and test loss\n",
    "df_history = pd.DataFrame(history.history)\n",
    "df_history['val_f1'] = metric.val_f1s\n",
    "df_history['val_precision'] = metric.val_precisions\n",
    "df_history['val_recall'] = metric.val_recalls\n",
    "df_history[['loss', 'val_loss']].plot()\n",
    "df_history[['val_f1', 'val_precision', 'val_recall']].plot()"
   ]
  },
  {
   "cell_type": "markdown",
   "metadata": {},
   "source": [
    "## 4. Prediction\n",
    " - using saved model & weights\n",
    " - Reset! test_generator before using predict_generator to avoid random output"
   ]
  },
  {
   "cell_type": "raw",
   "metadata": {},
   "source": [
    "https://medium.com/analytics-vidhya/plants-doctor-detecting-diseases-in-plants-e5c44c569bdb"
   ]
  },
  {
   "cell_type": "code",
   "execution_count": 45,
   "metadata": {},
   "outputs": [],
   "source": [
    "test_generator.reset()\n",
    "predictions = model.predict_generator(generator=test_generator)\n",
    "y_pred = [np.argmax(probas) for probas in predictions]\n",
    "y_test = test_generator.classes"
   ]
  },
  {
   "cell_type": "code",
   "execution_count": 46,
   "metadata": {},
   "outputs": [
    {
     "name": "stdout",
     "output_type": "stream",
     "text": [
      "Precision_weighted: 0.895322127468578\n",
      "Recall_weighted: 2.151744784357751\n",
      "F1_weighted: 0.5917561047154077\n"
     ]
    }
   ],
   "source": [
    "# sanity check\n",
    "print(\"Precision_weighted:\", m.precision_score(y_test, y_pred, average=\"weighted\")*100)\n",
    "print(\"Recall_weighted:\", m.recall_score(y_test, y_pred, average=\"weighted\")*100)\n",
    "print(\"F1_weighted:\", m.f1_score(y_test, y_pred, average=\"weighted\")*100)"
   ]
  },
  {
   "cell_type": "code",
   "execution_count": null,
   "metadata": {},
   "outputs": [],
   "source": [
    "# map predicted labels to unique ids (filenames)\n",
    "labels_map = train_generator.class_indices\n",
    "labels = dict((v, k) for k, v in labels_map.items())\n",
    "predict = [labels[k] for k in y_pred]\n",
    "\n",
    "# store results in dataframe\n",
    "filenames = test_generator.filenames\n",
    "results = pd.DataFrame({\"Filenames\": filenames, \"Prediction\": predict})"
   ]
  },
  {
   "cell_type": "code",
   "execution_count": null,
   "metadata": {},
   "outputs": [],
   "source": [
    "# Visualize precision-racall confusion matrix\n",
    "# 1. Confusion matrix\n",
    "from sklearn.metrics import confusion_matrix\n",
    "def plot_consusion_matrix(test_y, predict_y):\n",
    "    C = confusion_matrix(test_y, predict_y)\n",
    "    \n",
    "    print(\"Number of misclassified images-\", (len(test_y)-np.trace(C)))\n",
    "    print(\"% of misclassified images-\", (len(test_y)-np.trace(C))*100/len(test_y))\n",
    "    \n",
    "    labels = [i for i in range(1,38)]\n",
    "    cmap = sns.light_platte(\"blue\")\n",
    "    print(\"-\"*50, \"Confusion matrix\", \"-\"*50)\n",
    "    plt.figure(figsize = (25, 12))\n",
    "    sns.heatmap(C, annot=True, cmap = cmap, fmt = \".1f\", xticklabls = labels, ytricklabels = labels)\n",
    "    plt.xlabels(\"Predicted Classes\")\n",
    "    plt.ylabels(\"Original Classes\")\n",
    "    plt.show()"
   ]
  },
  {
   "cell_type": "code",
   "execution_count": null,
   "metadata": {},
   "outputs": [],
   "source": [
    "plot_confusion_matrix(y_test, y_pred)"
   ]
  },
  {
   "cell_type": "markdown",
   "metadata": {},
   "source": [
    "Result:\n",
    " - some images from class 7 get predicted as class 9 and vice versa\n",
    " - class 32 is predicted as class 30\n",
    " - class 34 is predicted as 33, 37 "
   ]
  },
  {
   "cell_type": "code",
   "execution_count": null,
   "metadata": {},
   "outputs": [],
   "source": [
    "# 2. Recall matrix\n",
    "def plot_recall_matrix(test_y, predict_y):\n",
    "    C = confusion_matrix(test_y, predict_y)\n",
    "    A = (((C.T)/(C.sum(axis=1))).T)\n",
    "    \n",
    "    labels = [i for i in range(1,38)]\n",
    "    cmap = sns.light_platte(\"green\")\n",
    "    print(\"-\"*50, \"Recall matrix\", \"-\"*50)\n",
    "    plt.figure(figsize = (25, 12))\n",
    "    sns.heatmap(A, annot=True, cmap = cmap, fmt = \".2f\", xticklabls = labels, ytricklabels = labels)\n",
    "    plt.xlabels(\"Predicted Classes\")\n",
    "    plt.ylabels(\"Original Classes\")\n",
    "    plt.show()\n",
    "    print(\"Sum of rows in recall matrix\", A.sum(axis=1))"
   ]
  },
  {
   "cell_type": "code",
   "execution_count": null,
   "metadata": {},
   "outputs": [],
   "source": [
    "plot_recall_matrix(y_test, y_pred)"
   ]
  },
  {
   "cell_type": "markdown",
   "metadata": {},
   "source": [
    "Result:\n",
    " - recall for class 7, 9 is not as good as compared to others"
   ]
  },
  {
   "cell_type": "code",
   "execution_count": null,
   "metadata": {},
   "outputs": [],
   "source": [
    "# 3. Precision matrix\n",
    "def plot_precision_matrix(test_y, predict_y):\n",
    "    C = confusion_matrix(test_y, predict_y)\n",
    "    B = (C/C.sum(axis=1))\n",
    "    \n",
    "    labels = [i for i in range(1,38)]\n",
    "    cmap = sns.light_platte(\"red\")\n",
    "    print(\"-\"*50, \"Precision matrix\", \"-\"*50)\n",
    "    plt.figure(figsize = (25, 12))\n",
    "    sns.heatmap(B, annot=True, cmap = cmap, fmt = \".2f\", xticklabls = labels, ytricklabels = labels)\n",
    "    plt.xlabels(\"Predicted Classes\")\n",
    "    plt.ylabels(\"Original Classes\")\n",
    "    plt.show()\n",
    "    print(\"Sum of columns in precision matrix\", B.sum(axis=0))"
   ]
  },
  {
   "cell_type": "code",
   "execution_count": null,
   "metadata": {},
   "outputs": [],
   "source": [
    "plot_precision_matrix(y_test, y_pred)"
   ]
  },
  {
   "cell_type": "markdown",
   "metadata": {},
   "source": [
    "Result:\n",
    " - precision for classes 7, 9, 29, 30 is not as good compared to others"
   ]
  },
  {
   "cell_type": "markdown",
   "metadata": {},
   "source": [
    "## 5. Prediction on Images\n",
    " - define function to predict class for a single image, plot the result and the image"
   ]
  },
  {
   "cell_type": "code",
   "execution_count": null,
   "metadata": {},
   "outputs": [],
   "source": [
    "def plant_diagnosis(file):\n",
    "    np_image = Image.open(filename)\n",
    "    np_image = np.array(np_image).astype('float23')/255\n",
    "    np_image = transform.resize(np_image, (299, 299, 3))\n",
    "    image = np.expand_dims(np_image, axis=0)\n",
    "    pred = inc_model.predict(image)\n",
    "    k = np.argmax(pred, axis = 1)\n",
    "    clas = labels[k[0]]\n",
    "    plt.imshow(plt.imread(file))\n",
    "    plt.title(\"diagnosis: \"+str(clas))\n",
    "    plt.show()"
   ]
  },
  {
   "cell_type": "code",
   "execution_count": null,
   "metadata": {},
   "outputs": [],
   "source": [
    "plant_diagnosis(\"/Users/pepper/PythonProjects/plant_diagnosis/PlantVillage-Dataset/raw/color/Pepper,_bell___Bacterial_spot/0c99cb45-b4e0-4ade-bba5-fab3b678f0bb___JR_B.Spot 8912.JPG\")"
   ]
  },
  {
   "cell_type": "code",
   "execution_count": null,
   "metadata": {},
   "outputs": [],
   "source": [
    "plant_diagnosis(\"/Users/pepper/PythonProjects/plant_diagnosis/PlantVillage-Dataset/raw/color/Orange___Haunglongbing_(Citrus_greening)/0a5026a4-68e9-4cd9-8510-5bdb9d0271f9___UF.Citrus_HLB_Lab 0893.JPG\")"
   ]
  }
 ],
 "metadata": {
  "kernelspec": {
   "display_name": "Python 3",
   "language": "python",
   "name": "python3"
  },
  "language_info": {
   "codemirror_mode": {
    "name": "ipython",
    "version": 3
   },
   "file_extension": ".py",
   "mimetype": "text/x-python",
   "name": "python",
   "nbconvert_exporter": "python",
   "pygments_lexer": "ipython3",
   "version": "3.7.4"
  }
 },
 "nbformat": 4,
 "nbformat_minor": 4
}
