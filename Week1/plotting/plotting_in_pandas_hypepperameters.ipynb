{
 "cells": [
  {
   "cell_type": "code",
   "execution_count": null,
   "metadata": {},
   "outputs": [],
   "source": [
    "import matplotlib.pyplot as plt"
   ]
  },
  {
   "cell_type": "code",
   "execution_count": null,
   "metadata": {},
   "outputs": [],
   "source": [
    "x = [i/10 for i in range(-100, 101)] \n",
    "#list comprehension\n",
    "#i.e. making a list in one line of code\n",
    "\n",
    "y = [i**2 for i in x]"
   ]
  },
  {
   "cell_type": "markdown",
   "metadata": {},
   "source": [
    "### 2 ways to plot in Python\n",
    "* 1. Directly through MatPlotLib"
   ]
  },
  {
   "cell_type": "code",
   "execution_count": null,
   "metadata": {},
   "outputs": [],
   "source": [
    "plt.figure(figsize=(10, 8))\n",
    "plt.plot(x,y, c='g')\n",
    "plt.title('Polynomial $y= x^2$')"
   ]
  },
  {
   "cell_type": "markdown",
   "metadata": {},
   "source": [
    "* Plot directly from a Pandas DataFrame"
   ]
  },
  {
   "cell_type": "code",
   "execution_count": null,
   "metadata": {},
   "outputs": [],
   "source": [
    "import pandas as pd\n",
    "\n",
    "df = pd.DataFrame(index = x, data = y)\n",
    "df.plot(legend=None)\n",
    "plt.title('HERE IS MY TITLE')\n",
    "plt.axis([-5, 5, 0, 10])"
   ]
  },
  {
   "cell_type": "markdown",
   "metadata": {},
   "source": [
    "### In summary:\n",
    "- Create the initial plot using Pandas,\n",
    "- all other things like titles, figure size, colors, axes options, etc. can be done on top of the existing plot with matplotlib"
   ]
  },
  {
   "cell_type": "markdown",
   "metadata": {},
   "source": [
    "---"
   ]
  },
  {
   "cell_type": "markdown",
   "metadata": {},
   "source": [
    "### Making an animated plot!"
   ]
  },
  {
   "cell_type": "code",
   "execution_count": null,
   "metadata": {},
   "outputs": [],
   "source": [
    "df = pd.read_excel('/Users/PaulWlodkowski/Downloads/gapminder_lifeexpectancy.xlsx')"
   ]
  },
  {
   "cell_type": "code",
   "execution_count": null,
   "metadata": {},
   "outputs": [],
   "source": [
    "df.set_index('Life expectancy', inplace=True)"
   ]
  },
  {
   "cell_type": "code",
   "execution_count": null,
   "metadata": {},
   "outputs": [],
   "source": []
  },
  {
   "cell_type": "code",
   "execution_count": null,
   "metadata": {},
   "outputs": [],
   "source": [
    "#Step1. Create a list of numbers from 1800 to 2016\n",
    "years = list(df.columns)"
   ]
  },
  {
   "cell_type": "code",
   "execution_count": null,
   "metadata": {},
   "outputs": [],
   "source": [
    "import imageio\n",
    "#pip install imageio"
   ]
  },
  {
   "cell_type": "code",
   "execution_count": null,
   "metadata": {},
   "outputs": [],
   "source": [
    "images = []\n",
    "\n",
    "for y in years:\n",
    "\n",
    "    avg_life = round(df[y].mean())\n",
    "\n",
    "    df[y].hist()\n",
    "    # plt.title('Year: {0}, Avg. Life Exp: {1}'.format(year, avg_life)) ### .format() way\n",
    "    plt.title(f'Year: {y}, Avg. Life Exp: {avg_life}') ### f-string way\n",
    "    plt.axis([0, 100, 0, 100])\n",
    "\n",
    "    plt.savefig(f'frame_{y}.png')\n",
    "    \n",
    "    ### Use imageio to read the file we just saved, convert it to an array, and append it to a list\n",
    "    \n",
    "    im = imageio.imread(f'frame_{y}.png')\n",
    "    images.append(im)\n",
    "    \n",
    "    plt.figure() #creates a new empty plot every time!"
   ]
  },
  {
   "cell_type": "code",
   "execution_count": null,
   "metadata": {},
   "outputs": [],
   "source": [
    "imageio.mimsave('life_expectancy.gif', images, fps=10)"
   ]
  },
  {
   "cell_type": "code",
   "execution_count": null,
   "metadata": {},
   "outputs": [],
   "source": []
  }
 ],
 "metadata": {
  "kernelspec": {
   "display_name": "Python 3",
   "language": "python",
   "name": "python3"
  },
  "language_info": {
   "codemirror_mode": {
    "name": "ipython",
    "version": 3
   },
   "file_extension": ".py",
   "mimetype": "text/x-python",
   "name": "python",
   "nbconvert_exporter": "python",
   "pygments_lexer": "ipython3",
   "version": "3.6.7"
  }
 },
 "nbformat": 4,
 "nbformat_minor": 2
}
