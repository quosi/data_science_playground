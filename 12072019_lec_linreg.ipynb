{
 "cells": [
  {
   "cell_type": "markdown",
   "metadata": {},
   "source": [
    "# Morning Lecture"
   ]
  },
  {
   "cell_type": "markdown",
   "metadata": {},
   "source": [
    "# Linear Regression"
   ]
  },
  {
   "cell_type": "code",
   "execution_count": 18,
   "metadata": {},
   "outputs": [],
   "source": [
    "from sklearn.linear_model import LinearRegression\n",
    "from matplotlib import pyplot as plt\n",
    "import pandas as pd\n",
    "import numpy as np\n"
   ]
  },
  {
   "cell_type": "code",
   "execution_count": 19,
   "metadata": {},
   "outputs": [],
   "source": [
    "pop = pd.read_excel('gapminder_population.xlsx', index_col=0)\n",
    "pop = pop.sum()\n",
    "pop.index = pop.index.astype(int)\n",
    "logpop = np.log(pop)\n",
    "logpop.dropna(inplace=True)"
   ]
  },
  {
   "cell_type": "code",
   "execution_count": 44,
   "metadata": {},
   "outputs": [],
   "source": [
    "X = logpop.index.values.reshape(-1, 1)\n",
    "y = logpop.values"
   ]
  },
  {
   "cell_type": "code",
   "execution_count": 45,
   "metadata": {},
   "outputs": [
    {
     "data": {
      "text/plain": [
       "(81,)"
      ]
     },
     "execution_count": 45,
     "metadata": {},
     "output_type": "execute_result"
    }
   ],
   "source": [
    "# always do this with numpy arrays or even with DataFrames:\n",
    "# X is a matrix (here with only one column, but there could be many)\n",
    "#   mathematicians use capital letters for matrices\n",
    "# X is the input data for our machine learning model\n",
    "# X is also called the \"independent variable(s)\"\n",
    "X.shape\n",
    "# y is the thing we want to describe\n",
    "# y is a vector (mathematicians use lowercase for vectors)\n",
    "# y is the output of our model\n",
    "y.shape"
   ]
  },
  {
   "cell_type": "code",
   "execution_count": 46,
   "metadata": {},
   "outputs": [],
   "source": [
    "# we want to describe:\n",
    "#\n",
    "# y = f(X)\n"
   ]
  },
  {
   "cell_type": "code",
   "execution_count": 47,
   "metadata": {},
   "outputs": [
    {
     "data": {
      "text/plain": [
       "LinearRegression(copy_X=True, fit_intercept=True, n_jobs=None,\n",
       "         normalize=False)"
      ]
     },
     "execution_count": 47,
     "metadata": {},
     "output_type": "execute_result"
    }
   ],
   "source": [
    "m = LinearRegression() # create a model object (LinearRegressiion is a class)\n",
    "m.fit(X, y)            # \"trains\" the model\n",
    "                       # finds the best possible slope and intercept\n"
   ]
  },
  {
   "cell_type": "code",
   "execution_count": 48,
   "metadata": {},
   "outputs": [],
   "source": [
    "xfuture = [[2020], [2030], [2040], [2050], [2100]] # we want to make a prediction of the population for these years\n",
    "yfuture = m.predict(xfuture)\n",
    "yfuture = np.exp(yfuture) / 1000_000_000 # we can put underscroll to read big numbers easier"
   ]
  },
  {
   "cell_type": "code",
   "execution_count": 49,
   "metadata": {},
   "outputs": [
    {
     "name": "stdout",
     "output_type": "stream",
     "text": [
      "slope    :  0.01116937498463145\n",
      "intercept:  0.1774210052035592\n",
      "R-squared:  0.9485144752289157\n",
      "population forecast for [2020]:   7.5 bln\n",
      "population forecast for [2030]:   8.4 bln\n",
      "population forecast for [2040]:   9.4 bln\n",
      "population forecast for [2050]:  10.5 bln\n",
      "population forecast for [2100]:  18.4 bln\n"
     ]
    }
   ],
   "source": [
    "print(\"slope    : \", m.coef_[0])    # every year the log pop goes up by 0.011\n",
    "print(\"intercept: \", m.intercept_)  # in the year zero the log pop was 0.1774\n",
    "print(\"R-squared: \", m.score(X, y)) # we can explain 95% of the population\n",
    "for year, forecast in zip(xfuture, yfuture):\n",
    "    print(f\"population forecast for {year}: {forecast:5.1f} bln\")"
   ]
  },
  {
   "cell_type": "code",
   "execution_count": 50,
   "metadata": {},
   "outputs": [
    {
     "data": {
      "image/png": "[encoded data removed]",
      "text/plain": [
       "<Figure size 432x288 with 1 Axes>"
      ]
     },
     "metadata": {
      "needs_background": "light"
     },
     "output_type": "display_data"
    }
   ],
   "source": [
    "ypred = m.predict(X)\n",
    "plt.scatter(X, y, c='red')\n",
    "plt.plot(X, ypred)\n",
    "plt.show()\n"
   ]
  },
  {
   "cell_type": "code",
   "execution_count": 51,
   "metadata": {},
   "outputs": [
    {
     "name": "stdout",
     "output_type": "stream",
     "text": [
      "slope    :  0.015356567018111007\n",
      "intercept:  -8.116615270449834\n",
      "R-squared:  0.9762766054658274\n",
      "population forecast for [2020]:   8.8 bln\n",
      "population forecast for [2030]:  10.3 bln\n"
     ]
    },
    {
     "data": {
      "image/png": "[encoded data removed]",
      "text/plain": [
       "<Figure size 432x288 with 1 Axes>"
      ]
     },
     "metadata": {
      "needs_background": "light"
     },
     "output_type": "display_data"
    }
   ],
   "source": [
    "# Prediction of 2020 and 2030 with the data only after 1950\n",
    "\n",
    "X = logpop.index.values.reshape(-1, 1)\n",
    "y = logpop.values\n",
    "X = X[-65:]\n",
    "y = y[-65:]\n",
    "m = LinearRegression() # create a model object (LinearRegressiion is a class)\n",
    "m.fit(X, y)            # \"trains\" the model\n",
    "                       # finds the best possible slope and intercept\n",
    "xfuture = [[2020], [2030]] # we want to make a prediction of the population for these years\n",
    "yfuture = m.predict(xfuture)\n",
    "yfuture = np.exp(yfuture) / 1000_000_000 # we can put underscroll to read big numbers easier\n",
    "print(\"slope    : \", m.coef_[0])    # every year the log pop goes up by 0.011\n",
    "print(\"intercept: \", m.intercept_)  # in the year zero the log pop was 0.1774\n",
    "print(\"R-squared: \", m.score(X, y)) # we can explain 95% of the population\n",
    "for year, forecast in zip(xfuture, yfuture):\n",
    "    print(f\"population forecast for {year}: {forecast:5.1f} bln\")\n",
    "ypred = m.predict(X)\n",
    "plt.scatter(X, y, c='red')\n",
    "plt.plot(X, ypred)\n",
    "plt.show()"
   ]
  },
  {
   "cell_type": "code",
   "execution_count": null,
   "metadata": {},
   "outputs": [],
   "source": []
  },
  {
   "cell_type": "code",
   "execution_count": null,
   "metadata": {},
   "outputs": [],
   "source": []
  },
  {
   "cell_type": "markdown",
   "metadata": {},
   "source": [
    "# Afternoon Lecture"
   ]
  },
  {
   "cell_type": "markdown",
   "metadata": {},
   "source": [
    "Data Structures Recap: Dictionaries"
   ]
  },
  {
   "cell_type": "code",
   "execution_count": null,
   "metadata": {},
   "outputs": [],
   "source": []
  }
 ],
 "metadata": {
  "kernelspec": {
   "display_name": "Python 3",
   "language": "python",
   "name": "python3"
  },
  "language_info": {
   "codemirror_mode": {
    "name": "ipython",
    "version": 3
   },
   "file_extension": ".py",
   "mimetype": "text/x-python",
   "name": "python",
   "nbconvert_exporter": "python",
   "pygments_lexer": "ipython3",
   "version": "3.7.1"
  }
 },
 "nbformat": 4,
 "nbformat_minor": 2
}
