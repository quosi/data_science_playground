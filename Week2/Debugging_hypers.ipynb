{
 "cells": [
  {
   "cell_type": "markdown",
   "metadata": {},
   "source": [
    "# Debugging\n",
    "##### _Part of our look at engineering best practices_:\n",
    "##### _testing, code wrappers, packaging, version control and continuous integration_"
   ]
  },
  {
   "cell_type": "markdown",
   "metadata": {},
   "source": [
    "---"
   ]
  },
  {
   "cell_type": "markdown",
   "metadata": {},
   "source": [
    "### Objectives:\n",
    "* Learn what causes bugs\n",
    "* Learn to decode the errors that are thrown\n",
    "* Learn what to do with bugs"
   ]
  },
  {
   "cell_type": "markdown",
   "metadata": {},
   "source": [
    "---"
   ]
  },
  {
   "cell_type": "markdown",
   "metadata": {},
   "source": [
    "_Ed Dijkstra - Testing can be used to show the presence of bugs, but never to show their absence_\n",
    "\n",
    "_Grace Hopper records the first ever 'bug' in the Harvard Mark II in 1947. Do you know what it was?_\n"
   ]
  },
  {
   "cell_type": "markdown",
   "metadata": {},
   "source": [
    "---"
   ]
  },
  {
   "cell_type": "markdown",
   "metadata": {},
   "source": [
    "#### Clean code is code with the absence of bugs. Unfortunately this is highly unlikely in anything other than very simple code in python\n",
    "\n",
    "##### What sort of things go wrong?"
   ]
  },
  {
   "cell_type": "markdown",
   "metadata": {},
   "source": [
    "https://youtu.be/PK_yguLapgA?t=75\n",
    "\n",
    "https://www.bugsnag.com/blog/bug-day-ariane-5-disaster"
   ]
  },
  {
   "cell_type": "markdown",
   "metadata": {},
   "source": [
    "---"
   ]
  },
  {
   "cell_type": "markdown",
   "metadata": {},
   "source": [
    "#### Ok, what might go wrong for us?\n",
    "\n",
    "Lets split into groups, and take a few minutes to discuss the sorts of problems which can occur. Hint, it helps to think about code errors like language errors, which can be split into 3 categories, Pragmatics / Syntax / Semantics.\n",
    "\n",
    "E.g.:\n",
    "\n",
    "* **No problem**:\n",
    "This is a notebook about debugging.\n",
    "* **Syntax**:\n",
    "Notebook a this debugging is about.\n",
    "* **Semantics**:\n",
    "This is an angry notebook about invisible colours.\n",
    "* **Pragmatics**:\n",
    "This is a notebook about debugging, which is why I'm british."
   ]
  },
  {
   "cell_type": "code",
   "execution_count": null,
   "metadata": {},
   "outputs": [],
   "source": []
  },
  {
   "cell_type": "markdown",
   "metadata": {},
   "source": [
    "---"
   ]
  },
  {
   "cell_type": "markdown",
   "metadata": {},
   "source": [
    "### What sort of problems do we see?"
   ]
  },
  {
   "cell_type": "markdown",
   "metadata": {},
   "source": [
    "#### 2 steps happen in traditional programming : compile and run. \n",
    "\n",
    "*So the problems we see in code either happen at compiletime (and are compiletime problems), or at runtime (and are runtime problems). Compiletime problems are syntax-based, and some semantic-based. Runtime problems are usually pragmatic-based*\n",
    "\n",
    "\n",
    "_Check out dis.dis(var) if you're interested in bytecode_"
   ]
  },
  {
   "cell_type": "code",
   "execution_count": null,
   "metadata": {},
   "outputs": [],
   "source": []
  },
  {
   "cell_type": "markdown",
   "metadata": {},
   "source": [
    "---"
   ]
  },
  {
   "cell_type": "markdown",
   "metadata": {},
   "source": [
    "#### And what sort of errors are we shown?\n",
    "\n",
    "*Everything inherets from Base Exception, aka Exception, and are called Errors. What have you seen already?*\n",
    "\n",
    "_https://docs.python.org/3/library/exceptions.html_"
   ]
  },
  {
   "cell_type": "code",
   "execution_count": null,
   "metadata": {},
   "outputs": [],
   "source": []
  },
  {
   "cell_type": "markdown",
   "metadata": {},
   "source": [
    "---"
   ]
  },
  {
   "cell_type": "markdown",
   "metadata": {},
   "source": [
    "#### And how can we 'decode' a python error message?\n",
    " \n",
    "*Read the Traceback!* \n",
    "* Start at the bottom\n",
    "* Then move through the stacktrace - hint! Start at the most recent"
   ]
  },
  {
   "cell_type": "code",
   "execution_count": null,
   "metadata": {},
   "outputs": [],
   "source": []
  },
  {
   "cell_type": "markdown",
   "metadata": {},
   "source": [
    "---"
   ]
  },
  {
   "cell_type": "markdown",
   "metadata": {},
   "source": [
    "### Let's try and find some bugs in an exercise"
   ]
  },
  {
   "cell_type": "markdown",
   "metadata": {},
   "source": [
    "Get together in pairs, and review the following (fictional!) code for a nuclear vault door. \n",
    "\n",
    "The goal: Identify potential safety or correctness issues.\n",
    "(the record is 5)\n",
    "\n",
    "The control mechanism of the lock of a vault for nuclear waste\n",
    "has been designed for safe operation. It makes sure that it is\n",
    "only possible to access the vault, if the radiation shields\n",
    "are in place or the radiation level in the vault is below a \n",
    "threshold (DANGER_LEVEL). That means:\n",
    "\n",
    "* If the remote-controlled radiation shields are in place, the door may be opened by an authorized operator.\n",
    "* If the radiation level in the room is below the threshold, the door may be opened by an authorized operator.\n",
    "* An authorized operator may open the door by entering a code.\n",
    "\n",
    "The code below controls the door lock. Note that the safe state\n",
    "is that no entry is possible. Develop an argument for safety\n",
    "that shows that the code is potentially unsafe. \n",
    "\n",
    "(adopted from I.Sommerville, Software Engineering, 9th edition)"
   ]
  },
  {
   "cell_type": "code",
   "execution_count": null,
   "metadata": {},
   "outputs": [],
   "source": [
    "entry_code = lock.get_entry_code()\n",
    "if entry_code == lock.authorised_code:\n",
    "    shield_status = shield.get_status()\n",
    "    radiation_level = rad_sensor.get()\n",
    "    if radiation_level < DANGER_LEVEL:\n",
    "        state = SAFE\n",
    "    else:\n",
    "        state = UNSAFE\n",
    "    if shield_status == shield.in_place():\n",
    "        state = SAFE\n",
    "    if state == SAFE:\n",
    "        door.locked = False\n",
    "        door.unlock()\n",
    "    else:\n",
    "        door.lock()\n",
    "        door.locked = True"
   ]
  },
  {
   "cell_type": "markdown",
   "metadata": {},
   "source": [
    "---"
   ]
  },
  {
   "cell_type": "markdown",
   "metadata": {},
   "source": [
    "#### So how can we prevent bugs?\n",
    "* Writing well structured code - pylint - https://www.pylint.org/\n",
    "* Testing your code - pytest - https://docs.pytest.org/en/latest/\n",
    "* And thats just the beginning!"
   ]
  },
  {
   "cell_type": "markdown",
   "metadata": {},
   "source": [
    "---"
   ]
  }
 ],
 "metadata": {
  "kernelspec": {
   "display_name": "Python 3",
   "language": "python",
   "name": "python3"
  },
  "language_info": {
   "codemirror_mode": {
    "name": "ipython",
    "version": 3
   },
   "file_extension": ".py",
   "mimetype": "text/x-python",
   "name": "python",
   "nbconvert_exporter": "python",
   "pygments_lexer": "ipython3",
   "version": "3.7.3"
  }
 },
 "nbformat": 4,
 "nbformat_minor": 2
}
