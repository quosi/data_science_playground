{
 "cells": [
  {
   "cell_type": "code",
   "execution_count": 2,
   "metadata": {},
   "outputs": [],
   "source": [
    "import pandas as pd\n",
    "df = pd.read_csv('train.csv')"
   ]
  },
  {
   "cell_type": "code",
   "execution_count": 17,
   "metadata": {},
   "outputs": [],
   "source": [
    "# d = {5: 40.0,\n",
    "#     17: 30.0}"
   ]
  },
  {
   "cell_type": "code",
   "execution_count": 15,
   "metadata": {},
   "outputs": [],
   "source": [
    "# s = pd.Series(d)"
   ]
  },
  {
   "cell_type": "markdown",
   "metadata": {},
   "source": [
    "## Fill in the missing ages with the average age for that particular row's title value."
   ]
  },
  {
   "cell_type": "markdown",
   "metadata": {},
   "source": [
    "### Step 1: Get all the titles!"
   ]
  },
  {
   "cell_type": "markdown",
   "metadata": {},
   "source": [
    "#### Option A"
   ]
  },
  {
   "cell_type": "code",
   "execution_count": 34,
   "metadata": {},
   "outputs": [],
   "source": [
    "list_of_titles = []\n",
    "\n",
    "for i in df['Name']:\n",
    "    title = i.split()[1]\n",
    "    if title.strip().endswith('.'):\n",
    "        list_of_titles.append(title)\n",
    "    \n",
    "    \n",
    "titles = dict(enumerate(set(list_of_titles)))"
   ]
  },
  {
   "cell_type": "code",
   "execution_count": 37,
   "metadata": {},
   "outputs": [
    {
     "data": {
      "text/plain": [
       "{0: 'Miss.',\n",
       " 1: 'Ms.',\n",
       " 2: 'Don.',\n",
       " 3: 'Capt.',\n",
       " 4: 'Jonkheer.',\n",
       " 5: 'Rev.',\n",
       " 6: 'Mlle.',\n",
       " 7: 'Major.',\n",
       " 8: 'Mrs.',\n",
       " 9: 'Col.',\n",
       " 10: 'Mme.',\n",
       " 11: 'Master.',\n",
       " 12: 'Dr.',\n",
       " 13: 'Mr.'}"
      ]
     },
     "execution_count": 37,
     "metadata": {},
     "output_type": "execute_result"
    }
   ],
   "source": [
    "titles #at this point, we may need to manually add the other titles that didn't contains periods."
   ]
  },
  {
   "cell_type": "markdown",
   "metadata": {},
   "source": [
    "#### Option B"
   ]
  },
  {
   "cell_type": "code",
   "execution_count": 38,
   "metadata": {},
   "outputs": [],
   "source": [
    "import re"
   ]
  },
  {
   "cell_type": "code",
   "execution_count": 47,
   "metadata": {},
   "outputs": [],
   "source": [
    "def extract(s):\n",
    "    \n",
    "    \"\"\"\n",
    "    Look for a sub-string in my string that starts with a blank space, then followed by any alpha-numeric\n",
    "    character (case-insensitive) --- as many times as you can find -- until you reach a period.\n",
    "    \"\"\"\n",
    "    pattern = r\"\\ \\w*\\.\"\n",
    "\n",
    "    match = re.search(pattern, s)\n",
    "    return match.group().strip()\n",
    "\n",
    "df[\"Name_Title\"] = df[\"Name\"].apply(extract)"
   ]
  },
  {
   "cell_type": "code",
   "execution_count": 40,
   "metadata": {},
   "outputs": [],
   "source": [
    "pattern = r\"\\ \\w*\\.\""
   ]
  },
  {
   "cell_type": "code",
   "execution_count": 44,
   "metadata": {},
   "outputs": [
    {
     "data": {
      "text/plain": [
       "' Mr.'"
      ]
     },
     "execution_count": 44,
     "metadata": {},
     "output_type": "execute_result"
    }
   ],
   "source": [
    "re.search(pattern, example).group()"
   ]
  },
  {
   "cell_type": "markdown",
   "metadata": {},
   "source": [
    "#### Option C"
   ]
  },
  {
   "cell_type": "code",
   "execution_count": 60,
   "metadata": {},
   "outputs": [],
   "source": [
    "df['Name_Title_2'] = df['Name'].str.extract(r'\\b(\\w*)\\b\\.')"
   ]
  },
  {
   "cell_type": "markdown",
   "metadata": {},
   "source": [
    "#### Option D"
   ]
  },
  {
   "cell_type": "code",
   "execution_count": 61,
   "metadata": {},
   "outputs": [],
   "source": [
    "df['Name_Title_3'] = df['Name'].str.extract('([A-Z]\\w{0,}\\.)', expand=True)"
   ]
  },
  {
   "cell_type": "code",
   "execution_count": null,
   "metadata": {},
   "outputs": [],
   "source": []
  },
  {
   "cell_type": "code",
   "execution_count": 36,
   "metadata": {},
   "outputs": [],
   "source": [
    "# for idx, row in df.iterrows():\n",
    "#     for key, value in titles.items():\n",
    "#        if value in row.Name:\n",
    "#            print(value in row.Name, row.Name)\n",
    "#         df.loc[idx, 'Name'] = key\n",
    "#         break"
   ]
  },
  {
   "cell_type": "code",
   "execution_count": null,
   "metadata": {},
   "outputs": [],
   "source": [
    "import re\n",
    "\n",
    "def extract(s):\n",
    "    pattern = r\"\\ \\w*\\.\"\n",
    "    match = re.search(pattern, s)\n",
    "    return match.group()\n",
    "\n",
    "df1[\"Name_Title\"] = df1[\"Name\"].apply(extract)"
   ]
  }
 ],
 "metadata": {
  "kernelspec": {
   "display_name": "Python 3",
   "language": "python",
   "name": "python3"
  },
  "language_info": {
   "codemirror_mode": {
    "name": "ipython",
    "version": 3
   },
   "file_extension": ".py",
   "mimetype": "text/x-python",
   "name": "python",
   "nbconvert_exporter": "python",
   "pygments_lexer": "ipython3",
   "version": "3.7.3"
  }
 },
 "nbformat": 4,
 "nbformat_minor": 2
}
