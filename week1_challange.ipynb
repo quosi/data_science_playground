{
 "cells": [
  {
   "cell_type": "markdown",
   "metadata": {},
   "source": [
    "\n",
    "# Week-1 Challange"
   ]
  },
  {
   "cell_type": "code",
   "execution_count": null,
   "metadata": {},
   "outputs": [],
   "source": [
    "import pandas as pd\n",
    "%matplotlib inline\n",
    "fert=pd.read_csv('gapminder_total_fertility.csv', index_col=0)\n",
    "life=pd.read_excel('gapminder_lifeexpectancy.xlsx', index_col=0)\n",
    "print(fert.shape,life.shape)"
   ]
  },
  {
   "cell_type": "code",
   "execution_count": null,
   "metadata": {},
   "outputs": [],
   "source": [
    "#step 4\n",
    "ncol = [int(x) for x in fert.columns]\n",
    "fert.set_axis(axis=1, labels=ncol, inplace=True)\n",
    "fert.columns, life.columns"
   ]
  },
  {
   "cell_type": "code",
   "execution_count": null,
   "metadata": {},
   "outputs": [],
   "source": [
    "# step 5\n",
    "sfert=fert.stack()\n",
    "slife=life.stack()\n",
    "d={'fertility': sfert, 'lifeexp': slife}\n",
    "df2=pd.DataFrame(data=d)\n",
    "df2.head()"
   ]
  },
  {
   "cell_type": "code",
   "execution_count": null,
   "metadata": {},
   "outputs": [],
   "source": [
    "# step 6\n",
    "population=pd.read_excel('gapminder_population.xlsx', index_col=0)\n",
    "spopulation=population.stack()\n",
    "d.update({'population':spopulation/10000000})\n",
    "df2 = pd.DataFrame(data=d)"
   ]
  },
  {
   "cell_type": "code",
   "execution_count": null,
   "metadata": {},
   "outputs": [],
   "source": [
    "# step 7\n",
    "df3 = df2.stack()\n",
    "df4 = df3.unstack((0,2))\n",
    "import pylab as plt\n",
    "df4[['Germany', 'France', 'Sweden']].plot()\n",
    "df4['Germany'].head(20)"
   ]
  },
  {
   "cell_type": "code",
   "execution_count": null,
   "metadata": {},
   "outputs": [],
   "source": [
    "df5 = df3.unstack(2)\n",
    "df5.plot.scatter('fertility', 'lifeexp', s=0.1)\n",
    "df5"
   ]
  },
  {
   "cell_type": "code",
   "execution_count": null,
   "metadata": {},
   "outputs": [],
   "source": [
    "df6 = df3.unstack(1)\n",
    "df6 = df6[1950]\n",
    "df6 = df6.unstack(1)\n",
    "df6.plot.scatter('fertility', 'lifeexp', s=5)"
   ]
  },
  {
   "cell_type": "code",
   "execution_count": null,
   "metadata": {},
   "outputs": [],
   "source": [
    "cmap = plt.get_cmap('tab20', lut = len(df6)).colors\n",
    "df6.plot.scatter('fertility', 'lifeexp', s=5, c=cmap)\n",
    "df6"
   ]
  },
  {
   "cell_type": "code",
   "execution_count": null,
   "metadata": {},
   "outputs": [],
   "source": [
    "df6.plot.scatter('fertility', 'lifeexp', s=df6['population']*10)"
   ]
  },
  {
   "cell_type": "code",
   "execution_count": null,
   "metadata": {},
   "outputs": [],
   "source": [
    "import imageio\n",
    "import numpy as np\n",
    "import pandas as pd\n",
    "import matplotlib.pyplot as plt\n",
    "df7=df3.unstack(1)\n",
    "years=list(population.columns)\n",
    "images=[]\n",
    "#for y in years:\n",
    "for y in range(years[0],years[-1]+1,20): # increasing the steps for loop to make it faster\n",
    "   df8 = df7[y]\n",
    "   df8 = df8.unstack(1)\n",
    "   df8.plot.scatter(\"fertility\", \"lifeexp\", s=df8['population']*10, c=cmap)\n",
    "   plt.title(\"Relation between Life Exp and Fert. in Year {0}\".format(y))\n",
    "   plt.axis((1,9,0,90))\n",
    "   plt.savefig(\"lifeexp_{0}.png\".format(y))\n",
    "   ### Use imageio to read the file we just saved, convert it to an array and append it to a list\n",
    "   im=imageio.imread(f\"lifeexp_{y}.png\")\n",
    "   images.append(im)\n",
    "   plt.figure()\n",
    "   imageio.mimsave(\"life_exp.gif\",images, fps=2)"
   ]
  },
  {
   "cell_type": "code",
   "execution_count": null,
   "metadata": {},
   "outputs": [],
   "source": []
  }
 ],
 "metadata": {
  "kernelspec": {
   "display_name": "Python 3",
   "language": "python",
   "name": "python3"
  },
  "language_info": {
   "codemirror_mode": {
    "name": "ipython",
    "version": 3
   },
   "file_extension": ".py",
   "mimetype": "text/x-python",
   "name": "python",
   "nbconvert_exporter": "python",
   "pygments_lexer": "ipython3",
   "version": "3.7.2"
  }
 },
 "nbformat": 4,
 "nbformat_minor": 4
}
