{
 "cells": [
  {
   "cell_type": "markdown",
   "metadata": {},
   "source": [
    "# Matplot Example"
   ]
  },
  {
   "cell_type": "code",
   "execution_count": null,
   "metadata": {},
   "outputs": [],
   "source": [
    "import numpy as np\n",
    "import pandas as pd\n",
    "import matplotlib.pyplot as plt\n",
    "x=list(range(-10,11))\n",
    "y=[]\n",
    "for i in x:\n",
    "    y.append(i*i)\n",
    "\n",
    "#one line version\n",
    "#y=[i**2 for i in x]\n",
    "#Lambda function method\n",
    "#y=[lambda i: i**2 for i in x]\n",
    "\n",
    "plt.plot(x,y, c=\"green\")\n",
    "plt.title(\"polynomial $y=x^2$\")\n"
   ]
  },
  {
   "cell_type": "markdown",
   "metadata": {},
   "source": [
    "# Plot directly from a Pandas DataFrame"
   ]
  },
  {
   "cell_type": "code",
   "execution_count": null,
   "metadata": {},
   "outputs": [],
   "source": [
    "import pandas as pd\n",
    "#One way\n",
    "#input=[x,y]\n",
    "#input=pd.DataFrame(input).transpose\n",
    "#Another way\n",
    "df=pd.DataFrame(data=y,index=x)\n",
    "df.plot(legend=None)\n"
   ]
  },
  {
   "cell_type": "markdown",
   "metadata": {},
   "source": [
    "# Making an animated plot"
   ]
  },
  {
   "cell_type": "code",
   "execution_count": null,
   "metadata": {
    "scrolled": true
   },
   "outputs": [],
   "source": [
    "df=pd.read_excel(\"/home/spiced/Downloads/gapminder_lifeexpectancy.xlsx\")\n",
    "df.set_index(\"Life expectancy\", inplace=True)\n",
    "year=1800\n",
    "avg_life=int(df[year].mean())\n",
    "\n",
    "#histogram for the year 1800\n",
    "\n",
    "df[year].hist()\n",
    "#plt.title(\"Year: {0}, Avg. Life Exp: {1}\".format(year, avg_life)) ### .format() way\n",
    "plt.title(f\"Year: {year}, Avg. Life Exp: {avg_life}\") ### f-string way\n",
    "plt.savefig(f\"frame_{year}.png\")"
   ]
  },
  {
   "cell_type": "code",
   "execution_count": null,
   "metadata": {
    "scrolled": false
   },
   "outputs": [],
   "source": [
    "import imageio\n",
    "import numpy as np\n",
    "import pandas as pd\n",
    "import matplotlib.pyplot as plt\n",
    "df=pd.read_excel(\"/home/spiced/Downloads/gapminder_lifeexpectancy.xlsx\")\n",
    "df.set_index(\"Life expectancy\", inplace=True)\n",
    "\n",
    "#step 1: Create a list of numbers from 1800 to 2016\n",
    "years=list(df.columns)\n",
    "\n",
    "images=[]\n",
    "#for y in years:\n",
    "for y in range(years[0],years[-1]+1,20): # increasing the steps for loop to make it faster\n",
    "    avg_life=round(df[y].mean())\n",
    "    df[y].hist()\n",
    "    #plt.title(\"Year: {0}, Avg. Life Exp: {1}\".format(year, avg_life)) ### .format() way\n",
    "    plt.title(f\"Year: {y}, Avg. Life Exp: {avg_life}\") ### f-string way\n",
    "    plt.axis([0,100,0,100])\n",
    "    plt.savefig(f\"frame_{y}.png\")\n",
    "    \n",
    "    ### Use imageio to read the file we just saved, convert it to an array and append it to a list\n",
    "    im=imageio.imread(f\"frame_{y}.png\")\n",
    "    images.append(im)\n",
    "    plt.figure()\n",
    "    imageio.mimsave(\"life_expectancy.gif\",images, fps=2)"
   ]
  },
  {
   "cell_type": "markdown",
   "metadata": {},
   "source": [
    "# Afternoon Course with Kristian"
   ]
  },
  {
   "cell_type": "code",
   "execution_count": null,
   "metadata": {},
   "outputs": [],
   "source": [
    "import pandas as pd\n",
    "df=pd.DataFrame({\n",
    "    'names':['Justin','Diana','Carolina','Anita','Nadja',\n",
    "             'Heiki','Felix','Tolga','Artem','Josue','Kristian'],\n",
    "    'country':['USA','Armenia','Brazil','Nigeria','Germany',\n",
    "              'Germany','Germany','Turkey','Russia','USA','Finland'],\n",
    "    'last_name':['B','M','C','O','A',\n",
    "                'Q','F','S','P','M','R']\n",
    "})"
   ]
  },
  {
   "cell_type": "code",
   "execution_count": null,
   "metadata": {},
   "outputs": [],
   "source": [
    "df.head()"
   ]
  },
  {
   "cell_type": "code",
   "execution_count": null,
   "metadata": {},
   "outputs": [],
   "source": [
    "df2.loc[['Felix','Diana']]"
   ]
  },
  {
   "cell_type": "markdown",
   "metadata": {},
   "source": [
    "# Move one column to the index"
   ]
  },
  {
   "cell_type": "code",
   "execution_count": null,
   "metadata": {},
   "outputs": [],
   "source": [
    "#set index \n",
    "df2=df.set_index('names')\n",
    "df2.head(3)"
   ]
  },
  {
   "cell_type": "markdown",
   "metadata": {},
   "source": [
    "# Move index to a column"
   ]
  },
  {
   "cell_type": "code",
   "execution_count": null,
   "metadata": {},
   "outputs": [],
   "source": [
    "#df2.reset_index(inplace='True') #repeats adding new columns each time you run\n",
    "df3=df2.reset_index() # another and more proper way of changing the index\n",
    "df3.head(3)"
   ]
  },
  {
   "cell_type": "markdown",
   "metadata": {},
   "source": [
    "# Groupby function\n",
    "\n",
    "groupby consists of 3 parts:\n",
    "\n",
    "* column(s) to group by\n",
    "* column(s) that you select\n",
    "* aggregation function"
   ]
  },
  {
   "cell_type": "code",
   "execution_count": null,
   "metadata": {
    "scrolled": true
   },
   "outputs": [],
   "source": [
    "df2.groupby('country')[['last_name']].count() #pay attention to single/double brackets difference"
   ]
  },
  {
   "cell_type": "code",
   "execution_count": null,
   "metadata": {},
   "outputs": [],
   "source": [
    "df2['nchars']=df['names'].str.len().values #without 'values' part it can work only when \n",
    "# the index column is default. otherwise, it cannot recognize the index to assigned and doesnt work.\n",
    "# in our case we assigned the names as index, that is why we use '.values' part of the function\n",
    "df2.head(3)"
   ]
  },
  {
   "cell_type": "code",
   "execution_count": null,
   "metadata": {},
   "outputs": [],
   "source": [
    "df2.groupby('country')[['nchars']].mean()\n",
    "df2.groupby('country')[['nchars']].describe()"
   ]
  },
  {
   "cell_type": "markdown",
   "metadata": {},
   "source": [
    "# Create a two-part index (hierarchical index)"
   ]
  },
  {
   "cell_type": "code",
   "execution_count": null,
   "metadata": {},
   "outputs": [],
   "source": [
    "df5=df2.groupby(['nchars','country'])[['last_name']].count()\n",
    "df5"
   ]
  },
  {
   "cell_type": "code",
   "execution_count": null,
   "metadata": {},
   "outputs": [],
   "source": [
    "df5.loc[[(8,'Finland')]] # one way to use tuples to call the element of the grouped \n",
    "#dataframe with multiple indexes (tuples can contain more than 2 elements)\n"
   ]
  },
  {
   "cell_type": "markdown",
   "metadata": {},
   "source": [
    "# Long and Wide data format"
   ]
  },
  {
   "cell_type": "code",
   "execution_count": null,
   "metadata": {},
   "outputs": [],
   "source": [
    "# to see the figure after running the code, we have to add next line at the beginnings of our codes everytime!\n",
    "%matplotlib inline \n",
    "df6=df5.unstack().fillna(0.0).astype(int)['last_name'] # '.fillna() func. is changing the 'Nan' values with '0.0'\n",
    "# 'astype(int) convert values from float to int'\n",
    "df6.plot.bar()"
   ]
  },
  {
   "cell_type": "code",
   "execution_count": null,
   "metadata": {},
   "outputs": [],
   "source": [
    "df7=df5.unstack(0).fillna(0.0).astype(int) # '.fillna() func. is changing the 'Nan' values with '0.0'\n",
    "# 'astype(int) convert values from float to int'\n",
    "# assigning number to unstack() changes the 'shape' of the dataframe respect to the number of\n",
    "# groupby parameters. in this case we used two columns respectly to groupby and we can use 0 or 1\n",
    "# for unstacking. number indexing for unstack() is from left to right (opposite way of axis assigning) because\n",
    "# the last group is (smallest) is written at the last in groupby() function\n",
    "#if we group by respect to 4 parameters, we can use 0,1,2 or 3 for unstacking.\n",
    "df7.plot.bar() # pay attention to the difference between the label titles between to figures!!!!"
   ]
  }
 ],
 "metadata": {
  "kernelspec": {
   "display_name": "Python 3",
   "language": "python",
   "name": "python3"
  },
  "language_info": {
   "codemirror_mode": {
    "name": "ipython",
    "version": 3
   },
   "file_extension": ".py",
   "mimetype": "text/x-python",
   "name": "python",
   "nbconvert_exporter": "python",
   "pygments_lexer": "ipython3",
   "version": "3.7.1"
  }
 },
 "nbformat": 4,
 "nbformat_minor": 2
}
