{
 "cells": [
  {
   "cell_type": "code",
   "execution_count": 1,
   "metadata": {},
   "outputs": [],
   "source": [
    "import pandas as pd\n",
    "import numpy as np\n",
    "import os\n",
    "import requests\n",
    "%matplotlib inline"
   ]
  },
  {
   "cell_type": "code",
   "execution_count": 7,
   "metadata": {},
   "outputs": [],
   "source": [
    "SECRET_KEY = '7919e844125a5fb5e772a0dcd58ff31a'\n",
    "LATITUDE = '69.649208'\n",
    "LONGITUDE = '18.955324'\n",
    "TIMESTAMP = '1357002001' #seconds\n",
    "#if I want the next day, I need to add 86400 to the timestamp\n",
    "\n",
    "timestamps = []\n",
    "\n",
    "for i in range(2555): #arbitrary range\n",
    "    \n",
    "    t = 1357002001 + i*86400\n",
    "    timestamps.append(str(t))\n",
    "\n",
    "\t\n",
    "dfs = []\n",
    "\n",
    "for t in timestamps:\n",
    "\n",
    "    url = f'https://api.darksky.net/forecast/7919e844125a5fb5e772a0dcd58ff31a/69.649208,18.955324,{t}'\n",
    "    result = requests.get(url)\n",
    "    result_json = result.json()\n",
    "    final_result = pd.DataFrame(result_json['daily']['data'])\n",
    "    dfs.append(final_result)"
   ]
  },
  {
   "cell_type": "code",
   "execution_count": 14,
   "metadata": {},
   "outputs": [
    {
     "data": {
      "text/plain": [
       "list"
      ]
     },
     "execution_count": 14,
     "metadata": {},
     "output_type": "execute_result"
    }
   ],
   "source": [
    "type(dfs)"
   ]
  },
  {
   "cell_type": "code",
   "execution_count": 25,
   "metadata": {},
   "outputs": [
    {
     "name": "stderr",
     "output_type": "stream",
     "text": [
      "/Library/Frameworks/Python.framework/Versions/3.7/lib/python3.7/site-packages/ipykernel_launcher.py:1: FutureWarning: Sorting because non-concatenation axis is not aligned. A future version\n",
      "of pandas will change to not sort by default.\n",
      "\n",
      "To accept the future behavior, pass 'sort=False'.\n",
      "\n",
      "To retain the current behavior and silence the warning, pass 'sort=True'.\n",
      "\n",
      "  \"\"\"Entry point for launching an IPython kernel.\n"
     ]
    },
    {
     "data": {
      "text/plain": [
       "2555"
      ]
     },
     "execution_count": 25,
     "metadata": {},
     "output_type": "execute_result"
    }
   ],
   "source": [
    "df1 = pd.concat(dfs)\n",
    "len(df1)"
   ]
  },
  {
   "cell_type": "code",
   "execution_count": 27,
   "metadata": {},
   "outputs": [
    {
     "data": {
      "text/plain": [
       "Index(['apparentTemperatureHigh', 'apparentTemperatureHighTime',\n",
       "       'apparentTemperatureLow', 'apparentTemperatureLowTime',\n",
       "       'apparentTemperatureMax', 'apparentTemperatureMaxTime',\n",
       "       'apparentTemperatureMin', 'apparentTemperatureMinTime', 'cloudCover',\n",
       "       'cloudCoverError', 'dewPoint', 'dewPointError', 'humidity', 'icon',\n",
       "       'moonPhase', 'ozone', 'precipAccumulation', 'precipIntensity',\n",
       "       'precipIntensityError', 'precipIntensityMax', 'precipIntensityMaxError',\n",
       "       'precipIntensityMaxTime', 'precipProbability', 'precipProbabilityError',\n",
       "       'precipType', 'pressure', 'pressureError', 'summary', 'sunriseTime',\n",
       "       'sunsetTime', 'temperatureHigh', 'temperatureHighError',\n",
       "       'temperatureHighTime', 'temperatureLow', 'temperatureLowError',\n",
       "       'temperatureLowTime', 'temperatureMax', 'temperatureMaxError',\n",
       "       'temperatureMaxTime', 'temperatureMin', 'temperatureMinError',\n",
       "       'temperatureMinTime', 'time', 'uvIndex', 'uvIndexTime', 'visibility',\n",
       "       'windBearing', 'windBearingError', 'windGust', 'windGustTime',\n",
       "       'windSpeed', 'windSpeedError'],\n",
       "      dtype='object')"
      ]
     },
     "execution_count": 27,
     "metadata": {},
     "output_type": "execute_result"
    }
   ],
   "source": [
    "df1.columns"
   ]
  },
  {
   "cell_type": "code",
   "execution_count": 28,
   "metadata": {},
   "outputs": [],
   "source": [
    "df1.to_csv(r'tromso_dark_sky.csv')"
   ]
  },
  {
   "cell_type": "code",
   "execution_count": null,
   "metadata": {},
   "outputs": [],
   "source": []
  }
 ],
 "metadata": {
  "kernelspec": {
   "display_name": "Python 3",
   "language": "python",
   "name": "python3"
  },
  "language_info": {
   "codemirror_mode": {
    "name": "ipython",
    "version": 3
   },
   "file_extension": ".py",
   "mimetype": "text/x-python",
   "name": "python",
   "nbconvert_exporter": "python",
   "pygments_lexer": "ipython3",
   "version": "3.7.1"
  }
 },
 "nbformat": 4,
 "nbformat_minor": 2
}
