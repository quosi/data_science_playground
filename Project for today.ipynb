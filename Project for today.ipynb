{
 "cells": [
  {
   "cell_type": "code",
   "execution_count": 1,
   "metadata": {},
   "outputs": [],
   "source": [
    "import pandas as pd"
   ]
  },
  {
   "cell_type": "code",
   "execution_count": 2,
   "metadata": {},
   "outputs": [],
   "source": [
    "missing_migrants = pd.read_csv('MissingMigrants-Global-2019-03-29T18-36-07.csv')"
   ]
  },
  {
   "cell_type": "code",
   "execution_count": 183,
   "metadata": {},
   "outputs": [
    {
     "data": {
      "text/html": [
       "<div>\n",
       "<style scoped>\n",
       "    .dataframe tbody tr th:only-of-type {\n",
       "        vertical-align: middle;\n",
       "    }\n",
       "\n",
       "    .dataframe tbody tr th {\n",
       "        vertical-align: top;\n",
       "    }\n",
       "\n",
       "    .dataframe thead th {\n",
       "        text-align: right;\n",
       "    }\n",
       "</style>\n",
       "<table border=\"1\" class=\"dataframe\">\n",
       "  <thead>\n",
       "    <tr style=\"text-align: right;\">\n",
       "      <th></th>\n",
       "      <th>Web ID</th>\n",
       "      <th>Region of Incident</th>\n",
       "      <th>Reported Date</th>\n",
       "      <th>Reported Year</th>\n",
       "      <th>Reported Month</th>\n",
       "      <th>Number Dead</th>\n",
       "      <th>Minimum Estimated Number of Missing</th>\n",
       "      <th>Total Dead and Missing</th>\n",
       "      <th>Number of Survivors</th>\n",
       "      <th>Number of Females</th>\n",
       "      <th>Number of Males</th>\n",
       "      <th>Number of Children</th>\n",
       "      <th>Cause of Death</th>\n",
       "      <th>Location Description</th>\n",
       "      <th>Information Source</th>\n",
       "      <th>Location Coordinates</th>\n",
       "      <th>Migration Route</th>\n",
       "      <th>URL</th>\n",
       "      <th>UNSD Geographical Grouping</th>\n",
       "      <th>Source Quality</th>\n",
       "    </tr>\n",
       "  </thead>\n",
       "  <tbody>\n",
       "    <tr>\n",
       "      <th>0</th>\n",
       "      <td>51591</td>\n",
       "      <td>Mediterranean</td>\n",
       "      <td>March 28, 2019</td>\n",
       "      <td>2019</td>\n",
       "      <td>Mar</td>\n",
       "      <td>NaN</td>\n",
       "      <td>2.0</td>\n",
       "      <td>2</td>\n",
       "      <td>36.0</td>\n",
       "      <td>NaN</td>\n",
       "      <td>2.0</td>\n",
       "      <td>NaN</td>\n",
       "      <td>Presumed drowning</td>\n",
       "      <td>Off the coast of Chios, Greece</td>\n",
       "      <td>Hellenic Coast Guard via IOM Greece</td>\n",
       "      <td>38.362368696592, 26.172509473654</td>\n",
       "      <td>Eastern Mediterranean</td>\n",
       "      <td>NaN</td>\n",
       "      <td>Uncategorized</td>\n",
       "      <td>5</td>\n",
       "    </tr>\n",
       "    <tr>\n",
       "      <th>1</th>\n",
       "      <td>51588</td>\n",
       "      <td>Mediterranean</td>\n",
       "      <td>March 26, 2019</td>\n",
       "      <td>2019</td>\n",
       "      <td>Mar</td>\n",
       "      <td>4.0</td>\n",
       "      <td>NaN</td>\n",
       "      <td>4</td>\n",
       "      <td>11.0</td>\n",
       "      <td>3.0</td>\n",
       "      <td>NaN</td>\n",
       "      <td>1.0</td>\n",
       "      <td>Presumed drowning</td>\n",
       "      <td>Off the coast of Ayvacık district, Çanakkale p...</td>\n",
       "      <td>Turkish Coast Guard via IOM Turkey</td>\n",
       "      <td>39.441975591614, 26.378816195919</td>\n",
       "      <td>Eastern Mediterranean</td>\n",
       "      <td>http://bit.ly/2YmiPAN</td>\n",
       "      <td>Uncategorized</td>\n",
       "      <td>5</td>\n",
       "    </tr>\n",
       "  </tbody>\n",
       "</table>\n",
       "</div>"
      ],
      "text/plain": [
       "   Web ID Region of Incident   Reported Date  Reported Year Reported Month  \\\n",
       "0   51591      Mediterranean  March 28, 2019           2019            Mar   \n",
       "1   51588      Mediterranean  March 26, 2019           2019            Mar   \n",
       "\n",
       "   Number Dead  Minimum Estimated Number of Missing  Total Dead and Missing  \\\n",
       "0          NaN                                  2.0                       2   \n",
       "1          4.0                                  NaN                       4   \n",
       "\n",
       "   Number of Survivors  Number of Females  Number of Males  \\\n",
       "0                 36.0                NaN              2.0   \n",
       "1                 11.0                3.0              NaN   \n",
       "\n",
       "   Number of Children     Cause of Death  \\\n",
       "0                 NaN  Presumed drowning   \n",
       "1                 1.0  Presumed drowning   \n",
       "\n",
       "                                Location Description  \\\n",
       "0                     Off the coast of Chios, Greece   \n",
       "1  Off the coast of Ayvacık district, Çanakkale p...   \n",
       "\n",
       "                    Information Source              Location Coordinates  \\\n",
       "0  Hellenic Coast Guard via IOM Greece  38.362368696592, 26.172509473654   \n",
       "1   Turkish Coast Guard via IOM Turkey  39.441975591614, 26.378816195919   \n",
       "\n",
       "         Migration Route                    URL UNSD Geographical Grouping  \\\n",
       "0  Eastern Mediterranean                    NaN              Uncategorized   \n",
       "1  Eastern Mediterranean  http://bit.ly/2YmiPAN              Uncategorized   \n",
       "\n",
       "   Source Quality  \n",
       "0               5  \n",
       "1               5  "
      ]
     },
     "execution_count": 183,
     "metadata": {},
     "output_type": "execute_result"
    }
   ],
   "source": [
    "missing_migrants.head(2)"
   ]
  },
  {
   "cell_type": "code",
   "execution_count": 220,
   "metadata": {},
   "outputs": [],
   "source": [
    "med_mgs = missing_migrants[missing_migrants['Region of Incident'] == 'Mediterranean']"
   ]
  },
  {
   "cell_type": "code",
   "execution_count": 221,
   "metadata": {},
   "outputs": [
    {
     "data": {
      "text/plain": [
       "<matplotlib.axes._subplots.AxesSubplot at 0x13f1787f0>"
      ]
     },
     "execution_count": 221,
     "metadata": {},
     "output_type": "execute_result"
    },
    {
     "data": {
      "image/png": "[encoded data removed]",
      "text/plain": [
       "<Figure size 432x288 with 1 Axes>"
      ]
     },
     "metadata": {
      "needs_background": "light"
     },
     "output_type": "display_data"
    }
   ],
   "source": [
    "med_mgs.groupby('Reported Year')['Number Dead', 'Number of Survivors', \n",
    "                                 'Minimum Estimated Number of Missing'].sum().plot()"
   ]
  },
  {
   "cell_type": "code",
   "execution_count": 223,
   "metadata": {},
   "outputs": [
    {
     "data": {
      "text/plain": [
       "6114.0"
      ]
     },
     "execution_count": 223,
     "metadata": {},
     "output_type": "execute_result"
    }
   ],
   "source": [
    "med_mgs['Number Dead'].sum()"
   ]
  },
  {
   "cell_type": "code",
   "execution_count": 244,
   "metadata": {},
   "outputs": [
    {
     "data": {
      "text/plain": [
       "40336.0"
      ]
     },
     "execution_count": 244,
     "metadata": {},
     "output_type": "execute_result"
    }
   ],
   "source": [
    "med_mgs['Number of Survivors'].sum()"
   ]
  },
  {
   "cell_type": "code",
   "execution_count": null,
   "metadata": {},
   "outputs": [],
   "source": []
  }
 ],
 "metadata": {
  "kernelspec": {
   "display_name": "Python 3",
   "language": "python",
   "name": "python3"
  },
  "language_info": {
   "codemirror_mode": {
    "name": "ipython",
    "version": 3
   },
   "file_extension": ".py",
   "mimetype": "text/x-python",
   "name": "python",
   "nbconvert_exporter": "python",
   "pygments_lexer": "ipython3",
   "version": "3.7.3"
  }
 },
 "nbformat": 4,
 "nbformat_minor": 2
}
